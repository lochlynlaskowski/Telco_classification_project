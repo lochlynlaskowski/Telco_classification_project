{
 "cells": [
  {
   "cell_type": "code",
   "execution_count": 1,
   "id": "bd4e929f",
   "metadata": {},
   "outputs": [],
   "source": [
    "import pandas as pd\n",
    "import numpy as np\n",
    "import os\n",
    "import scipy.stats as stats\n",
    "\n",
    "import matplotlib.pyplot as plt\n",
    "import seaborn as sns\n",
    "\n",
    "from sklearn.model_selection import train_test_split\n",
    "\n",
    "from sklearn.tree import DecisionTreeClassifier, plot_tree, export_text\n",
    "from sklearn.ensemble import RandomForestClassifier\n",
    "from sklearn.linear_model import LogisticRegression\n",
    "from sklearn.neighbors import KNeighborsClassifier\n",
    "from sklearn.linear_model import LogisticRegression\n",
    "\n",
    "from sklearn.metrics import classification_report, confusion_matrix, accuracy_score\n",
    "\n",
    "from env import get_db_url\n",
    "import acquire\n",
    "import prepare\n",
    "\n",
    "alpha = .05"
   ]
  },
  {
   "cell_type": "markdown",
   "id": "8fcbfcb3",
   "metadata": {},
   "source": [
    "## Acquire "
   ]
  },
  {
   "cell_type": "code",
   "execution_count": 2,
   "id": "b700c41f",
   "metadata": {},
   "outputs": [],
   "source": [
    "def get_telco_data():\n",
    "\n",
    "    '''This function pulls telco data from the Codeup database and saves\n",
    "    the file as a .csv'''\n",
    "    filename = 'telco_data.csv'\n",
    "\n",
    "    if os.path.isfile(filename):\n",
    "        return pd.read_csv(filename)\n",
    "    else:\n",
    "       sql_query = '''SELECT * from customers\n",
    "                JOIN contract_types using (contract_type_id)\n",
    "                JOIN internet_service_types using (internet_service_type_id)\n",
    "                JOIN payment_types using (payment_type_id)'''\n",
    "       \n",
    "    \n",
    "    df = pd.read_sql(sql_query, get_db_url('telco_churn'))\n",
    "\n",
    "    df.to_csv(filename)\n",
    "\n",
    "    return df"
   ]
  },
  {
   "cell_type": "code",
   "execution_count": 3,
   "id": "fe87d17e",
   "metadata": {},
   "outputs": [
    {
     "data": {
      "text/html": [
       "<div>\n",
       "<style scoped>\n",
       "    .dataframe tbody tr th:only-of-type {\n",
       "        vertical-align: middle;\n",
       "    }\n",
       "\n",
       "    .dataframe tbody tr th {\n",
       "        vertical-align: top;\n",
       "    }\n",
       "\n",
       "    .dataframe thead th {\n",
       "        text-align: right;\n",
       "    }\n",
       "</style>\n",
       "<table border=\"1\" class=\"dataframe\">\n",
       "  <thead>\n",
       "    <tr style=\"text-align: right;\">\n",
       "      <th></th>\n",
       "      <th>Unnamed: 0</th>\n",
       "      <th>payment_type_id</th>\n",
       "      <th>internet_service_type_id</th>\n",
       "      <th>contract_type_id</th>\n",
       "      <th>customer_id</th>\n",
       "      <th>gender</th>\n",
       "      <th>senior_citizen</th>\n",
       "      <th>partner</th>\n",
       "      <th>dependents</th>\n",
       "      <th>tenure</th>\n",
       "      <th>...</th>\n",
       "      <th>tech_support</th>\n",
       "      <th>streaming_tv</th>\n",
       "      <th>streaming_movies</th>\n",
       "      <th>paperless_billing</th>\n",
       "      <th>monthly_charges</th>\n",
       "      <th>total_charges</th>\n",
       "      <th>churn</th>\n",
       "      <th>contract_type</th>\n",
       "      <th>internet_service_type</th>\n",
       "      <th>payment_type</th>\n",
       "    </tr>\n",
       "  </thead>\n",
       "  <tbody>\n",
       "    <tr>\n",
       "      <th>0</th>\n",
       "      <td>0</td>\n",
       "      <td>2</td>\n",
       "      <td>1</td>\n",
       "      <td>2</td>\n",
       "      <td>0002-ORFBO</td>\n",
       "      <td>Female</td>\n",
       "      <td>0</td>\n",
       "      <td>Yes</td>\n",
       "      <td>Yes</td>\n",
       "      <td>9</td>\n",
       "      <td>...</td>\n",
       "      <td>Yes</td>\n",
       "      <td>Yes</td>\n",
       "      <td>No</td>\n",
       "      <td>Yes</td>\n",
       "      <td>65.6</td>\n",
       "      <td>593.3</td>\n",
       "      <td>No</td>\n",
       "      <td>One year</td>\n",
       "      <td>DSL</td>\n",
       "      <td>Mailed check</td>\n",
       "    </tr>\n",
       "    <tr>\n",
       "      <th>1</th>\n",
       "      <td>1</td>\n",
       "      <td>2</td>\n",
       "      <td>1</td>\n",
       "      <td>1</td>\n",
       "      <td>0003-MKNFE</td>\n",
       "      <td>Male</td>\n",
       "      <td>0</td>\n",
       "      <td>No</td>\n",
       "      <td>No</td>\n",
       "      <td>9</td>\n",
       "      <td>...</td>\n",
       "      <td>No</td>\n",
       "      <td>No</td>\n",
       "      <td>Yes</td>\n",
       "      <td>No</td>\n",
       "      <td>59.9</td>\n",
       "      <td>542.4</td>\n",
       "      <td>No</td>\n",
       "      <td>Month-to-month</td>\n",
       "      <td>DSL</td>\n",
       "      <td>Mailed check</td>\n",
       "    </tr>\n",
       "    <tr>\n",
       "      <th>2</th>\n",
       "      <td>2</td>\n",
       "      <td>1</td>\n",
       "      <td>2</td>\n",
       "      <td>1</td>\n",
       "      <td>0004-TLHLJ</td>\n",
       "      <td>Male</td>\n",
       "      <td>0</td>\n",
       "      <td>No</td>\n",
       "      <td>No</td>\n",
       "      <td>4</td>\n",
       "      <td>...</td>\n",
       "      <td>No</td>\n",
       "      <td>No</td>\n",
       "      <td>No</td>\n",
       "      <td>Yes</td>\n",
       "      <td>73.9</td>\n",
       "      <td>280.85</td>\n",
       "      <td>Yes</td>\n",
       "      <td>Month-to-month</td>\n",
       "      <td>Fiber optic</td>\n",
       "      <td>Electronic check</td>\n",
       "    </tr>\n",
       "    <tr>\n",
       "      <th>3</th>\n",
       "      <td>3</td>\n",
       "      <td>1</td>\n",
       "      <td>2</td>\n",
       "      <td>1</td>\n",
       "      <td>0011-IGKFF</td>\n",
       "      <td>Male</td>\n",
       "      <td>1</td>\n",
       "      <td>Yes</td>\n",
       "      <td>No</td>\n",
       "      <td>13</td>\n",
       "      <td>...</td>\n",
       "      <td>No</td>\n",
       "      <td>Yes</td>\n",
       "      <td>Yes</td>\n",
       "      <td>Yes</td>\n",
       "      <td>98.0</td>\n",
       "      <td>1237.85</td>\n",
       "      <td>Yes</td>\n",
       "      <td>Month-to-month</td>\n",
       "      <td>Fiber optic</td>\n",
       "      <td>Electronic check</td>\n",
       "    </tr>\n",
       "    <tr>\n",
       "      <th>4</th>\n",
       "      <td>4</td>\n",
       "      <td>2</td>\n",
       "      <td>2</td>\n",
       "      <td>1</td>\n",
       "      <td>0013-EXCHZ</td>\n",
       "      <td>Female</td>\n",
       "      <td>1</td>\n",
       "      <td>Yes</td>\n",
       "      <td>No</td>\n",
       "      <td>3</td>\n",
       "      <td>...</td>\n",
       "      <td>Yes</td>\n",
       "      <td>Yes</td>\n",
       "      <td>No</td>\n",
       "      <td>Yes</td>\n",
       "      <td>83.9</td>\n",
       "      <td>267.4</td>\n",
       "      <td>Yes</td>\n",
       "      <td>Month-to-month</td>\n",
       "      <td>Fiber optic</td>\n",
       "      <td>Mailed check</td>\n",
       "    </tr>\n",
       "  </tbody>\n",
       "</table>\n",
       "<p>5 rows × 25 columns</p>\n",
       "</div>"
      ],
      "text/plain": [
       "   Unnamed: 0  payment_type_id  internet_service_type_id  contract_type_id  \\\n",
       "0           0                2                         1                 2   \n",
       "1           1                2                         1                 1   \n",
       "2           2                1                         2                 1   \n",
       "3           3                1                         2                 1   \n",
       "4           4                2                         2                 1   \n",
       "\n",
       "  customer_id  gender  senior_citizen partner dependents  tenure  ...  \\\n",
       "0  0002-ORFBO  Female               0     Yes        Yes       9  ...   \n",
       "1  0003-MKNFE    Male               0      No         No       9  ...   \n",
       "2  0004-TLHLJ    Male               0      No         No       4  ...   \n",
       "3  0011-IGKFF    Male               1     Yes         No      13  ...   \n",
       "4  0013-EXCHZ  Female               1     Yes         No       3  ...   \n",
       "\n",
       "  tech_support streaming_tv streaming_movies paperless_billing  \\\n",
       "0          Yes          Yes               No               Yes   \n",
       "1           No           No              Yes                No   \n",
       "2           No           No               No               Yes   \n",
       "3           No          Yes              Yes               Yes   \n",
       "4          Yes          Yes               No               Yes   \n",
       "\n",
       "  monthly_charges total_charges churn   contract_type internet_service_type  \\\n",
       "0            65.6         593.3    No        One year                   DSL   \n",
       "1            59.9         542.4    No  Month-to-month                   DSL   \n",
       "2            73.9        280.85   Yes  Month-to-month           Fiber optic   \n",
       "3            98.0       1237.85   Yes  Month-to-month           Fiber optic   \n",
       "4            83.9         267.4   Yes  Month-to-month           Fiber optic   \n",
       "\n",
       "       payment_type  \n",
       "0      Mailed check  \n",
       "1      Mailed check  \n",
       "2  Electronic check  \n",
       "3  Electronic check  \n",
       "4      Mailed check  \n",
       "\n",
       "[5 rows x 25 columns]"
      ]
     },
     "execution_count": 3,
     "metadata": {},
     "output_type": "execute_result"
    }
   ],
   "source": [
    "df = acquire.get_telco_data()\n",
    "df.head()"
   ]
  },
  {
   "cell_type": "markdown",
   "id": "23591fd2",
   "metadata": {},
   "source": [
    "## Prepare "
   ]
  },
  {
   "cell_type": "code",
   "execution_count": 4,
   "id": "8b168f39",
   "metadata": {},
   "outputs": [],
   "source": [
    "# replace empty cells with nulls\n",
    "df = df.replace(' ', np.nan)"
   ]
  },
  {
   "cell_type": "code",
   "execution_count": 5,
   "id": "5d5b36ab",
   "metadata": {},
   "outputs": [
    {
     "data": {
      "text/plain": [
       "Unnamed: 0                   0\n",
       "payment_type_id              0\n",
       "internet_service_type_id     0\n",
       "contract_type_id             0\n",
       "customer_id                  0\n",
       "gender                       0\n",
       "senior_citizen               0\n",
       "partner                      0\n",
       "dependents                   0\n",
       "tenure                       0\n",
       "phone_service                0\n",
       "multiple_lines               0\n",
       "online_security              0\n",
       "online_backup                0\n",
       "device_protection            0\n",
       "tech_support                 0\n",
       "streaming_tv                 0\n",
       "streaming_movies             0\n",
       "paperless_billing            0\n",
       "monthly_charges              0\n",
       "total_charges               11\n",
       "churn                        0\n",
       "contract_type                0\n",
       "internet_service_type        0\n",
       "payment_type                 0\n",
       "dtype: int64"
      ]
     },
     "execution_count": 5,
     "metadata": {},
     "output_type": "execute_result"
    }
   ],
   "source": [
    "# check df for nulls\n",
    "df.isna().sum()"
   ]
  },
  {
   "cell_type": "code",
   "execution_count": 6,
   "id": "e1679343",
   "metadata": {},
   "outputs": [],
   "source": [
    "# drop 11 nulls from total_charges\n",
    "df.dropna(inplace=True)"
   ]
  },
  {
   "cell_type": "code",
   "execution_count": 7,
   "id": "314cf7e8",
   "metadata": {},
   "outputs": [
    {
     "data": {
      "text/plain": [
       "Unnamed: 0                  0\n",
       "payment_type_id             0\n",
       "internet_service_type_id    0\n",
       "contract_type_id            0\n",
       "customer_id                 0\n",
       "gender                      0\n",
       "senior_citizen              0\n",
       "partner                     0\n",
       "dependents                  0\n",
       "tenure                      0\n",
       "phone_service               0\n",
       "multiple_lines              0\n",
       "online_security             0\n",
       "online_backup               0\n",
       "device_protection           0\n",
       "tech_support                0\n",
       "streaming_tv                0\n",
       "streaming_movies            0\n",
       "paperless_billing           0\n",
       "monthly_charges             0\n",
       "total_charges               0\n",
       "churn                       0\n",
       "contract_type               0\n",
       "internet_service_type       0\n",
       "payment_type                0\n",
       "dtype: int64"
      ]
     },
     "execution_count": 7,
     "metadata": {},
     "output_type": "execute_result"
    }
   ],
   "source": [
    "# check df for nulls\n",
    "df.isna().sum()"
   ]
  },
  {
   "cell_type": "code",
   "execution_count": 8,
   "id": "1bf69a3d",
   "metadata": {},
   "outputs": [
    {
     "name": "stdout",
     "output_type": "stream",
     "text": [
      "<class 'pandas.core.frame.DataFrame'>\n",
      "Int64Index: 7032 entries, 0 to 7042\n",
      "Data columns (total 25 columns):\n",
      " #   Column                    Non-Null Count  Dtype  \n",
      "---  ------                    --------------  -----  \n",
      " 0   Unnamed: 0                7032 non-null   int64  \n",
      " 1   payment_type_id           7032 non-null   int64  \n",
      " 2   internet_service_type_id  7032 non-null   int64  \n",
      " 3   contract_type_id          7032 non-null   int64  \n",
      " 4   customer_id               7032 non-null   object \n",
      " 5   gender                    7032 non-null   object \n",
      " 6   senior_citizen            7032 non-null   int64  \n",
      " 7   partner                   7032 non-null   object \n",
      " 8   dependents                7032 non-null   object \n",
      " 9   tenure                    7032 non-null   int64  \n",
      " 10  phone_service             7032 non-null   object \n",
      " 11  multiple_lines            7032 non-null   object \n",
      " 12  online_security           7032 non-null   object \n",
      " 13  online_backup             7032 non-null   object \n",
      " 14  device_protection         7032 non-null   object \n",
      " 15  tech_support              7032 non-null   object \n",
      " 16  streaming_tv              7032 non-null   object \n",
      " 17  streaming_movies          7032 non-null   object \n",
      " 18  paperless_billing         7032 non-null   object \n",
      " 19  monthly_charges           7032 non-null   float64\n",
      " 20  total_charges             7032 non-null   object \n",
      " 21  churn                     7032 non-null   object \n",
      " 22  contract_type             7032 non-null   object \n",
      " 23  internet_service_type     7032 non-null   object \n",
      " 24  payment_type              7032 non-null   object \n",
      "dtypes: float64(1), int64(6), object(18)\n",
      "memory usage: 1.4+ MB\n"
     ]
    }
   ],
   "source": [
    "df.info()"
   ]
  },
  {
   "cell_type": "code",
   "execution_count": 9,
   "id": "f00fe590",
   "metadata": {},
   "outputs": [],
   "source": [
    "# change total_charges to float\n",
    "df['total_charges'] = pd.to_numeric(df['total_charges'])"
   ]
  },
  {
   "cell_type": "code",
   "execution_count": 10,
   "id": "10081894",
   "metadata": {},
   "outputs": [
    {
     "data": {
      "text/html": [
       "<div>\n",
       "<style scoped>\n",
       "    .dataframe tbody tr th:only-of-type {\n",
       "        vertical-align: middle;\n",
       "    }\n",
       "\n",
       "    .dataframe tbody tr th {\n",
       "        vertical-align: top;\n",
       "    }\n",
       "\n",
       "    .dataframe thead th {\n",
       "        text-align: right;\n",
       "    }\n",
       "</style>\n",
       "<table border=\"1\" class=\"dataframe\">\n",
       "  <thead>\n",
       "    <tr style=\"text-align: right;\">\n",
       "      <th></th>\n",
       "      <th>count</th>\n",
       "      <th>mean</th>\n",
       "      <th>std</th>\n",
       "      <th>min</th>\n",
       "      <th>25%</th>\n",
       "      <th>50%</th>\n",
       "      <th>75%</th>\n",
       "      <th>max</th>\n",
       "    </tr>\n",
       "  </thead>\n",
       "  <tbody>\n",
       "    <tr>\n",
       "      <th>Unnamed: 0</th>\n",
       "      <td>7032.0</td>\n",
       "      <td>3522.306314</td>\n",
       "      <td>2034.073173</td>\n",
       "      <td>0.00</td>\n",
       "      <td>1759.7500</td>\n",
       "      <td>3524.500</td>\n",
       "      <td>5283.2500</td>\n",
       "      <td>7042.00</td>\n",
       "    </tr>\n",
       "    <tr>\n",
       "      <th>payment_type_id</th>\n",
       "      <td>7032.0</td>\n",
       "      <td>2.315557</td>\n",
       "      <td>1.149523</td>\n",
       "      <td>1.00</td>\n",
       "      <td>1.0000</td>\n",
       "      <td>2.000</td>\n",
       "      <td>3.0000</td>\n",
       "      <td>4.00</td>\n",
       "    </tr>\n",
       "    <tr>\n",
       "      <th>internet_service_type_id</th>\n",
       "      <td>7032.0</td>\n",
       "      <td>1.872582</td>\n",
       "      <td>0.737271</td>\n",
       "      <td>1.00</td>\n",
       "      <td>1.0000</td>\n",
       "      <td>2.000</td>\n",
       "      <td>2.0000</td>\n",
       "      <td>3.00</td>\n",
       "    </tr>\n",
       "    <tr>\n",
       "      <th>contract_type_id</th>\n",
       "      <td>7032.0</td>\n",
       "      <td>1.688567</td>\n",
       "      <td>0.832934</td>\n",
       "      <td>1.00</td>\n",
       "      <td>1.0000</td>\n",
       "      <td>1.000</td>\n",
       "      <td>2.0000</td>\n",
       "      <td>3.00</td>\n",
       "    </tr>\n",
       "    <tr>\n",
       "      <th>senior_citizen</th>\n",
       "      <td>7032.0</td>\n",
       "      <td>0.162400</td>\n",
       "      <td>0.368844</td>\n",
       "      <td>0.00</td>\n",
       "      <td>0.0000</td>\n",
       "      <td>0.000</td>\n",
       "      <td>0.0000</td>\n",
       "      <td>1.00</td>\n",
       "    </tr>\n",
       "    <tr>\n",
       "      <th>tenure</th>\n",
       "      <td>7032.0</td>\n",
       "      <td>32.421786</td>\n",
       "      <td>24.545260</td>\n",
       "      <td>1.00</td>\n",
       "      <td>9.0000</td>\n",
       "      <td>29.000</td>\n",
       "      <td>55.0000</td>\n",
       "      <td>72.00</td>\n",
       "    </tr>\n",
       "    <tr>\n",
       "      <th>monthly_charges</th>\n",
       "      <td>7032.0</td>\n",
       "      <td>64.798208</td>\n",
       "      <td>30.085974</td>\n",
       "      <td>18.25</td>\n",
       "      <td>35.5875</td>\n",
       "      <td>70.350</td>\n",
       "      <td>89.8625</td>\n",
       "      <td>118.75</td>\n",
       "    </tr>\n",
       "    <tr>\n",
       "      <th>total_charges</th>\n",
       "      <td>7032.0</td>\n",
       "      <td>2283.300441</td>\n",
       "      <td>2266.771362</td>\n",
       "      <td>18.80</td>\n",
       "      <td>401.4500</td>\n",
       "      <td>1397.475</td>\n",
       "      <td>3794.7375</td>\n",
       "      <td>8684.80</td>\n",
       "    </tr>\n",
       "  </tbody>\n",
       "</table>\n",
       "</div>"
      ],
      "text/plain": [
       "                           count         mean          std    min        25%  \\\n",
       "Unnamed: 0                7032.0  3522.306314  2034.073173   0.00  1759.7500   \n",
       "payment_type_id           7032.0     2.315557     1.149523   1.00     1.0000   \n",
       "internet_service_type_id  7032.0     1.872582     0.737271   1.00     1.0000   \n",
       "contract_type_id          7032.0     1.688567     0.832934   1.00     1.0000   \n",
       "senior_citizen            7032.0     0.162400     0.368844   0.00     0.0000   \n",
       "tenure                    7032.0    32.421786    24.545260   1.00     9.0000   \n",
       "monthly_charges           7032.0    64.798208    30.085974  18.25    35.5875   \n",
       "total_charges             7032.0  2283.300441  2266.771362  18.80   401.4500   \n",
       "\n",
       "                               50%        75%      max  \n",
       "Unnamed: 0                3524.500  5283.2500  7042.00  \n",
       "payment_type_id              2.000     3.0000     4.00  \n",
       "internet_service_type_id     2.000     2.0000     3.00  \n",
       "contract_type_id             1.000     2.0000     3.00  \n",
       "senior_citizen               0.000     0.0000     1.00  \n",
       "tenure                      29.000    55.0000    72.00  \n",
       "monthly_charges             70.350    89.8625   118.75  \n",
       "total_charges             1397.475  3794.7375  8684.80  "
      ]
     },
     "execution_count": 10,
     "metadata": {},
     "output_type": "execute_result"
    }
   ],
   "source": [
    "df.describe().T"
   ]
  },
  {
   "cell_type": "code",
   "execution_count": 11,
   "id": "eaa71362",
   "metadata": {},
   "outputs": [],
   "source": [
    "# determine columns to drop\n",
    "# Unnamed: 0 (note needed)\tpayment_type_id\tinternet_service_type_id\tcontract_type_id (already in additional columns)\n",
    "df = df.drop(columns=['Unnamed: 0', 'payment_type_id', 'internet_service_type_id', 'contract_type_id'])"
   ]
  },
  {
   "cell_type": "code",
   "execution_count": 12,
   "id": "4a8c0183",
   "metadata": {},
   "outputs": [
    {
     "data": {
      "text/html": [
       "<div>\n",
       "<style scoped>\n",
       "    .dataframe tbody tr th:only-of-type {\n",
       "        vertical-align: middle;\n",
       "    }\n",
       "\n",
       "    .dataframe tbody tr th {\n",
       "        vertical-align: top;\n",
       "    }\n",
       "\n",
       "    .dataframe thead th {\n",
       "        text-align: right;\n",
       "    }\n",
       "</style>\n",
       "<table border=\"1\" class=\"dataframe\">\n",
       "  <thead>\n",
       "    <tr style=\"text-align: right;\">\n",
       "      <th></th>\n",
       "      <th>customer_id</th>\n",
       "      <th>gender</th>\n",
       "      <th>senior_citizen</th>\n",
       "      <th>partner</th>\n",
       "      <th>dependents</th>\n",
       "      <th>tenure</th>\n",
       "      <th>phone_service</th>\n",
       "      <th>multiple_lines</th>\n",
       "      <th>online_security</th>\n",
       "      <th>online_backup</th>\n",
       "      <th>...</th>\n",
       "      <th>churn</th>\n",
       "      <th>contract_type</th>\n",
       "      <th>internet_service_type</th>\n",
       "      <th>payment_type</th>\n",
       "      <th>is_female</th>\n",
       "      <th>has_partner</th>\n",
       "      <th>has_dependents</th>\n",
       "      <th>has_phone_service</th>\n",
       "      <th>has_paperless_billing</th>\n",
       "      <th>has_churned</th>\n",
       "    </tr>\n",
       "  </thead>\n",
       "  <tbody>\n",
       "    <tr>\n",
       "      <th>0</th>\n",
       "      <td>0002-ORFBO</td>\n",
       "      <td>Female</td>\n",
       "      <td>0</td>\n",
       "      <td>Yes</td>\n",
       "      <td>Yes</td>\n",
       "      <td>9</td>\n",
       "      <td>Yes</td>\n",
       "      <td>No</td>\n",
       "      <td>No</td>\n",
       "      <td>Yes</td>\n",
       "      <td>...</td>\n",
       "      <td>No</td>\n",
       "      <td>One year</td>\n",
       "      <td>DSL</td>\n",
       "      <td>Mailed check</td>\n",
       "      <td>1</td>\n",
       "      <td>1</td>\n",
       "      <td>1</td>\n",
       "      <td>1</td>\n",
       "      <td>1</td>\n",
       "      <td>0</td>\n",
       "    </tr>\n",
       "    <tr>\n",
       "      <th>1</th>\n",
       "      <td>0003-MKNFE</td>\n",
       "      <td>Male</td>\n",
       "      <td>0</td>\n",
       "      <td>No</td>\n",
       "      <td>No</td>\n",
       "      <td>9</td>\n",
       "      <td>Yes</td>\n",
       "      <td>Yes</td>\n",
       "      <td>No</td>\n",
       "      <td>No</td>\n",
       "      <td>...</td>\n",
       "      <td>No</td>\n",
       "      <td>Month-to-month</td>\n",
       "      <td>DSL</td>\n",
       "      <td>Mailed check</td>\n",
       "      <td>0</td>\n",
       "      <td>0</td>\n",
       "      <td>0</td>\n",
       "      <td>1</td>\n",
       "      <td>0</td>\n",
       "      <td>0</td>\n",
       "    </tr>\n",
       "    <tr>\n",
       "      <th>2</th>\n",
       "      <td>0004-TLHLJ</td>\n",
       "      <td>Male</td>\n",
       "      <td>0</td>\n",
       "      <td>No</td>\n",
       "      <td>No</td>\n",
       "      <td>4</td>\n",
       "      <td>Yes</td>\n",
       "      <td>No</td>\n",
       "      <td>No</td>\n",
       "      <td>No</td>\n",
       "      <td>...</td>\n",
       "      <td>Yes</td>\n",
       "      <td>Month-to-month</td>\n",
       "      <td>Fiber optic</td>\n",
       "      <td>Electronic check</td>\n",
       "      <td>0</td>\n",
       "      <td>0</td>\n",
       "      <td>0</td>\n",
       "      <td>1</td>\n",
       "      <td>1</td>\n",
       "      <td>1</td>\n",
       "    </tr>\n",
       "    <tr>\n",
       "      <th>3</th>\n",
       "      <td>0011-IGKFF</td>\n",
       "      <td>Male</td>\n",
       "      <td>1</td>\n",
       "      <td>Yes</td>\n",
       "      <td>No</td>\n",
       "      <td>13</td>\n",
       "      <td>Yes</td>\n",
       "      <td>No</td>\n",
       "      <td>No</td>\n",
       "      <td>Yes</td>\n",
       "      <td>...</td>\n",
       "      <td>Yes</td>\n",
       "      <td>Month-to-month</td>\n",
       "      <td>Fiber optic</td>\n",
       "      <td>Electronic check</td>\n",
       "      <td>0</td>\n",
       "      <td>1</td>\n",
       "      <td>0</td>\n",
       "      <td>1</td>\n",
       "      <td>1</td>\n",
       "      <td>1</td>\n",
       "    </tr>\n",
       "    <tr>\n",
       "      <th>4</th>\n",
       "      <td>0013-EXCHZ</td>\n",
       "      <td>Female</td>\n",
       "      <td>1</td>\n",
       "      <td>Yes</td>\n",
       "      <td>No</td>\n",
       "      <td>3</td>\n",
       "      <td>Yes</td>\n",
       "      <td>No</td>\n",
       "      <td>No</td>\n",
       "      <td>No</td>\n",
       "      <td>...</td>\n",
       "      <td>Yes</td>\n",
       "      <td>Month-to-month</td>\n",
       "      <td>Fiber optic</td>\n",
       "      <td>Mailed check</td>\n",
       "      <td>1</td>\n",
       "      <td>1</td>\n",
       "      <td>0</td>\n",
       "      <td>1</td>\n",
       "      <td>1</td>\n",
       "      <td>1</td>\n",
       "    </tr>\n",
       "  </tbody>\n",
       "</table>\n",
       "<p>5 rows × 27 columns</p>\n",
       "</div>"
      ],
      "text/plain": [
       "  customer_id  gender  senior_citizen partner dependents  tenure  \\\n",
       "0  0002-ORFBO  Female               0     Yes        Yes       9   \n",
       "1  0003-MKNFE    Male               0      No         No       9   \n",
       "2  0004-TLHLJ    Male               0      No         No       4   \n",
       "3  0011-IGKFF    Male               1     Yes         No      13   \n",
       "4  0013-EXCHZ  Female               1     Yes         No       3   \n",
       "\n",
       "  phone_service multiple_lines online_security online_backup  ... churn  \\\n",
       "0           Yes             No              No           Yes  ...    No   \n",
       "1           Yes            Yes              No            No  ...    No   \n",
       "2           Yes             No              No            No  ...   Yes   \n",
       "3           Yes             No              No           Yes  ...   Yes   \n",
       "4           Yes             No              No            No  ...   Yes   \n",
       "\n",
       "    contract_type internet_service_type      payment_type is_female  \\\n",
       "0        One year                   DSL      Mailed check         1   \n",
       "1  Month-to-month                   DSL      Mailed check         0   \n",
       "2  Month-to-month           Fiber optic  Electronic check         0   \n",
       "3  Month-to-month           Fiber optic  Electronic check         0   \n",
       "4  Month-to-month           Fiber optic      Mailed check         1   \n",
       "\n",
       "   has_partner  has_dependents has_phone_service has_paperless_billing  \\\n",
       "0            1               1                 1                     1   \n",
       "1            0               0                 1                     0   \n",
       "2            0               0                 1                     1   \n",
       "3            1               0                 1                     1   \n",
       "4            1               0                 1                     1   \n",
       "\n",
       "  has_churned  \n",
       "0           0  \n",
       "1           0  \n",
       "2           1  \n",
       "3           1  \n",
       "4           1  \n",
       "\n",
       "[5 rows x 27 columns]"
      ]
     },
     "execution_count": 12,
     "metadata": {},
     "output_type": "execute_result"
    }
   ],
   "source": [
    "# convert categorical columns to boolean\n",
    "df['is_female'] = df['gender'].map({'Female': 1, 'Male': 0})\n",
    "df['has_partner'] = df['partner'].map({'Yes': 1, 'No': 0})\n",
    "df['has_dependents'] = df['dependents'].map({'Yes': 1, 'No': 0})\n",
    "df['has_phone_service'] = df['phone_service'].map({'Yes': 1, 'No': 0})\n",
    "df['has_paperless_billing'] = df['paperless_billing'].map({'Yes': 1, 'No': 0})\n",
    "df['has_churned'] = df['churn'].map({'Yes': 1, 'No': 0})\n",
    "\n",
    "df.head()"
   ]
  },
  {
   "cell_type": "code",
   "execution_count": 13,
   "id": "0ee60c2b",
   "metadata": {},
   "outputs": [],
   "source": [
    "dummy_df = pd.get_dummies(df[['contract_type','internet_service_type', 'payment_type',\\\n",
    "                              'multiple_lines', 'online_security', 'online_backup',\\\n",
    "                              'tech_support', 'streaming_tv', 'streaming_movies']],dummy_na=False, drop_first=True)"
   ]
  },
  {
   "cell_type": "code",
   "execution_count": 14,
   "id": "8d1d4429",
   "metadata": {},
   "outputs": [
    {
     "data": {
      "text/html": [
       "<div>\n",
       "<style scoped>\n",
       "    .dataframe tbody tr th:only-of-type {\n",
       "        vertical-align: middle;\n",
       "    }\n",
       "\n",
       "    .dataframe tbody tr th {\n",
       "        vertical-align: top;\n",
       "    }\n",
       "\n",
       "    .dataframe thead th {\n",
       "        text-align: right;\n",
       "    }\n",
       "</style>\n",
       "<table border=\"1\" class=\"dataframe\">\n",
       "  <thead>\n",
       "    <tr style=\"text-align: right;\">\n",
       "      <th></th>\n",
       "      <th>customer_id</th>\n",
       "      <th>gender</th>\n",
       "      <th>senior_citizen</th>\n",
       "      <th>partner</th>\n",
       "      <th>dependents</th>\n",
       "      <th>tenure</th>\n",
       "      <th>phone_service</th>\n",
       "      <th>multiple_lines</th>\n",
       "      <th>online_security</th>\n",
       "      <th>online_backup</th>\n",
       "      <th>...</th>\n",
       "      <th>online_security_No internet service</th>\n",
       "      <th>online_security_Yes</th>\n",
       "      <th>online_backup_No internet service</th>\n",
       "      <th>online_backup_Yes</th>\n",
       "      <th>tech_support_No internet service</th>\n",
       "      <th>tech_support_Yes</th>\n",
       "      <th>streaming_tv_No internet service</th>\n",
       "      <th>streaming_tv_Yes</th>\n",
       "      <th>streaming_movies_No internet service</th>\n",
       "      <th>streaming_movies_Yes</th>\n",
       "    </tr>\n",
       "  </thead>\n",
       "  <tbody>\n",
       "    <tr>\n",
       "      <th>0</th>\n",
       "      <td>0002-ORFBO</td>\n",
       "      <td>Female</td>\n",
       "      <td>0</td>\n",
       "      <td>Yes</td>\n",
       "      <td>Yes</td>\n",
       "      <td>9</td>\n",
       "      <td>Yes</td>\n",
       "      <td>No</td>\n",
       "      <td>No</td>\n",
       "      <td>Yes</td>\n",
       "      <td>...</td>\n",
       "      <td>0</td>\n",
       "      <td>0</td>\n",
       "      <td>0</td>\n",
       "      <td>1</td>\n",
       "      <td>0</td>\n",
       "      <td>1</td>\n",
       "      <td>0</td>\n",
       "      <td>1</td>\n",
       "      <td>0</td>\n",
       "      <td>0</td>\n",
       "    </tr>\n",
       "    <tr>\n",
       "      <th>1</th>\n",
       "      <td>0003-MKNFE</td>\n",
       "      <td>Male</td>\n",
       "      <td>0</td>\n",
       "      <td>No</td>\n",
       "      <td>No</td>\n",
       "      <td>9</td>\n",
       "      <td>Yes</td>\n",
       "      <td>Yes</td>\n",
       "      <td>No</td>\n",
       "      <td>No</td>\n",
       "      <td>...</td>\n",
       "      <td>0</td>\n",
       "      <td>0</td>\n",
       "      <td>0</td>\n",
       "      <td>0</td>\n",
       "      <td>0</td>\n",
       "      <td>0</td>\n",
       "      <td>0</td>\n",
       "      <td>0</td>\n",
       "      <td>0</td>\n",
       "      <td>1</td>\n",
       "    </tr>\n",
       "    <tr>\n",
       "      <th>2</th>\n",
       "      <td>0004-TLHLJ</td>\n",
       "      <td>Male</td>\n",
       "      <td>0</td>\n",
       "      <td>No</td>\n",
       "      <td>No</td>\n",
       "      <td>4</td>\n",
       "      <td>Yes</td>\n",
       "      <td>No</td>\n",
       "      <td>No</td>\n",
       "      <td>No</td>\n",
       "      <td>...</td>\n",
       "      <td>0</td>\n",
       "      <td>0</td>\n",
       "      <td>0</td>\n",
       "      <td>0</td>\n",
       "      <td>0</td>\n",
       "      <td>0</td>\n",
       "      <td>0</td>\n",
       "      <td>0</td>\n",
       "      <td>0</td>\n",
       "      <td>0</td>\n",
       "    </tr>\n",
       "    <tr>\n",
       "      <th>3</th>\n",
       "      <td>0011-IGKFF</td>\n",
       "      <td>Male</td>\n",
       "      <td>1</td>\n",
       "      <td>Yes</td>\n",
       "      <td>No</td>\n",
       "      <td>13</td>\n",
       "      <td>Yes</td>\n",
       "      <td>No</td>\n",
       "      <td>No</td>\n",
       "      <td>Yes</td>\n",
       "      <td>...</td>\n",
       "      <td>0</td>\n",
       "      <td>0</td>\n",
       "      <td>0</td>\n",
       "      <td>1</td>\n",
       "      <td>0</td>\n",
       "      <td>0</td>\n",
       "      <td>0</td>\n",
       "      <td>1</td>\n",
       "      <td>0</td>\n",
       "      <td>1</td>\n",
       "    </tr>\n",
       "    <tr>\n",
       "      <th>4</th>\n",
       "      <td>0013-EXCHZ</td>\n",
       "      <td>Female</td>\n",
       "      <td>1</td>\n",
       "      <td>Yes</td>\n",
       "      <td>No</td>\n",
       "      <td>3</td>\n",
       "      <td>Yes</td>\n",
       "      <td>No</td>\n",
       "      <td>No</td>\n",
       "      <td>No</td>\n",
       "      <td>...</td>\n",
       "      <td>0</td>\n",
       "      <td>0</td>\n",
       "      <td>0</td>\n",
       "      <td>0</td>\n",
       "      <td>0</td>\n",
       "      <td>1</td>\n",
       "      <td>0</td>\n",
       "      <td>1</td>\n",
       "      <td>0</td>\n",
       "      <td>0</td>\n",
       "    </tr>\n",
       "  </tbody>\n",
       "</table>\n",
       "<p>5 rows × 46 columns</p>\n",
       "</div>"
      ],
      "text/plain": [
       "  customer_id  gender  senior_citizen partner dependents  tenure  \\\n",
       "0  0002-ORFBO  Female               0     Yes        Yes       9   \n",
       "1  0003-MKNFE    Male               0      No         No       9   \n",
       "2  0004-TLHLJ    Male               0      No         No       4   \n",
       "3  0011-IGKFF    Male               1     Yes         No      13   \n",
       "4  0013-EXCHZ  Female               1     Yes         No       3   \n",
       "\n",
       "  phone_service multiple_lines online_security online_backup  ...  \\\n",
       "0           Yes             No              No           Yes  ...   \n",
       "1           Yes            Yes              No            No  ...   \n",
       "2           Yes             No              No            No  ...   \n",
       "3           Yes             No              No           Yes  ...   \n",
       "4           Yes             No              No            No  ...   \n",
       "\n",
       "  online_security_No internet service online_security_Yes  \\\n",
       "0                                   0                   0   \n",
       "1                                   0                   0   \n",
       "2                                   0                   0   \n",
       "3                                   0                   0   \n",
       "4                                   0                   0   \n",
       "\n",
       "  online_backup_No internet service online_backup_Yes  \\\n",
       "0                                 0                 1   \n",
       "1                                 0                 0   \n",
       "2                                 0                 0   \n",
       "3                                 0                 1   \n",
       "4                                 0                 0   \n",
       "\n",
       "  tech_support_No internet service  tech_support_Yes  \\\n",
       "0                                0                 1   \n",
       "1                                0                 0   \n",
       "2                                0                 0   \n",
       "3                                0                 0   \n",
       "4                                0                 1   \n",
       "\n",
       "   streaming_tv_No internet service streaming_tv_Yes  \\\n",
       "0                                 0                1   \n",
       "1                                 0                0   \n",
       "2                                 0                0   \n",
       "3                                 0                1   \n",
       "4                                 0                1   \n",
       "\n",
       "  streaming_movies_No internet service streaming_movies_Yes  \n",
       "0                                    0                    0  \n",
       "1                                    0                    1  \n",
       "2                                    0                    0  \n",
       "3                                    0                    1  \n",
       "4                                    0                    0  \n",
       "\n",
       "[5 rows x 46 columns]"
      ]
     },
     "execution_count": 14,
     "metadata": {},
     "output_type": "execute_result"
    }
   ],
   "source": [
    "df = pd.concat([df, dummy_df], axis=1)\n",
    "df.head()"
   ]
  },
  {
   "cell_type": "code",
   "execution_count": 15,
   "id": "f3befa16",
   "metadata": {},
   "outputs": [
    {
     "data": {
      "text/html": [
       "<div>\n",
       "<style scoped>\n",
       "    .dataframe tbody tr th:only-of-type {\n",
       "        vertical-align: middle;\n",
       "    }\n",
       "\n",
       "    .dataframe tbody tr th {\n",
       "        vertical-align: top;\n",
       "    }\n",
       "\n",
       "    .dataframe thead th {\n",
       "        text-align: right;\n",
       "    }\n",
       "</style>\n",
       "<table border=\"1\" class=\"dataframe\">\n",
       "  <thead>\n",
       "    <tr style=\"text-align: right;\">\n",
       "      <th></th>\n",
       "      <th>count</th>\n",
       "      <th>mean</th>\n",
       "      <th>std</th>\n",
       "      <th>min</th>\n",
       "      <th>25%</th>\n",
       "      <th>50%</th>\n",
       "      <th>75%</th>\n",
       "      <th>max</th>\n",
       "    </tr>\n",
       "  </thead>\n",
       "  <tbody>\n",
       "    <tr>\n",
       "      <th>senior_citizen</th>\n",
       "      <td>7032.0</td>\n",
       "      <td>0.162400</td>\n",
       "      <td>0.368844</td>\n",
       "      <td>0.00</td>\n",
       "      <td>0.0000</td>\n",
       "      <td>0.000</td>\n",
       "      <td>0.0000</td>\n",
       "      <td>1.00</td>\n",
       "    </tr>\n",
       "    <tr>\n",
       "      <th>tenure</th>\n",
       "      <td>7032.0</td>\n",
       "      <td>32.421786</td>\n",
       "      <td>24.545260</td>\n",
       "      <td>1.00</td>\n",
       "      <td>9.0000</td>\n",
       "      <td>29.000</td>\n",
       "      <td>55.0000</td>\n",
       "      <td>72.00</td>\n",
       "    </tr>\n",
       "    <tr>\n",
       "      <th>monthly_charges</th>\n",
       "      <td>7032.0</td>\n",
       "      <td>64.798208</td>\n",
       "      <td>30.085974</td>\n",
       "      <td>18.25</td>\n",
       "      <td>35.5875</td>\n",
       "      <td>70.350</td>\n",
       "      <td>89.8625</td>\n",
       "      <td>118.75</td>\n",
       "    </tr>\n",
       "    <tr>\n",
       "      <th>total_charges</th>\n",
       "      <td>7032.0</td>\n",
       "      <td>2283.300441</td>\n",
       "      <td>2266.771362</td>\n",
       "      <td>18.80</td>\n",
       "      <td>401.4500</td>\n",
       "      <td>1397.475</td>\n",
       "      <td>3794.7375</td>\n",
       "      <td>8684.80</td>\n",
       "    </tr>\n",
       "    <tr>\n",
       "      <th>is_female</th>\n",
       "      <td>7032.0</td>\n",
       "      <td>0.495307</td>\n",
       "      <td>0.500014</td>\n",
       "      <td>0.00</td>\n",
       "      <td>0.0000</td>\n",
       "      <td>0.000</td>\n",
       "      <td>1.0000</td>\n",
       "      <td>1.00</td>\n",
       "    </tr>\n",
       "    <tr>\n",
       "      <th>has_partner</th>\n",
       "      <td>7032.0</td>\n",
       "      <td>0.482509</td>\n",
       "      <td>0.499729</td>\n",
       "      <td>0.00</td>\n",
       "      <td>0.0000</td>\n",
       "      <td>0.000</td>\n",
       "      <td>1.0000</td>\n",
       "      <td>1.00</td>\n",
       "    </tr>\n",
       "    <tr>\n",
       "      <th>has_dependents</th>\n",
       "      <td>7032.0</td>\n",
       "      <td>0.298493</td>\n",
       "      <td>0.457629</td>\n",
       "      <td>0.00</td>\n",
       "      <td>0.0000</td>\n",
       "      <td>0.000</td>\n",
       "      <td>1.0000</td>\n",
       "      <td>1.00</td>\n",
       "    </tr>\n",
       "    <tr>\n",
       "      <th>has_phone_service</th>\n",
       "      <td>7032.0</td>\n",
       "      <td>0.903299</td>\n",
       "      <td>0.295571</td>\n",
       "      <td>0.00</td>\n",
       "      <td>1.0000</td>\n",
       "      <td>1.000</td>\n",
       "      <td>1.0000</td>\n",
       "      <td>1.00</td>\n",
       "    </tr>\n",
       "    <tr>\n",
       "      <th>has_paperless_billing</th>\n",
       "      <td>7032.0</td>\n",
       "      <td>0.592719</td>\n",
       "      <td>0.491363</td>\n",
       "      <td>0.00</td>\n",
       "      <td>0.0000</td>\n",
       "      <td>1.000</td>\n",
       "      <td>1.0000</td>\n",
       "      <td>1.00</td>\n",
       "    </tr>\n",
       "    <tr>\n",
       "      <th>has_churned</th>\n",
       "      <td>7032.0</td>\n",
       "      <td>0.265785</td>\n",
       "      <td>0.441782</td>\n",
       "      <td>0.00</td>\n",
       "      <td>0.0000</td>\n",
       "      <td>0.000</td>\n",
       "      <td>1.0000</td>\n",
       "      <td>1.00</td>\n",
       "    </tr>\n",
       "    <tr>\n",
       "      <th>contract_type_One year</th>\n",
       "      <td>7032.0</td>\n",
       "      <td>0.209329</td>\n",
       "      <td>0.406858</td>\n",
       "      <td>0.00</td>\n",
       "      <td>0.0000</td>\n",
       "      <td>0.000</td>\n",
       "      <td>0.0000</td>\n",
       "      <td>1.00</td>\n",
       "    </tr>\n",
       "    <tr>\n",
       "      <th>contract_type_Two year</th>\n",
       "      <td>7032.0</td>\n",
       "      <td>0.239619</td>\n",
       "      <td>0.426881</td>\n",
       "      <td>0.00</td>\n",
       "      <td>0.0000</td>\n",
       "      <td>0.000</td>\n",
       "      <td>0.0000</td>\n",
       "      <td>1.00</td>\n",
       "    </tr>\n",
       "    <tr>\n",
       "      <th>internet_service_type_Fiber optic</th>\n",
       "      <td>7032.0</td>\n",
       "      <td>0.440273</td>\n",
       "      <td>0.496455</td>\n",
       "      <td>0.00</td>\n",
       "      <td>0.0000</td>\n",
       "      <td>0.000</td>\n",
       "      <td>1.0000</td>\n",
       "      <td>1.00</td>\n",
       "    </tr>\n",
       "    <tr>\n",
       "      <th>internet_service_type_None</th>\n",
       "      <td>7032.0</td>\n",
       "      <td>0.216155</td>\n",
       "      <td>0.411650</td>\n",
       "      <td>0.00</td>\n",
       "      <td>0.0000</td>\n",
       "      <td>0.000</td>\n",
       "      <td>0.0000</td>\n",
       "      <td>1.00</td>\n",
       "    </tr>\n",
       "    <tr>\n",
       "      <th>payment_type_Credit card (automatic)</th>\n",
       "      <td>7032.0</td>\n",
       "      <td>0.216297</td>\n",
       "      <td>0.411748</td>\n",
       "      <td>0.00</td>\n",
       "      <td>0.0000</td>\n",
       "      <td>0.000</td>\n",
       "      <td>0.0000</td>\n",
       "      <td>1.00</td>\n",
       "    </tr>\n",
       "    <tr>\n",
       "      <th>payment_type_Electronic check</th>\n",
       "      <td>7032.0</td>\n",
       "      <td>0.336320</td>\n",
       "      <td>0.472483</td>\n",
       "      <td>0.00</td>\n",
       "      <td>0.0000</td>\n",
       "      <td>0.000</td>\n",
       "      <td>1.0000</td>\n",
       "      <td>1.00</td>\n",
       "    </tr>\n",
       "    <tr>\n",
       "      <th>payment_type_Mailed check</th>\n",
       "      <td>7032.0</td>\n",
       "      <td>0.228100</td>\n",
       "      <td>0.419637</td>\n",
       "      <td>0.00</td>\n",
       "      <td>0.0000</td>\n",
       "      <td>0.000</td>\n",
       "      <td>0.0000</td>\n",
       "      <td>1.00</td>\n",
       "    </tr>\n",
       "    <tr>\n",
       "      <th>multiple_lines_No phone service</th>\n",
       "      <td>7032.0</td>\n",
       "      <td>0.096701</td>\n",
       "      <td>0.295571</td>\n",
       "      <td>0.00</td>\n",
       "      <td>0.0000</td>\n",
       "      <td>0.000</td>\n",
       "      <td>0.0000</td>\n",
       "      <td>1.00</td>\n",
       "    </tr>\n",
       "    <tr>\n",
       "      <th>multiple_lines_Yes</th>\n",
       "      <td>7032.0</td>\n",
       "      <td>0.421928</td>\n",
       "      <td>0.493902</td>\n",
       "      <td>0.00</td>\n",
       "      <td>0.0000</td>\n",
       "      <td>0.000</td>\n",
       "      <td>1.0000</td>\n",
       "      <td>1.00</td>\n",
       "    </tr>\n",
       "    <tr>\n",
       "      <th>online_security_No internet service</th>\n",
       "      <td>7032.0</td>\n",
       "      <td>0.216155</td>\n",
       "      <td>0.411650</td>\n",
       "      <td>0.00</td>\n",
       "      <td>0.0000</td>\n",
       "      <td>0.000</td>\n",
       "      <td>0.0000</td>\n",
       "      <td>1.00</td>\n",
       "    </tr>\n",
       "    <tr>\n",
       "      <th>online_security_Yes</th>\n",
       "      <td>7032.0</td>\n",
       "      <td>0.286547</td>\n",
       "      <td>0.452180</td>\n",
       "      <td>0.00</td>\n",
       "      <td>0.0000</td>\n",
       "      <td>0.000</td>\n",
       "      <td>1.0000</td>\n",
       "      <td>1.00</td>\n",
       "    </tr>\n",
       "    <tr>\n",
       "      <th>online_backup_No internet service</th>\n",
       "      <td>7032.0</td>\n",
       "      <td>0.216155</td>\n",
       "      <td>0.411650</td>\n",
       "      <td>0.00</td>\n",
       "      <td>0.0000</td>\n",
       "      <td>0.000</td>\n",
       "      <td>0.0000</td>\n",
       "      <td>1.00</td>\n",
       "    </tr>\n",
       "    <tr>\n",
       "      <th>online_backup_Yes</th>\n",
       "      <td>7032.0</td>\n",
       "      <td>0.344852</td>\n",
       "      <td>0.475354</td>\n",
       "      <td>0.00</td>\n",
       "      <td>0.0000</td>\n",
       "      <td>0.000</td>\n",
       "      <td>1.0000</td>\n",
       "      <td>1.00</td>\n",
       "    </tr>\n",
       "    <tr>\n",
       "      <th>tech_support_No internet service</th>\n",
       "      <td>7032.0</td>\n",
       "      <td>0.216155</td>\n",
       "      <td>0.411650</td>\n",
       "      <td>0.00</td>\n",
       "      <td>0.0000</td>\n",
       "      <td>0.000</td>\n",
       "      <td>0.0000</td>\n",
       "      <td>1.00</td>\n",
       "    </tr>\n",
       "    <tr>\n",
       "      <th>tech_support_Yes</th>\n",
       "      <td>7032.0</td>\n",
       "      <td>0.290102</td>\n",
       "      <td>0.453842</td>\n",
       "      <td>0.00</td>\n",
       "      <td>0.0000</td>\n",
       "      <td>0.000</td>\n",
       "      <td>1.0000</td>\n",
       "      <td>1.00</td>\n",
       "    </tr>\n",
       "    <tr>\n",
       "      <th>streaming_tv_No internet service</th>\n",
       "      <td>7032.0</td>\n",
       "      <td>0.216155</td>\n",
       "      <td>0.411650</td>\n",
       "      <td>0.00</td>\n",
       "      <td>0.0000</td>\n",
       "      <td>0.000</td>\n",
       "      <td>0.0000</td>\n",
       "      <td>1.00</td>\n",
       "    </tr>\n",
       "    <tr>\n",
       "      <th>streaming_tv_Yes</th>\n",
       "      <td>7032.0</td>\n",
       "      <td>0.384386</td>\n",
       "      <td>0.486484</td>\n",
       "      <td>0.00</td>\n",
       "      <td>0.0000</td>\n",
       "      <td>0.000</td>\n",
       "      <td>1.0000</td>\n",
       "      <td>1.00</td>\n",
       "    </tr>\n",
       "    <tr>\n",
       "      <th>streaming_movies_No internet service</th>\n",
       "      <td>7032.0</td>\n",
       "      <td>0.216155</td>\n",
       "      <td>0.411650</td>\n",
       "      <td>0.00</td>\n",
       "      <td>0.0000</td>\n",
       "      <td>0.000</td>\n",
       "      <td>0.0000</td>\n",
       "      <td>1.00</td>\n",
       "    </tr>\n",
       "    <tr>\n",
       "      <th>streaming_movies_Yes</th>\n",
       "      <td>7032.0</td>\n",
       "      <td>0.388367</td>\n",
       "      <td>0.487414</td>\n",
       "      <td>0.00</td>\n",
       "      <td>0.0000</td>\n",
       "      <td>0.000</td>\n",
       "      <td>1.0000</td>\n",
       "      <td>1.00</td>\n",
       "    </tr>\n",
       "  </tbody>\n",
       "</table>\n",
       "</div>"
      ],
      "text/plain": [
       "                                       count         mean          std    min  \\\n",
       "senior_citizen                        7032.0     0.162400     0.368844   0.00   \n",
       "tenure                                7032.0    32.421786    24.545260   1.00   \n",
       "monthly_charges                       7032.0    64.798208    30.085974  18.25   \n",
       "total_charges                         7032.0  2283.300441  2266.771362  18.80   \n",
       "is_female                             7032.0     0.495307     0.500014   0.00   \n",
       "has_partner                           7032.0     0.482509     0.499729   0.00   \n",
       "has_dependents                        7032.0     0.298493     0.457629   0.00   \n",
       "has_phone_service                     7032.0     0.903299     0.295571   0.00   \n",
       "has_paperless_billing                 7032.0     0.592719     0.491363   0.00   \n",
       "has_churned                           7032.0     0.265785     0.441782   0.00   \n",
       "contract_type_One year                7032.0     0.209329     0.406858   0.00   \n",
       "contract_type_Two year                7032.0     0.239619     0.426881   0.00   \n",
       "internet_service_type_Fiber optic     7032.0     0.440273     0.496455   0.00   \n",
       "internet_service_type_None            7032.0     0.216155     0.411650   0.00   \n",
       "payment_type_Credit card (automatic)  7032.0     0.216297     0.411748   0.00   \n",
       "payment_type_Electronic check         7032.0     0.336320     0.472483   0.00   \n",
       "payment_type_Mailed check             7032.0     0.228100     0.419637   0.00   \n",
       "multiple_lines_No phone service       7032.0     0.096701     0.295571   0.00   \n",
       "multiple_lines_Yes                    7032.0     0.421928     0.493902   0.00   \n",
       "online_security_No internet service   7032.0     0.216155     0.411650   0.00   \n",
       "online_security_Yes                   7032.0     0.286547     0.452180   0.00   \n",
       "online_backup_No internet service     7032.0     0.216155     0.411650   0.00   \n",
       "online_backup_Yes                     7032.0     0.344852     0.475354   0.00   \n",
       "tech_support_No internet service      7032.0     0.216155     0.411650   0.00   \n",
       "tech_support_Yes                      7032.0     0.290102     0.453842   0.00   \n",
       "streaming_tv_No internet service      7032.0     0.216155     0.411650   0.00   \n",
       "streaming_tv_Yes                      7032.0     0.384386     0.486484   0.00   \n",
       "streaming_movies_No internet service  7032.0     0.216155     0.411650   0.00   \n",
       "streaming_movies_Yes                  7032.0     0.388367     0.487414   0.00   \n",
       "\n",
       "                                           25%       50%        75%      max  \n",
       "senior_citizen                          0.0000     0.000     0.0000     1.00  \n",
       "tenure                                  9.0000    29.000    55.0000    72.00  \n",
       "monthly_charges                        35.5875    70.350    89.8625   118.75  \n",
       "total_charges                         401.4500  1397.475  3794.7375  8684.80  \n",
       "is_female                               0.0000     0.000     1.0000     1.00  \n",
       "has_partner                             0.0000     0.000     1.0000     1.00  \n",
       "has_dependents                          0.0000     0.000     1.0000     1.00  \n",
       "has_phone_service                       1.0000     1.000     1.0000     1.00  \n",
       "has_paperless_billing                   0.0000     1.000     1.0000     1.00  \n",
       "has_churned                             0.0000     0.000     1.0000     1.00  \n",
       "contract_type_One year                  0.0000     0.000     0.0000     1.00  \n",
       "contract_type_Two year                  0.0000     0.000     0.0000     1.00  \n",
       "internet_service_type_Fiber optic       0.0000     0.000     1.0000     1.00  \n",
       "internet_service_type_None              0.0000     0.000     0.0000     1.00  \n",
       "payment_type_Credit card (automatic)    0.0000     0.000     0.0000     1.00  \n",
       "payment_type_Electronic check           0.0000     0.000     1.0000     1.00  \n",
       "payment_type_Mailed check               0.0000     0.000     0.0000     1.00  \n",
       "multiple_lines_No phone service         0.0000     0.000     0.0000     1.00  \n",
       "multiple_lines_Yes                      0.0000     0.000     1.0000     1.00  \n",
       "online_security_No internet service     0.0000     0.000     0.0000     1.00  \n",
       "online_security_Yes                     0.0000     0.000     1.0000     1.00  \n",
       "online_backup_No internet service       0.0000     0.000     0.0000     1.00  \n",
       "online_backup_Yes                       0.0000     0.000     1.0000     1.00  \n",
       "tech_support_No internet service        0.0000     0.000     0.0000     1.00  \n",
       "tech_support_Yes                        0.0000     0.000     1.0000     1.00  \n",
       "streaming_tv_No internet service        0.0000     0.000     0.0000     1.00  \n",
       "streaming_tv_Yes                        0.0000     0.000     1.0000     1.00  \n",
       "streaming_movies_No internet service    0.0000     0.000     0.0000     1.00  \n",
       "streaming_movies_Yes                    0.0000     0.000     1.0000     1.00  "
      ]
     },
     "execution_count": 15,
     "metadata": {},
     "output_type": "execute_result"
    }
   ],
   "source": [
    "df.describe().T"
   ]
  },
  {
   "cell_type": "code",
   "execution_count": 16,
   "id": "ff2c4db9",
   "metadata": {},
   "outputs": [],
   "source": [
    "train_validate, test = train_test_split(df, test_size=.2, \n",
    "                                        random_state=123, \n",
    "                                        stratify=df.churn)\n",
    "train, validate = train_test_split(train_validate, test_size=.3, \n",
    "                                   random_state=123, \n",
    "                                   stratify=train_validate.churn)\n"
   ]
  },
  {
   "cell_type": "code",
   "execution_count": 17,
   "id": "7e27081b",
   "metadata": {},
   "outputs": [
    {
     "data": {
      "text/plain": [
       "((3937, 46), (1688, 46), (1407, 46))"
      ]
     },
     "execution_count": 17,
     "metadata": {},
     "output_type": "execute_result"
    }
   ],
   "source": [
    "train.shape, validate.shape, test.shape"
   ]
  },
  {
   "cell_type": "code",
   "execution_count": 18,
   "id": "5940ef5a",
   "metadata": {},
   "outputs": [
    {
     "data": {
      "text/plain": [
       "(No     0.734315\n",
       " Yes    0.265685\n",
       " Name: churn, dtype: float64,\n",
       " No     0.734005\n",
       " Yes    0.265995\n",
       " Name: churn, dtype: float64,\n",
       " No     0.734186\n",
       " Yes    0.265814\n",
       " Name: churn, dtype: float64)"
      ]
     },
     "execution_count": 18,
     "metadata": {},
     "output_type": "execute_result"
    }
   ],
   "source": [
    "# confirm data was stratified\n",
    "train.churn.value_counts(normalize=True), validate.churn.value_counts(normalize=True), test.churn.value_counts(normalize=True)"
   ]
  },
  {
   "cell_type": "code",
   "execution_count": 19,
   "id": "8dbccf76",
   "metadata": {},
   "outputs": [],
   "source": [
    "def clean_telco_data(df):\n",
    "    # replace empty cells with nulls\n",
    "    df = df.replace(' ', np.nan)\n",
    "    # drop 11 nulls from total_charges\n",
    "    df.dropna(inplace=True)\n",
    "    # change total_charges to float\n",
    "    df['total_charges'] = pd.to_numeric(df['total_charges'])\n",
    "    # drop unnecessary columns\n",
    "    df = df.drop(columns=['Unnamed: 0', 'payment_type_id', 'internet_service_type_id', 'contract_type_id'])\n",
    "    # convert categorical columns to boolean\n",
    "    df['is_female'] = df['gender'].map({'Female': 1, 'Male': 0})\n",
    "    df['has_partner'] = df['partner'].map({'Yes': 1, 'No': 0})\n",
    "    df['has_dependents'] = df['dependents'].map({'Yes': 1, 'No': 0})\n",
    "    df['has_phone_service'] = df['phone_service'].map({'Yes': 1, 'No': 0})\n",
    "    df['has_paperless_billing'] = df['paperless_billing'].map({'Yes': 1, 'No': 0})\n",
    "    df['has_churned'] = df['churn'].map({'Yes': 1, 'No': 0})\n",
    "    df['has_multiple_lines'] = df['multiple_lines'].map({'Yes': 1, 'No': 0})\n",
    "    df['has_online_security'] = df['online_security'].map({'Yes': 1, 'No': 0})\n",
    "    df['has_online_backup'] = df['online_backup'].map({'Yes': 1, 'No': 0})\n",
    "    df['has_tech_support'] = df['tech_support'].map({'Yes': 1, 'No': 0})\n",
    "    df['has_streaming_tv'] = df['streaming_tv'].map({'Yes': 1, 'No': 0})\n",
    "    df['has_streaming_movies'] = df['streaming_movies'].map({'Yes': 1, 'No': 0})\n",
    "    # encode categorical columns \n",
    "    dummy_df = pd.get_dummies(df[['contract_type','internet_service_type', 'payment_type']],dummy_na=False, drop_first=True)\n",
    "    #combine dataframes\n",
    "    df = pd.concat([df, dummy_df], axis=1)\n",
    "    \n",
    "    return df\n",
    "    \n"
   ]
  },
  {
   "cell_type": "code",
   "execution_count": 20,
   "id": "c86a9bbe",
   "metadata": {},
   "outputs": [],
   "source": [
    "def prep_telco_data(df):\n",
    "    df = clean_titanic_data(df)\n",
    "    train_validate, test = train_test_split(df, test_size=.2, \n",
    "                                        random_state=123, \n",
    "                                        stratify=df.churn)\n",
    "    train, validate = train_test_split(train_validate, test_size=.3, \n",
    "                                   random_state=123, \n",
    "                                   stratify=train_validate.churn)\n",
    "    \n",
    "    return train, validate, test\n",
    "    "
   ]
  },
  {
   "cell_type": "markdown",
   "id": "a328d588",
   "metadata": {},
   "source": [
    "## Explore\n",
    "    "
   ]
  },
  {
   "cell_type": "code",
   "execution_count": 21,
   "id": "2b119317",
   "metadata": {},
   "outputs": [
    {
     "data": {
      "text/plain": [
       "No     2891\n",
       "Yes    1046\n",
       "Name: churn, dtype: int64"
      ]
     },
     "execution_count": 21,
     "metadata": {},
     "output_type": "execute_result"
    }
   ],
   "source": [
    "train.churn.value_counts()"
   ]
  },
  {
   "cell_type": "code",
   "execution_count": 22,
   "id": "1cffce84",
   "metadata": {},
   "outputs": [
    {
     "data": {
      "text/plain": [
       "<AxesSubplot:>"
      ]
     },
     "execution_count": 22,
     "metadata": {},
     "output_type": "execute_result"
    },
    {
     "data": {
      "image/png": "[encoded data removed]",
      "text/plain": [
       "<Figure size 432x288 with 1 Axes>"
      ]
     },
     "metadata": {
      "needs_background": "light"
     },
     "output_type": "display_data"
    }
   ],
   "source": [
    "train.churn.hist()"
   ]
  },
  {
   "cell_type": "code",
   "execution_count": 23,
   "id": "342954fb",
   "metadata": {},
   "outputs": [
    {
     "data": {
      "text/plain": [
       "<AxesSubplot:xlabel='gender', ylabel='has_churned'>"
      ]
     },
     "execution_count": 23,
     "metadata": {},
     "output_type": "execute_result"
    },
    {
     "data": {
      "image/png": "[encoded data removed]",
      "text/plain": [
       "<Figure size 432x288 with 1 Axes>"
      ]
     },
     "metadata": {
      "needs_background": "light"
     },
     "output_type": "display_data"
    }
   ],
   "source": [
    "sns.barplot(data=train, x = 'gender', y = 'has_churned')"
   ]
  },
  {
   "cell_type": "markdown",
   "id": "2160d188",
   "metadata": {},
   "source": [
    "Gender does not appear to affect churn."
   ]
  },
  {
   "cell_type": "code",
   "execution_count": 24,
   "id": "e28a04bb",
   "metadata": {
    "scrolled": true
   },
   "outputs": [
    {
     "data": {
      "text/plain": [
       "<AxesSubplot:xlabel='churn', ylabel='monthly_charges'>"
      ]
     },
     "execution_count": 24,
     "metadata": {},
     "output_type": "execute_result"
    },
    {
     "data": {
      "image/png": "[encoded data removed]",
      "text/plain": [
       "<Figure size 432x288 with 1 Axes>"
      ]
     },
     "metadata": {
      "needs_background": "light"
     },
     "output_type": "display_data"
    }
   ],
   "source": [
    "sns.barplot(data=train, y='monthly_charges', x='churn')"
   ]
  },
  {
   "cell_type": "code",
   "execution_count": 25,
   "id": "da98048f",
   "metadata": {},
   "outputs": [
    {
     "data": {
      "text/plain": [
       "<AxesSubplot:xlabel='churn', ylabel='monthly_charges'>"
      ]
     },
     "execution_count": 25,
     "metadata": {},
     "output_type": "execute_result"
    },
    {
     "data": {
      "image/png": "[encoded data removed]",
      "text/plain": [
       "<Figure size 432x288 with 1 Axes>"
      ]
     },
     "metadata": {
      "needs_background": "light"
     },
     "output_type": "display_data"
    }
   ],
   "source": [
    "sns.boxplot(data=train,  y='monthly_charges', x='churn')"
   ]
  },
  {
   "cell_type": "markdown",
   "id": "403c2f69",
   "metadata": {},
   "source": [
    "Those that churn have, on average, higher monthly bills."
   ]
  },
  {
   "cell_type": "code",
   "execution_count": 26,
   "id": "dbd3c42f",
   "metadata": {},
   "outputs": [
    {
     "data": {
      "text/plain": [
       "<AxesSubplot:xlabel='contract_type', ylabel='count'>"
      ]
     },
     "execution_count": 26,
     "metadata": {},
     "output_type": "execute_result"
    },
    {
     "data": {
      "image/png": "[encoded data removed]",
      "text/plain": [
       "<Figure size 432x288 with 1 Axes>"
      ]
     },
     "metadata": {
      "needs_background": "light"
     },
     "output_type": "display_data"
    }
   ],
   "source": [
    "sns.countplot(data=train, x='contract_type', hue='churn')"
   ]
  },
  {
   "cell_type": "markdown",
   "id": "01505601",
   "metadata": {},
   "source": [
    "Customers with month-to-month contracts are more likely to churn."
   ]
  },
  {
   "cell_type": "code",
   "execution_count": 27,
   "id": "54714679",
   "metadata": {},
   "outputs": [
    {
     "data": {
      "text/plain": [
       "<AxesSubplot:xlabel='senior_citizen', ylabel='count'>"
      ]
     },
     "execution_count": 27,
     "metadata": {},
     "output_type": "execute_result"
    },
    {
     "data": {
      "image/png": "[encoded data removed]",
      "text/plain": [
       "<Figure size 432x288 with 1 Axes>"
      ]
     },
     "metadata": {
      "needs_background": "light"
     },
     "output_type": "display_data"
    }
   ],
   "source": [
    "sns.countplot(data=train, x='senior_citizen', hue ='churn')"
   ]
  },
  {
   "cell_type": "markdown",
   "id": "086631c8",
   "metadata": {},
   "source": [
    "Senior citizens are more likely to churn."
   ]
  },
  {
   "cell_type": "code",
   "execution_count": 28,
   "id": "0773b880",
   "metadata": {},
   "outputs": [
    {
     "data": {
      "text/plain": [
       "<AxesSubplot:xlabel='dependents', ylabel='count'>"
      ]
     },
     "execution_count": 28,
     "metadata": {},
     "output_type": "execute_result"
    },
    {
     "data": {
      "image/png": "[encoded data removed]",
      "text/plain": [
       "<Figure size 432x288 with 1 Axes>"
      ]
     },
     "metadata": {
      "needs_background": "light"
     },
     "output_type": "display_data"
    }
   ],
   "source": [
    "sns.countplot(data=train, x='dependents', hue ='churn')"
   ]
  },
  {
   "cell_type": "markdown",
   "id": "e4f752fd",
   "metadata": {},
   "source": [
    "Customers without dependents are more likely to churn."
   ]
  },
  {
   "cell_type": "code",
   "execution_count": 29,
   "id": "7f2cd38a",
   "metadata": {},
   "outputs": [
    {
     "data": {
      "text/plain": [
       "<AxesSubplot:xlabel='partner', ylabel='count'>"
      ]
     },
     "execution_count": 29,
     "metadata": {},
     "output_type": "execute_result"
    },
    {
     "data": {
      "image/png": "[encoded data removed]",
      "text/plain": [
       "<Figure size 432x288 with 1 Axes>"
      ]
     },
     "metadata": {
      "needs_background": "light"
     },
     "output_type": "display_data"
    }
   ],
   "source": [
    "sns.countplot(data=train, x='partner', hue ='churn')"
   ]
  },
  {
   "cell_type": "markdown",
   "id": "a37c9875",
   "metadata": {},
   "source": [
    "Customers without partners are more likely to churn."
   ]
  },
  {
   "cell_type": "code",
   "execution_count": 30,
   "id": "247b8d54",
   "metadata": {},
   "outputs": [
    {
     "data": {
      "text/plain": [
       "<AxesSubplot:xlabel='churn', ylabel='count'>"
      ]
     },
     "execution_count": 30,
     "metadata": {},
     "output_type": "execute_result"
    },
    {
     "data": {
      "image/png": "[encoded data removed]",
      "text/plain": [
       "<Figure size 432x288 with 1 Axes>"
      ]
     },
     "metadata": {
      "needs_background": "light"
     },
     "output_type": "display_data"
    }
   ],
   "source": [
    "sns.countplot(data=train, x='churn', hue ='phone_service')"
   ]
  },
  {
   "cell_type": "markdown",
   "id": "ad3a3e62",
   "metadata": {},
   "source": [
    "Phone service does not appear to be a predictor of churn."
   ]
  },
  {
   "cell_type": "code",
   "execution_count": 31,
   "id": "0186f33f",
   "metadata": {},
   "outputs": [
    {
     "data": {
      "text/plain": [
       "<AxesSubplot:xlabel='churn', ylabel='count'>"
      ]
     },
     "execution_count": 31,
     "metadata": {},
     "output_type": "execute_result"
    },
    {
     "data": {
      "image/png": "[encoded data removed]",
      "text/plain": [
       "<Figure size 432x288 with 1 Axes>"
      ]
     },
     "metadata": {
      "needs_background": "light"
     },
     "output_type": "display_data"
    }
   ],
   "source": [
    "sns.countplot(data=train, x='churn', hue ='multiple_lines')"
   ]
  },
  {
   "cell_type": "markdown",
   "id": "ddce9e56",
   "metadata": {},
   "source": [
    "Having multiples lines does not appear to be a predictor of churn."
   ]
  },
  {
   "cell_type": "code",
   "execution_count": 32,
   "id": "8ddfeae9",
   "metadata": {},
   "outputs": [
    {
     "data": {
      "text/plain": [
       "<AxesSubplot:xlabel='churn', ylabel='count'>"
      ]
     },
     "execution_count": 32,
     "metadata": {},
     "output_type": "execute_result"
    },
    {
     "data": {
      "image/png": "[encoded data removed]",
      "text/plain": [
       "<Figure size 432x288 with 1 Axes>"
      ]
     },
     "metadata": {
      "needs_background": "light"
     },
     "output_type": "display_data"
    }
   ],
   "source": [
    "sns.countplot(data=train, x='churn', hue ='internet_service_type')"
   ]
  },
  {
   "cell_type": "markdown",
   "id": "0c86f1c0",
   "metadata": {},
   "source": [
    "Those with Fiber optic internet are more likely to churn."
   ]
  },
  {
   "cell_type": "code",
   "execution_count": 33,
   "id": "4a8f92aa",
   "metadata": {},
   "outputs": [
    {
     "data": {
      "text/plain": [
       "<AxesSubplot:xlabel='churn', ylabel='count'>"
      ]
     },
     "execution_count": 33,
     "metadata": {},
     "output_type": "execute_result"
    },
    {
     "data": {
      "image/png": "[encoded data removed]",
      "text/plain": [
       "<Figure size 432x288 with 1 Axes>"
      ]
     },
     "metadata": {
      "needs_background": "light"
     },
     "output_type": "display_data"
    }
   ],
   "source": [
    "sns.countplot(data=train, x='churn', hue ='payment_type')"
   ]
  },
  {
   "cell_type": "markdown",
   "id": "734e1036",
   "metadata": {},
   "source": [
    "Customers that pay with electronic check are more likely to churn."
   ]
  },
  {
   "cell_type": "code",
   "execution_count": 34,
   "id": "856ace42",
   "metadata": {},
   "outputs": [
    {
     "data": {
      "text/plain": [
       "Text(0.5, 1.0, 'Customers without online security are more likely to churn')"
      ]
     },
     "execution_count": 34,
     "metadata": {},
     "output_type": "execute_result"
    },
    {
     "data": {
      "image/png": "[encoded data removed]",
      "text/plain": [
       "<Figure size 432x288 with 1 Axes>"
      ]
     },
     "metadata": {
      "needs_background": "light"
     },
     "output_type": "display_data"
    }
   ],
   "source": [
    "# explore add-on services\n",
    "sns.countplot(data=train, x='churn', hue ='online_security')\n",
    "plt.title('Customers without online security are more likely to churn')"
   ]
  },
  {
   "cell_type": "markdown",
   "id": "b5cd902d",
   "metadata": {},
   "source": [
    "Customers without online security are more likely to churn."
   ]
  },
  {
   "cell_type": "code",
   "execution_count": 35,
   "id": "196b431f",
   "metadata": {},
   "outputs": [
    {
     "data": {
      "text/plain": [
       "<AxesSubplot:xlabel='churn', ylabel='count'>"
      ]
     },
     "execution_count": 35,
     "metadata": {},
     "output_type": "execute_result"
    },
    {
     "data": {
      "image/png": "[encoded data removed]",
      "text/plain": [
       "<Figure size 432x288 with 1 Axes>"
      ]
     },
     "metadata": {
      "needs_background": "light"
     },
     "output_type": "display_data"
    }
   ],
   "source": [
    "sns.countplot(data=train, x='churn', hue ='tech_support')"
   ]
  },
  {
   "cell_type": "markdown",
   "id": "b80b31ad",
   "metadata": {},
   "source": [
    "Customers without tech support are more likely to churn."
   ]
  },
  {
   "cell_type": "code",
   "execution_count": 36,
   "id": "9d20b9ba",
   "metadata": {},
   "outputs": [
    {
     "data": {
      "text/plain": [
       "<AxesSubplot:xlabel='churn', ylabel='count'>"
      ]
     },
     "execution_count": 36,
     "metadata": {},
     "output_type": "execute_result"
    },
    {
     "data": {
      "image/png": "[encoded data removed]",
      "text/plain": [
       "<Figure size 432x288 with 1 Axes>"
      ]
     },
     "metadata": {
      "needs_background": "light"
     },
     "output_type": "display_data"
    }
   ],
   "source": [
    "sns.countplot(data=train, x='churn', hue ='online_backup')"
   ]
  },
  {
   "cell_type": "markdown",
   "id": "85ce4c2b",
   "metadata": {},
   "source": [
    "Customers without online backup are more likely to churn."
   ]
  },
  {
   "cell_type": "code",
   "execution_count": 37,
   "id": "6e991c13",
   "metadata": {},
   "outputs": [
    {
     "data": {
      "text/plain": [
       "<AxesSubplot:xlabel='churn', ylabel='count'>"
      ]
     },
     "execution_count": 37,
     "metadata": {},
     "output_type": "execute_result"
    },
    {
     "data": {
      "image/png": "[encoded data removed]",
      "text/plain": [
       "<Figure size 432x288 with 1 Axes>"
      ]
     },
     "metadata": {
      "needs_background": "light"
     },
     "output_type": "display_data"
    }
   ],
   "source": [
    "sns.countplot(data=train, x='churn', hue ='streaming_tv')"
   ]
  },
  {
   "cell_type": "code",
   "execution_count": 38,
   "id": "8983cf2b",
   "metadata": {},
   "outputs": [
    {
     "data": {
      "text/plain": [
       "True     0.521033\n",
       "False    0.478967\n",
       "Name: streaming_tv, dtype: float64"
      ]
     },
     "execution_count": 38,
     "metadata": {},
     "output_type": "execute_result"
    }
   ],
   "source": [
    "(train[train.churn == 'Yes'].streaming_tv == 'No').value_counts(normalize=True)"
   ]
  },
  {
   "cell_type": "markdown",
   "id": "2237d06c",
   "metadata": {},
   "source": [
    "Customers without streaming tv are more likely to churn."
   ]
  },
  {
   "cell_type": "code",
   "execution_count": 39,
   "id": "8498c8bd",
   "metadata": {},
   "outputs": [
    {
     "data": {
      "text/plain": [
       "<AxesSubplot:xlabel='churn', ylabel='count'>"
      ]
     },
     "execution_count": 39,
     "metadata": {},
     "output_type": "execute_result"
    },
    {
     "data": {
      "image/png": "[encoded data removed]",
      "text/plain": [
       "<Figure size 432x288 with 1 Axes>"
      ]
     },
     "metadata": {
      "needs_background": "light"
     },
     "output_type": "display_data"
    }
   ],
   "source": [
    "sns.countplot(data=train, x='churn', hue ='streaming_movies')"
   ]
  },
  {
   "cell_type": "markdown",
   "id": "83ceb29b",
   "metadata": {},
   "source": [
    "Customers without streaming movies are more likely to churn."
   ]
  },
  {
   "cell_type": "markdown",
   "id": "3f496252",
   "metadata": {},
   "source": [
    "## Hypothesis Testing"
   ]
  },
  {
   "cell_type": "markdown",
   "id": "dc08ab6c",
   "metadata": {},
   "source": [
    "### T -Test"
   ]
  },
  {
   "cell_type": "code",
   "execution_count": 40,
   "id": "1096c4c9",
   "metadata": {},
   "outputs": [
    {
     "data": {
      "text/plain": [
       "<AxesSubplot:>"
      ]
     },
     "execution_count": 40,
     "metadata": {},
     "output_type": "execute_result"
    },
    {
     "data": {
      "image/png": "[encoded data removed]",
      "text/plain": [
       "<Figure size 432x288 with 1 Axes>"
      ]
     },
     "metadata": {
      "needs_background": "light"
     },
     "output_type": "display_data"
    }
   ],
   "source": [
    "train.monthly_charges.hist()"
   ]
  },
  {
   "cell_type": "code",
   "execution_count": 41,
   "id": "347ad07d",
   "metadata": {},
   "outputs": [
    {
     "data": {
      "text/plain": [
       "<AxesSubplot:>"
      ]
     },
     "execution_count": 41,
     "metadata": {},
     "output_type": "execute_result"
    },
    {
     "data": {
      "image/png": "[encoded data removed]",
      "text/plain": [
       "<Figure size 432x288 with 1 Axes>"
      ]
     },
     "metadata": {
      "needs_background": "light"
     },
     "output_type": "display_data"
    }
   ],
   "source": [
    "churned = train[train.churn == 'Yes'].monthly_charges\n",
    "\n",
    "churned.hist()\n"
   ]
  },
  {
   "cell_type": "markdown",
   "id": "fc5e4f69",
   "metadata": {},
   "source": [
    "Null hypothesis: The mean of monthly charges of churned customers <= the mean of monthly charges of all customers\n",
    "\n",
    "Alternative hypothesis: The meean of monthly charges of churned customers > the mean of monthly charges of all customers"
   ]
  },
  {
   "cell_type": "code",
   "execution_count": 42,
   "id": "aa0b14e1",
   "metadata": {},
   "outputs": [
    {
     "data": {
      "text/plain": [
       "(13.037366230308015, 4.1597964256756695e-36)"
      ]
     },
     "execution_count": 42,
     "metadata": {},
     "output_type": "execute_result"
    }
   ],
   "source": [
    "churned = train[train.churn == 'Yes'].monthly_charges\n",
    "pop_mean = train.monthly_charges.mean()\n",
    "\n",
    "t, p = stats.ttest_1samp(churned, pop_mean)\n",
    "\n",
    "t,p\n"
   ]
  },
  {
   "cell_type": "code",
   "execution_count": 43,
   "id": "a2fcb201",
   "metadata": {},
   "outputs": [
    {
     "name": "stdout",
     "output_type": "stream",
     "text": [
      "Reject the null\n"
     ]
    }
   ],
   "source": [
    "if p/2 > alpha:\n",
    "    print(\"Fail to reject the null\")\n",
    "elif t < 0:\n",
    "    print(\"Fail to reject the null\")\n",
    "else:\n",
    "    print(\"Reject the null\")"
   ]
  },
  {
   "cell_type": "markdown",
   "id": "efe31a1b",
   "metadata": {},
   "source": [
    "Null hypothesis: The mean of the tenure of churned customers >= the mean of the tenure of all customers\n",
    "\n",
    "Alternative hypothesis: The mean of the tenure of churned customers < the mean of the tenure of all customers"
   ]
  },
  {
   "cell_type": "code",
   "execution_count": 44,
   "id": "944d93a6",
   "metadata": {},
   "outputs": [
    {
     "data": {
      "text/plain": [
       "(-23.413234891011875, 8.47428580109463e-98)"
      ]
     },
     "execution_count": 44,
     "metadata": {},
     "output_type": "execute_result"
    }
   ],
   "source": [
    "churned = train[train.churn == 'Yes'].tenure\n",
    "pop_mean = train.tenure.mean()\n",
    "\n",
    "t, p = stats.ttest_1samp(churned, pop_mean)\n",
    "\n",
    "t,p\n"
   ]
  },
  {
   "cell_type": "code",
   "execution_count": 45,
   "id": "7ef8be8e",
   "metadata": {},
   "outputs": [
    {
     "name": "stdout",
     "output_type": "stream",
     "text": [
      "Reject the null\n"
     ]
    }
   ],
   "source": [
    "if p/2 > alpha:\n",
    "    print(\"Fail to reject the null\")\n",
    "elif t > 0:\n",
    "    print(\"Fail to reject the null\")\n",
    "else:\n",
    "    print(\"Reject the null\")"
   ]
  },
  {
   "cell_type": "markdown",
   "id": "9253392a",
   "metadata": {},
   "source": [
    "### Chi- Squared"
   ]
  },
  {
   "cell_type": "markdown",
   "id": "62fb1aff",
   "metadata": {},
   "source": [
    "Null Hypothesis: Churn and being a senior citizen are independent.\n",
    "\n",
    "Alternative Hypothesis: Churn and being a senior citizen are dependent."
   ]
  },
  {
   "cell_type": "code",
   "execution_count": 46,
   "id": "1717e304",
   "metadata": {},
   "outputs": [],
   "source": [
    "observed = pd.crosstab(train.senior_citizen, train.churn)"
   ]
  },
  {
   "cell_type": "code",
   "execution_count": 47,
   "id": "b27c2017",
   "metadata": {},
   "outputs": [
    {
     "data": {
      "text/plain": [
       "1.7561315684822695e-23"
      ]
     },
     "execution_count": 47,
     "metadata": {},
     "output_type": "execute_result"
    }
   ],
   "source": [
    "chi2, p, degf, expected = stats.chi2_contingency(observed)\n",
    "p"
   ]
  },
  {
   "cell_type": "code",
   "execution_count": 48,
   "id": "fb2ce799",
   "metadata": {},
   "outputs": [
    {
     "name": "stdout",
     "output_type": "stream",
     "text": [
      "Reject the null hypothesis\n"
     ]
    }
   ],
   "source": [
    "if p < alpha:\n",
    "    print(\"Reject the null hypothesis\")\n",
    "else:\n",
    "    print(\"Fail to reject the null\")"
   ]
  },
  {
   "cell_type": "markdown",
   "id": "1f8b4767",
   "metadata": {},
   "source": [
    "Null Hypothesis: Churn and having dependents are independent.\n",
    "\n",
    "Alternative Hypothesis: Churn and having dependents are dependent."
   ]
  },
  {
   "cell_type": "code",
   "execution_count": 49,
   "id": "b67c09e7",
   "metadata": {},
   "outputs": [
    {
     "data": {
      "text/html": [
       "<div>\n",
       "<style scoped>\n",
       "    .dataframe tbody tr th:only-of-type {\n",
       "        vertical-align: middle;\n",
       "    }\n",
       "\n",
       "    .dataframe tbody tr th {\n",
       "        vertical-align: top;\n",
       "    }\n",
       "\n",
       "    .dataframe thead th {\n",
       "        text-align: right;\n",
       "    }\n",
       "</style>\n",
       "<table border=\"1\" class=\"dataframe\">\n",
       "  <thead>\n",
       "    <tr style=\"text-align: right;\">\n",
       "      <th>churn</th>\n",
       "      <th>No</th>\n",
       "      <th>Yes</th>\n",
       "    </tr>\n",
       "    <tr>\n",
       "      <th>dependents</th>\n",
       "      <th></th>\n",
       "      <th></th>\n",
       "    </tr>\n",
       "  </thead>\n",
       "  <tbody>\n",
       "    <tr>\n",
       "      <th>No</th>\n",
       "      <td>1885</td>\n",
       "      <td>860</td>\n",
       "    </tr>\n",
       "    <tr>\n",
       "      <th>Yes</th>\n",
       "      <td>1006</td>\n",
       "      <td>186</td>\n",
       "    </tr>\n",
       "  </tbody>\n",
       "</table>\n",
       "</div>"
      ],
      "text/plain": [
       "churn         No  Yes\n",
       "dependents           \n",
       "No          1885  860\n",
       "Yes         1006  186"
      ]
     },
     "execution_count": 49,
     "metadata": {},
     "output_type": "execute_result"
    }
   ],
   "source": [
    "observed = pd.crosstab(train.dependents, train.churn)\n",
    "observed"
   ]
  },
  {
   "cell_type": "code",
   "execution_count": 50,
   "id": "3f2f426b",
   "metadata": {},
   "outputs": [
    {
     "data": {
      "text/plain": [
       "1.5385742575781703e-24"
      ]
     },
     "execution_count": 50,
     "metadata": {},
     "output_type": "execute_result"
    }
   ],
   "source": [
    "chi2, p, degf, expected = stats.chi2_contingency(observed)\n",
    "p"
   ]
  },
  {
   "cell_type": "code",
   "execution_count": 51,
   "id": "2f3703c8",
   "metadata": {},
   "outputs": [
    {
     "name": "stdout",
     "output_type": "stream",
     "text": [
      "Reject the null hypothesis\n"
     ]
    }
   ],
   "source": [
    "if p < alpha:\n",
    "    print(\"Reject the null hypothesis\")\n",
    "else:\n",
    "    print(\"Fail to reject the null\")"
   ]
  },
  {
   "cell_type": "markdown",
   "id": "18913056",
   "metadata": {},
   "source": [
    "Null Hypothesis: Churn and having a partner are independent.\n",
    "\n",
    "Alternative Hypothesis: Churn and having a partner are dependent."
   ]
  },
  {
   "cell_type": "code",
   "execution_count": 52,
   "id": "c2369169",
   "metadata": {},
   "outputs": [
    {
     "data": {
      "text/html": [
       "<div>\n",
       "<style scoped>\n",
       "    .dataframe tbody tr th:only-of-type {\n",
       "        vertical-align: middle;\n",
       "    }\n",
       "\n",
       "    .dataframe tbody tr th {\n",
       "        vertical-align: top;\n",
       "    }\n",
       "\n",
       "    .dataframe thead th {\n",
       "        text-align: right;\n",
       "    }\n",
       "</style>\n",
       "<table border=\"1\" class=\"dataframe\">\n",
       "  <thead>\n",
       "    <tr style=\"text-align: right;\">\n",
       "      <th>churn</th>\n",
       "      <th>No</th>\n",
       "      <th>Yes</th>\n",
       "    </tr>\n",
       "    <tr>\n",
       "      <th>partner</th>\n",
       "      <th></th>\n",
       "      <th></th>\n",
       "    </tr>\n",
       "  </thead>\n",
       "  <tbody>\n",
       "    <tr>\n",
       "      <th>No</th>\n",
       "      <td>1364</td>\n",
       "      <td>663</td>\n",
       "    </tr>\n",
       "    <tr>\n",
       "      <th>Yes</th>\n",
       "      <td>1527</td>\n",
       "      <td>383</td>\n",
       "    </tr>\n",
       "  </tbody>\n",
       "</table>\n",
       "</div>"
      ],
      "text/plain": [
       "churn      No  Yes\n",
       "partner           \n",
       "No       1364  663\n",
       "Yes      1527  383"
      ]
     },
     "execution_count": 52,
     "metadata": {},
     "output_type": "execute_result"
    }
   ],
   "source": [
    "observed = pd.crosstab(train.partner, train.churn)\n",
    "observed"
   ]
  },
  {
   "cell_type": "code",
   "execution_count": 53,
   "id": "7c37024a",
   "metadata": {},
   "outputs": [
    {
     "data": {
      "text/plain": [
       "3.578598859815084e-19"
      ]
     },
     "execution_count": 53,
     "metadata": {},
     "output_type": "execute_result"
    }
   ],
   "source": [
    "chi2, p, degf, expected = stats.chi2_contingency(observed)\n",
    "p"
   ]
  },
  {
   "cell_type": "code",
   "execution_count": 54,
   "id": "bca66671",
   "metadata": {},
   "outputs": [
    {
     "name": "stdout",
     "output_type": "stream",
     "text": [
      "Reject the null hypothesis\n"
     ]
    }
   ],
   "source": [
    "if p < alpha:\n",
    "    print(\"Reject the null hypothesis\")\n",
    "else:\n",
    "    print(\"Fail to reject the null\")"
   ]
  },
  {
   "cell_type": "markdown",
   "id": "51b4d8d9",
   "metadata": {},
   "source": [
    "Null Hypothesis: Churn and internet service type are independent.\n",
    "\n",
    "Alternative Hypothesis: Churn and internet service type are dependent."
   ]
  },
  {
   "cell_type": "code",
   "execution_count": 55,
   "id": "7bb869be",
   "metadata": {},
   "outputs": [],
   "source": [
    "observed = pd.crosstab(train.internet_service_type, train.churn)"
   ]
  },
  {
   "cell_type": "code",
   "execution_count": 56,
   "id": "14b2d314",
   "metadata": {},
   "outputs": [
    {
     "data": {
      "text/plain": [
       "3.2062272759526154e-96"
      ]
     },
     "execution_count": 56,
     "metadata": {},
     "output_type": "execute_result"
    }
   ],
   "source": [
    "chi2, p, degf, expected = stats.chi2_contingency(observed)\n",
    "p"
   ]
  },
  {
   "cell_type": "code",
   "execution_count": 57,
   "id": "646c4aee",
   "metadata": {
    "scrolled": true
   },
   "outputs": [
    {
     "name": "stdout",
     "output_type": "stream",
     "text": [
      "Reject the null hypothesis\n"
     ]
    }
   ],
   "source": [
    "if p < alpha:\n",
    "    print(\"Reject the null hypothesis\")\n",
    "else:\n",
    "    print(\"Fail to reject the null\")"
   ]
  },
  {
   "cell_type": "markdown",
   "id": "f047ce8c",
   "metadata": {},
   "source": [
    "Null Hypothesis: Churn and having fiber optic internet are independent.\n",
    "\n",
    "Alternative Hypothesis: Churn and having fiber optic internet are dependent."
   ]
  },
  {
   "cell_type": "code",
   "execution_count": 58,
   "id": "08e1351b",
   "metadata": {},
   "outputs": [],
   "source": [
    "observed = pd.crosstab(train.internet_service_type == 'Fiber optic', train.churn)"
   ]
  },
  {
   "cell_type": "code",
   "execution_count": 59,
   "id": "9349b249",
   "metadata": {},
   "outputs": [
    {
     "data": {
      "text/plain": [
       "2.831419548361709e-90"
      ]
     },
     "execution_count": 59,
     "metadata": {},
     "output_type": "execute_result"
    }
   ],
   "source": [
    "chi2, p, degf, expected = stats.chi2_contingency(observed)\n",
    "p"
   ]
  },
  {
   "cell_type": "code",
   "execution_count": 60,
   "id": "022b422e",
   "metadata": {},
   "outputs": [
    {
     "name": "stdout",
     "output_type": "stream",
     "text": [
      "Reject the null hypothesis\n"
     ]
    }
   ],
   "source": [
    "if p < alpha:\n",
    "    print(\"Reject the null hypothesis\")\n",
    "else:\n",
    "    print(\"Fail to reject the null\")"
   ]
  },
  {
   "cell_type": "markdown",
   "id": "48c64077",
   "metadata": {},
   "source": [
    "Null hypothesis: Churn and payment type are independent.\n",
    "\n",
    "Alternative hypothesis: Churn and payment type are dependent."
   ]
  },
  {
   "cell_type": "code",
   "execution_count": 61,
   "id": "f82916bf",
   "metadata": {},
   "outputs": [
    {
     "data": {
      "text/html": [
       "<div>\n",
       "<style scoped>\n",
       "    .dataframe tbody tr th:only-of-type {\n",
       "        vertical-align: middle;\n",
       "    }\n",
       "\n",
       "    .dataframe tbody tr th {\n",
       "        vertical-align: top;\n",
       "    }\n",
       "\n",
       "    .dataframe thead th {\n",
       "        text-align: right;\n",
       "    }\n",
       "</style>\n",
       "<table border=\"1\" class=\"dataframe\">\n",
       "  <thead>\n",
       "    <tr style=\"text-align: right;\">\n",
       "      <th>churn</th>\n",
       "      <th>No</th>\n",
       "      <th>Yes</th>\n",
       "    </tr>\n",
       "    <tr>\n",
       "      <th>payment_type</th>\n",
       "      <th></th>\n",
       "      <th></th>\n",
       "    </tr>\n",
       "  </thead>\n",
       "  <tbody>\n",
       "    <tr>\n",
       "      <th>Bank transfer (automatic)</th>\n",
       "      <td>713</td>\n",
       "      <td>149</td>\n",
       "    </tr>\n",
       "    <tr>\n",
       "      <th>Credit card (automatic)</th>\n",
       "      <td>750</td>\n",
       "      <td>145</td>\n",
       "    </tr>\n",
       "    <tr>\n",
       "      <th>Electronic check</th>\n",
       "      <td>708</td>\n",
       "      <td>581</td>\n",
       "    </tr>\n",
       "    <tr>\n",
       "      <th>Mailed check</th>\n",
       "      <td>720</td>\n",
       "      <td>171</td>\n",
       "    </tr>\n",
       "  </tbody>\n",
       "</table>\n",
       "</div>"
      ],
      "text/plain": [
       "churn                       No  Yes\n",
       "payment_type                       \n",
       "Bank transfer (automatic)  713  149\n",
       "Credit card (automatic)    750  145\n",
       "Electronic check           708  581\n",
       "Mailed check               720  171"
      ]
     },
     "execution_count": 61,
     "metadata": {},
     "output_type": "execute_result"
    }
   ],
   "source": [
    "observed = pd.crosstab(train.payment_type, train.churn)\n",
    "observed"
   ]
  },
  {
   "cell_type": "code",
   "execution_count": 62,
   "id": "35a9ea89",
   "metadata": {},
   "outputs": [
    {
     "data": {
      "text/plain": [
       "4.64358817076333e-73"
      ]
     },
     "execution_count": 62,
     "metadata": {},
     "output_type": "execute_result"
    }
   ],
   "source": [
    "chi2, p, degf, expected = stats.chi2_contingency(observed)\n",
    "p"
   ]
  },
  {
   "cell_type": "code",
   "execution_count": 63,
   "id": "57ab2694",
   "metadata": {},
   "outputs": [
    {
     "name": "stdout",
     "output_type": "stream",
     "text": [
      "Reject the null hypothesis\n"
     ]
    }
   ],
   "source": [
    "if p < alpha:\n",
    "    print(\"Reject the null hypothesis\")\n",
    "else:\n",
    "    print(\"Fail to reject the null\")"
   ]
  },
  {
   "cell_type": "markdown",
   "id": "6338d923",
   "metadata": {},
   "source": [
    "Null hypothesis: Churn and electronic check payments are independent.\n",
    "\n",
    "Alternative hypothesis: Churn and electronic check payments are dependent."
   ]
  },
  {
   "cell_type": "code",
   "execution_count": 64,
   "id": "85094555",
   "metadata": {},
   "outputs": [
    {
     "data": {
      "text/html": [
       "<div>\n",
       "<style scoped>\n",
       "    .dataframe tbody tr th:only-of-type {\n",
       "        vertical-align: middle;\n",
       "    }\n",
       "\n",
       "    .dataframe tbody tr th {\n",
       "        vertical-align: top;\n",
       "    }\n",
       "\n",
       "    .dataframe thead th {\n",
       "        text-align: right;\n",
       "    }\n",
       "</style>\n",
       "<table border=\"1\" class=\"dataframe\">\n",
       "  <thead>\n",
       "    <tr style=\"text-align: right;\">\n",
       "      <th>churn</th>\n",
       "      <th>No</th>\n",
       "      <th>Yes</th>\n",
       "    </tr>\n",
       "    <tr>\n",
       "      <th>payment_type</th>\n",
       "      <th></th>\n",
       "      <th></th>\n",
       "    </tr>\n",
       "  </thead>\n",
       "  <tbody>\n",
       "    <tr>\n",
       "      <th>False</th>\n",
       "      <td>2183</td>\n",
       "      <td>465</td>\n",
       "    </tr>\n",
       "    <tr>\n",
       "      <th>True</th>\n",
       "      <td>708</td>\n",
       "      <td>581</td>\n",
       "    </tr>\n",
       "  </tbody>\n",
       "</table>\n",
       "</div>"
      ],
      "text/plain": [
       "churn           No  Yes\n",
       "payment_type           \n",
       "False         2183  465\n",
       "True           708  581"
      ]
     },
     "execution_count": 64,
     "metadata": {},
     "output_type": "execute_result"
    }
   ],
   "source": [
    "observed = pd.crosstab(train.payment_type == 'Electronic check', train.churn)\n",
    "observed"
   ]
  },
  {
   "cell_type": "code",
   "execution_count": 65,
   "id": "fa166ee0",
   "metadata": {},
   "outputs": [
    {
     "data": {
      "text/plain": [
       "7.910587922260644e-75"
      ]
     },
     "execution_count": 65,
     "metadata": {},
     "output_type": "execute_result"
    }
   ],
   "source": [
    "chi2, p, degf, expected = stats.chi2_contingency(observed)\n",
    "p"
   ]
  },
  {
   "cell_type": "code",
   "execution_count": 66,
   "id": "f5901d8a",
   "metadata": {},
   "outputs": [
    {
     "name": "stdout",
     "output_type": "stream",
     "text": [
      "Reject the null hypothesis\n"
     ]
    }
   ],
   "source": [
    "if p < alpha:\n",
    "    print(\"Reject the null hypothesis\")\n",
    "else:\n",
    "    print(\"Fail to reject the null\")"
   ]
  },
  {
   "cell_type": "markdown",
   "id": "f87fbe31",
   "metadata": {},
   "source": [
    "Null hypothesis: Churn and online security are independent.\n",
    "\n",
    "Alternative hypothesis: Churn and online security are dependent."
   ]
  },
  {
   "cell_type": "code",
   "execution_count": 67,
   "id": "764d8a74",
   "metadata": {},
   "outputs": [
    {
     "data": {
      "text/html": [
       "<div>\n",
       "<style scoped>\n",
       "    .dataframe tbody tr th:only-of-type {\n",
       "        vertical-align: middle;\n",
       "    }\n",
       "\n",
       "    .dataframe tbody tr th {\n",
       "        vertical-align: top;\n",
       "    }\n",
       "\n",
       "    .dataframe thead th {\n",
       "        text-align: right;\n",
       "    }\n",
       "</style>\n",
       "<table border=\"1\" class=\"dataframe\">\n",
       "  <thead>\n",
       "    <tr style=\"text-align: right;\">\n",
       "      <th>churn</th>\n",
       "      <th>No</th>\n",
       "      <th>Yes</th>\n",
       "    </tr>\n",
       "    <tr>\n",
       "      <th>online_security</th>\n",
       "      <th></th>\n",
       "      <th></th>\n",
       "    </tr>\n",
       "  </thead>\n",
       "  <tbody>\n",
       "    <tr>\n",
       "      <th>No</th>\n",
       "      <td>1099</td>\n",
       "      <td>819</td>\n",
       "    </tr>\n",
       "    <tr>\n",
       "      <th>No internet service</th>\n",
       "      <td>803</td>\n",
       "      <td>64</td>\n",
       "    </tr>\n",
       "    <tr>\n",
       "      <th>Yes</th>\n",
       "      <td>989</td>\n",
       "      <td>163</td>\n",
       "    </tr>\n",
       "  </tbody>\n",
       "</table>\n",
       "</div>"
      ],
      "text/plain": [
       "churn                  No  Yes\n",
       "online_security               \n",
       "No                   1099  819\n",
       "No internet service   803   64\n",
       "Yes                   989  163"
      ]
     },
     "execution_count": 67,
     "metadata": {},
     "output_type": "execute_result"
    }
   ],
   "source": [
    "observed = pd.crosstab(train.online_security, train.churn)\n",
    "observed"
   ]
  },
  {
   "cell_type": "code",
   "execution_count": 68,
   "id": "63d32c26",
   "metadata": {},
   "outputs": [
    {
     "data": {
      "text/plain": [
       "1.3862996282206897e-111"
      ]
     },
     "execution_count": 68,
     "metadata": {},
     "output_type": "execute_result"
    }
   ],
   "source": [
    "chi2, p, degf, expected = stats.chi2_contingency(observed)\n",
    "p"
   ]
  },
  {
   "cell_type": "code",
   "execution_count": 69,
   "id": "126b961d",
   "metadata": {},
   "outputs": [
    {
     "name": "stdout",
     "output_type": "stream",
     "text": [
      "Reject the null hypothesis\n"
     ]
    }
   ],
   "source": [
    "if p < alpha:\n",
    "    print(\"Reject the null hypothesis\")\n",
    "else:\n",
    "    print(\"Fail to reject the null\")"
   ]
  },
  {
   "cell_type": "markdown",
   "id": "9fabb47c",
   "metadata": {},
   "source": [
    "Null hypothesis: Churn and online backup are independent.\n",
    "\n",
    "Alternative hypothesis: Churn and online backup are dependent."
   ]
  },
  {
   "cell_type": "code",
   "execution_count": 70,
   "id": "70087049",
   "metadata": {},
   "outputs": [
    {
     "data": {
      "text/html": [
       "<div>\n",
       "<style scoped>\n",
       "    .dataframe tbody tr th:only-of-type {\n",
       "        vertical-align: middle;\n",
       "    }\n",
       "\n",
       "    .dataframe tbody tr th {\n",
       "        vertical-align: top;\n",
       "    }\n",
       "\n",
       "    .dataframe thead th {\n",
       "        text-align: right;\n",
       "    }\n",
       "</style>\n",
       "<table border=\"1\" class=\"dataframe\">\n",
       "  <thead>\n",
       "    <tr style=\"text-align: right;\">\n",
       "      <th>churn</th>\n",
       "      <th>No</th>\n",
       "      <th>Yes</th>\n",
       "    </tr>\n",
       "    <tr>\n",
       "      <th>online_backup</th>\n",
       "      <th></th>\n",
       "      <th></th>\n",
       "    </tr>\n",
       "  </thead>\n",
       "  <tbody>\n",
       "    <tr>\n",
       "      <th>No</th>\n",
       "      <td>1023</td>\n",
       "      <td>674</td>\n",
       "    </tr>\n",
       "    <tr>\n",
       "      <th>No internet service</th>\n",
       "      <td>803</td>\n",
       "      <td>64</td>\n",
       "    </tr>\n",
       "    <tr>\n",
       "      <th>Yes</th>\n",
       "      <td>1065</td>\n",
       "      <td>308</td>\n",
       "    </tr>\n",
       "  </tbody>\n",
       "</table>\n",
       "</div>"
      ],
      "text/plain": [
       "churn                  No  Yes\n",
       "online_backup                 \n",
       "No                   1023  674\n",
       "No internet service   803   64\n",
       "Yes                  1065  308"
      ]
     },
     "execution_count": 70,
     "metadata": {},
     "output_type": "execute_result"
    }
   ],
   "source": [
    "observed = pd.crosstab(train.online_backup, train.churn)\n",
    "observed"
   ]
  },
  {
   "cell_type": "code",
   "execution_count": 71,
   "id": "a26170d8",
   "metadata": {},
   "outputs": [
    {
     "data": {
      "text/plain": [
       "1.6093415124241013e-71"
      ]
     },
     "execution_count": 71,
     "metadata": {},
     "output_type": "execute_result"
    }
   ],
   "source": [
    "chi2, p, degf, expected = stats.chi2_contingency(observed)\n",
    "p"
   ]
  },
  {
   "cell_type": "code",
   "execution_count": 72,
   "id": "da1bcd93",
   "metadata": {},
   "outputs": [
    {
     "name": "stdout",
     "output_type": "stream",
     "text": [
      "Reject the null hypothesis\n"
     ]
    }
   ],
   "source": [
    "if p < alpha:\n",
    "    print(\"Reject the null hypothesis\")\n",
    "else:\n",
    "    print(\"Fail to reject the null\")"
   ]
  },
  {
   "cell_type": "markdown",
   "id": "5fe56ea2",
   "metadata": {},
   "source": [
    "Null hypothesis: Churn and tech support are independent.\n",
    "\n",
    "Alternative hypothesis: Churn and tech support are dependent."
   ]
  },
  {
   "cell_type": "code",
   "execution_count": 73,
   "id": "b958f061",
   "metadata": {},
   "outputs": [
    {
     "data": {
      "text/html": [
       "<div>\n",
       "<style scoped>\n",
       "    .dataframe tbody tr th:only-of-type {\n",
       "        vertical-align: middle;\n",
       "    }\n",
       "\n",
       "    .dataframe tbody tr th {\n",
       "        vertical-align: top;\n",
       "    }\n",
       "\n",
       "    .dataframe thead th {\n",
       "        text-align: right;\n",
       "    }\n",
       "</style>\n",
       "<table border=\"1\" class=\"dataframe\">\n",
       "  <thead>\n",
       "    <tr style=\"text-align: right;\">\n",
       "      <th>churn</th>\n",
       "      <th>No</th>\n",
       "      <th>Yes</th>\n",
       "    </tr>\n",
       "    <tr>\n",
       "      <th>tech_support</th>\n",
       "      <th></th>\n",
       "      <th></th>\n",
       "    </tr>\n",
       "  </thead>\n",
       "  <tbody>\n",
       "    <tr>\n",
       "      <th>No</th>\n",
       "      <td>1126</td>\n",
       "      <td>805</td>\n",
       "    </tr>\n",
       "    <tr>\n",
       "      <th>No internet service</th>\n",
       "      <td>803</td>\n",
       "      <td>64</td>\n",
       "    </tr>\n",
       "    <tr>\n",
       "      <th>Yes</th>\n",
       "      <td>962</td>\n",
       "      <td>177</td>\n",
       "    </tr>\n",
       "  </tbody>\n",
       "</table>\n",
       "</div>"
      ],
      "text/plain": [
       "churn                  No  Yes\n",
       "tech_support                  \n",
       "No                   1126  805\n",
       "No internet service   803   64\n",
       "Yes                   962  177"
      ]
     },
     "execution_count": 73,
     "metadata": {},
     "output_type": "execute_result"
    }
   ],
   "source": [
    "observed = pd.crosstab(train.tech_support, train.churn)\n",
    "observed"
   ]
  },
  {
   "cell_type": "code",
   "execution_count": 74,
   "id": "42e0bfb9",
   "metadata": {},
   "outputs": [
    {
     "data": {
      "text/plain": [
       "8.373959266633126e-101"
      ]
     },
     "execution_count": 74,
     "metadata": {},
     "output_type": "execute_result"
    }
   ],
   "source": [
    "chi2, p, degf, expected = stats.chi2_contingency(observed)\n",
    "p"
   ]
  },
  {
   "cell_type": "code",
   "execution_count": 75,
   "id": "55a8f3b4",
   "metadata": {},
   "outputs": [
    {
     "name": "stdout",
     "output_type": "stream",
     "text": [
      "Reject the null hypothesis\n"
     ]
    }
   ],
   "source": [
    "if p < alpha:\n",
    "    print(\"Reject the null hypothesis\")\n",
    "else:\n",
    "    print(\"Fail to reject the null\")"
   ]
  },
  {
   "cell_type": "markdown",
   "id": "df7dee77",
   "metadata": {},
   "source": [
    "### Takeaways\n",
    "\n",
    "Key indicators for churn are:\n",
    "\n",
    "        Family type:\n",
    "            Seniors, those without partners, and those without dependents are more likely to churn.\n",
    "            \n",
    "        Monthly charges:\n",
    "            Those with higher monthly charges are more likely to churn.\n",
    "            \n",
    "        Payment type:\n",
    "            Those with electronic checks are more likely to churn.\n",
    "            \n",
    "        Internet type:\n",
    "            Customers with fiber optic internet churn at a higher rate.\n",
    "            \n",
    "        Add-ons:\n",
    "            Customers without tech support, online backup, or online security churn at higher rates.\n",
    "        "
   ]
  },
  {
   "cell_type": "markdown",
   "id": "cf96dfd2",
   "metadata": {},
   "source": [
    "## Modeling\n",
    "\n",
    "True Positive: Predicted that a customer has churned and they did.\n",
    "\n",
    "False Positive: Predicted that a customer has churned and they did not.\n",
    "\n",
    "True Negative: Predicted that a customer had not churned and they did not.\n",
    "\n",
    "False Negative: Predicted that a customer had not churned and they did."
   ]
  },
  {
   "cell_type": "code",
   "execution_count": 76,
   "id": "14cd9ce5",
   "metadata": {},
   "outputs": [
    {
     "data": {
      "text/plain": [
       "0    0.734315\n",
       "1    0.265685\n",
       "Name: has_churned, dtype: float64"
      ]
     },
     "execution_count": 76,
     "metadata": {},
     "output_type": "execute_result"
    }
   ],
   "source": [
    "# determine baseline accuracy\n",
    "train.has_churned.value_counts(normalize=True)"
   ]
  },
  {
   "cell_type": "markdown",
   "id": "55d1b1d3",
   "metadata": {},
   "source": [
    "The baseline model is 73% accurate assuming that 0 customers churn."
   ]
  },
  {
   "cell_type": "markdown",
   "id": "10ce141b",
   "metadata": {},
   "source": [
    "### Decision Tree\n",
    "\n",
    "- The best model optimized for accuracy has a max depth of 4 with a train accuracy of 80% and a validation accuracy of 78%\twhich out performs the baseline model. \n"
   ]
  },
  {
   "cell_type": "code",
   "execution_count": 569,
   "id": "d6324ac2",
   "metadata": {},
   "outputs": [],
   "source": [
    "# create X & y version of train, where y is a series with just the target variable and X are all the features. \n",
    "\n",
    "X_train = train.drop(columns=['customer_id', 'gender', 'partner', 'dependents',\\\n",
    "                              'phone_service', 'multiple_lines', 'online_security',\\\n",
    "                              'online_backup', 'device_protection', 'tech_support', 'streaming_tv',\\\n",
    "                              'streaming_movies', 'paperless_billing', 'churn', 'contract_type',\\\n",
    "                              'internet_service_type', 'payment_type', 'has_churned', 'is_female'])\n",
    "y_train = train.has_churned\n",
    "\n",
    "X_validate = validate.drop(columns=['customer_id', 'gender', 'partner', 'dependents',\\\n",
    "                              'phone_service', 'multiple_lines', 'online_security',\\\n",
    "                              'online_backup', 'device_protection', 'tech_support', 'streaming_tv',\\\n",
    "                              'streaming_movies', 'paperless_billing', 'churn', 'contract_type',\\\n",
    "                              'internet_service_type', 'payment_type', 'has_churned', 'is_female'])\n",
    "y_validate = validate.has_churned\n",
    "\n",
    "X_test = test.drop(columns=['customer_id', 'gender', 'partner', 'dependents',\\\n",
    "                              'phone_service', 'multiple_lines', 'online_security',\\\n",
    "                              'online_backup', 'device_protection', 'tech_support', 'streaming_tv',\\\n",
    "                              'streaming_movies', 'paperless_billing', 'churn', 'contract_type',\\\n",
    "                              'internet_service_type', 'payment_type', 'has_churned', 'is_female'])\n",
    "y_test = test.has_churned"
   ]
  },
  {
   "cell_type": "code",
   "execution_count": 570,
   "id": "3c82e47f",
   "metadata": {},
   "outputs": [],
   "source": [
    "# create the decision tree\n",
    "clf = DecisionTreeClassifier(max_depth=4, random_state=123)"
   ]
  },
  {
   "cell_type": "code",
   "execution_count": 571,
   "id": "b60f3885",
   "metadata": {},
   "outputs": [],
   "source": [
    "# fit the model\n",
    "clf = clf.fit(X_train, y_train)"
   ]
  },
  {
   "cell_type": "code",
   "execution_count": 572,
   "id": "21c04a2d",
   "metadata": {},
   "outputs": [
    {
     "data": {
      "text/plain": [
       "[Text(362.7, 342.46799999999996, 'tenure <= 15.5\\ngini = 0.39\\nsamples = 3937\\nvalue = [2891, 1046]\\nclass = 0'),\n",
       " Text(181.35, 266.364, 'internet_service_type_Fiber optic <= 0.5\\ngini = 0.498\\nsamples = 1371\\nvalue = [733, 638]\\nclass = 0'),\n",
       " Text(90.675, 190.26, 'tenure <= 3.5\\ngini = 0.416\\nsamples = 804\\nvalue = [567, 237]\\nclass = 0'),\n",
       " Text(45.3375, 114.156, 'tech_support_No internet service <= 0.5\\ngini = 0.491\\nsamples = 356\\nvalue = [202, 154]\\nclass = 0'),\n",
       " Text(22.66875, 38.051999999999964, 'gini = 0.495\\nsamples = 203\\nvalue = [91, 112]\\nclass = 1'),\n",
       " Text(68.00625, 38.051999999999964, 'gini = 0.398\\nsamples = 153\\nvalue = [111, 42]\\nclass = 0'),\n",
       " Text(136.0125, 114.156, 'monthly_charges <= 20.925\\ngini = 0.302\\nsamples = 448\\nvalue = [365, 83]\\nclass = 0'),\n",
       " Text(113.34375, 38.051999999999964, 'gini = 0.111\\nsamples = 152\\nvalue = [143, 9]\\nclass = 0'),\n",
       " Text(158.68125, 38.051999999999964, 'gini = 0.375\\nsamples = 296\\nvalue = [222, 74]\\nclass = 0'),\n",
       " Text(272.025, 190.26, 'total_charges <= 124.475\\ngini = 0.414\\nsamples = 567\\nvalue = [166, 401]\\nclass = 1'),\n",
       " Text(226.6875, 114.156, 'tech_support_Yes <= 0.5\\ngini = 0.203\\nsamples = 131\\nvalue = [15, 116]\\nclass = 1'),\n",
       " Text(204.01874999999998, 38.051999999999964, 'gini = 0.174\\nsamples = 125\\nvalue = [12, 113]\\nclass = 1'),\n",
       " Text(249.35625, 38.051999999999964, 'gini = 0.5\\nsamples = 6\\nvalue = [3, 3]\\nclass = 0'),\n",
       " Text(317.3625, 114.156, 'monthly_charges <= 74.125\\ngini = 0.453\\nsamples = 436\\nvalue = [151, 285]\\nclass = 1'),\n",
       " Text(294.69374999999997, 38.051999999999964, 'gini = 0.498\\nsamples = 73\\nvalue = [39, 34]\\nclass = 0'),\n",
       " Text(340.03125, 38.051999999999964, 'gini = 0.427\\nsamples = 363\\nvalue = [112, 251]\\nclass = 1'),\n",
       " Text(544.05, 266.364, 'internet_service_type_Fiber optic <= 0.5\\ngini = 0.267\\nsamples = 2566\\nvalue = [2158, 408]\\nclass = 0'),\n",
       " Text(453.375, 190.26, 'contract_type_Two year <= 0.5\\ngini = 0.099\\nsamples = 1411\\nvalue = [1337, 74]\\nclass = 0'),\n",
       " Text(408.03749999999997, 114.156, 'monthly_charges <= 24.875\\ngini = 0.155\\nsamples = 742\\nvalue = [679, 63]\\nclass = 0'),\n",
       " Text(385.36875, 38.051999999999964, 'gini = 0.03\\nsamples = 197\\nvalue = [194, 3]\\nclass = 0'),\n",
       " Text(430.70625, 38.051999999999964, 'gini = 0.196\\nsamples = 545\\nvalue = [485, 60]\\nclass = 0'),\n",
       " Text(498.7125, 114.156, 'senior_citizen <= 0.5\\ngini = 0.032\\nsamples = 669\\nvalue = [658, 11]\\nclass = 0'),\n",
       " Text(476.04375, 38.051999999999964, 'gini = 0.022\\nsamples = 632\\nvalue = [625, 7]\\nclass = 0'),\n",
       " Text(521.38125, 38.051999999999964, 'gini = 0.193\\nsamples = 37\\nvalue = [33, 4]\\nclass = 0'),\n",
       " Text(634.725, 190.26, 'tenure <= 49.5\\ngini = 0.411\\nsamples = 1155\\nvalue = [821, 334]\\nclass = 0'),\n",
       " Text(589.3874999999999, 114.156, 'contract_type_One year <= 0.5\\ngini = 0.484\\nsamples = 597\\nvalue = [352, 245]\\nclass = 0'),\n",
       " Text(566.71875, 38.051999999999964, 'gini = 0.495\\nsamples = 493\\nvalue = [270, 223]\\nclass = 0'),\n",
       " Text(612.05625, 38.051999999999964, 'gini = 0.334\\nsamples = 104\\nvalue = [82, 22]\\nclass = 0'),\n",
       " Text(680.0625, 114.156, 'contract_type_Two year <= 0.5\\ngini = 0.268\\nsamples = 558\\nvalue = [469, 89]\\nclass = 0'),\n",
       " Text(657.39375, 38.051999999999964, 'gini = 0.342\\nsamples = 333\\nvalue = [260, 73]\\nclass = 0'),\n",
       " Text(702.7312499999999, 38.051999999999964, 'gini = 0.132\\nsamples = 225\\nvalue = [209, 16]\\nclass = 0')]"
      ]
     },
     "execution_count": 572,
     "metadata": {},
     "output_type": "execute_result"
    },
    {
     "data": {
      "image/png": "[encoded data removed]",
      "text/plain": [
       "<Figure size 936x504 with 1 Axes>"
      ]
     },
     "metadata": {
      "needs_background": "light"
     },
     "output_type": "display_data"
    }
   ],
   "source": [
    "# visualize the decision tree\n",
    "plt.figure(figsize=(13, 7))\n",
    "plot_tree(clf, feature_names=X_train.columns, class_names = clf.classes_.astype(str), rounded=True)\n"
   ]
  },
  {
   "cell_type": "code",
   "execution_count": 573,
   "id": "25061c4b",
   "metadata": {},
   "outputs": [
    {
     "data": {
      "text/plain": [
       "array([0, 0, 0, 0, 0])"
      ]
     },
     "execution_count": 573,
     "metadata": {},
     "output_type": "execute_result"
    }
   ],
   "source": [
    "# make prediction on train obeservations\n",
    "\n",
    "y_pred1 = clf.predict(X_train)\n",
    "y_pred1[0:5]\n"
   ]
  },
  {
   "cell_type": "code",
   "execution_count": 574,
   "id": "393957cf",
   "metadata": {},
   "outputs": [
    {
     "data": {
      "text/plain": [
       "array([[0.88990826, 0.11009174],\n",
       "       [0.78078078, 0.21921922],\n",
       "       [0.88990826, 0.11009174],\n",
       "       [0.7254902 , 0.2745098 ],\n",
       "       [0.88990826, 0.11009174]])"
      ]
     },
     "execution_count": 574,
     "metadata": {},
     "output_type": "execute_result"
    }
   ],
   "source": [
    "y_pred_proba1 = clf.predict_proba(X_train)\n",
    "y_pred_proba1[0:5]\n"
   ]
  },
  {
   "cell_type": "code",
   "execution_count": 575,
   "id": "20547cc1",
   "metadata": {},
   "outputs": [
    {
     "name": "stdout",
     "output_type": "stream",
     "text": [
      "Accuracy of Decision Tree classifier on training set: 0.80\n"
     ]
    }
   ],
   "source": [
    "print('Accuracy of Decision Tree classifier on training set: {:.2f}'\n",
    "      .format(clf.score(X_train, y_train)))"
   ]
  },
  {
   "cell_type": "markdown",
   "id": "d6d19a82",
   "metadata": {},
   "source": [
    "My deicision tree model beats baseline."
   ]
  },
  {
   "cell_type": "code",
   "execution_count": 576,
   "id": "06c994b7",
   "metadata": {},
   "outputs": [
    {
     "data": {
      "text/plain": [
       "array([[2676,  215],\n",
       "       [ 570,  476]])"
      ]
     },
     "execution_count": 576,
     "metadata": {},
     "output_type": "execute_result"
    }
   ],
   "source": [
    "# confusion matrix\n",
    "\n",
    "confusion_matrix(y_train, y_pred1)\n"
   ]
  },
  {
   "cell_type": "code",
   "execution_count": 577,
   "id": "eea6033e",
   "metadata": {},
   "outputs": [
    {
     "name": "stdout",
     "output_type": "stream",
     "text": [
      "              precision    recall  f1-score   support\n",
      "\n",
      "           0       0.82      0.93      0.87      2891\n",
      "           1       0.69      0.46      0.55      1046\n",
      "\n",
      "    accuracy                           0.80      3937\n",
      "   macro avg       0.76      0.69      0.71      3937\n",
      "weighted avg       0.79      0.80      0.79      3937\n",
      "\n"
     ]
    }
   ],
   "source": [
    "print(classification_report(y_train, y_pred1))"
   ]
  },
  {
   "cell_type": "code",
   "execution_count": 578,
   "id": "9bb9c9e9",
   "metadata": {},
   "outputs": [
    {
     "name": "stdout",
     "output_type": "stream",
     "text": [
      "Accuracy of Decision Tree classifier on validate set: 0.78\n"
     ]
    }
   ],
   "source": [
    "print('Accuracy of Decision Tree classifier on validate set: {:.2f}'\n",
    "     .format(clf.score(X_validate, y_validate)))\n"
   ]
  },
  {
   "cell_type": "code",
   "execution_count": 579,
   "id": "b6eab008",
   "metadata": {},
   "outputs": [
    {
     "name": "stdout",
     "output_type": "stream",
     "text": [
      "              precision    recall  f1-score   support\n",
      "\n",
      "           0       0.82      0.90      0.86      1239\n",
      "           1       0.61      0.44      0.51       449\n",
      "\n",
      "    accuracy                           0.78      1688\n",
      "   macro avg       0.72      0.67      0.68      1688\n",
      "weighted avg       0.76      0.78      0.76      1688\n",
      "\n"
     ]
    }
   ],
   "source": [
    "y_pred_val = clf.predict(X_validate)\n",
    "print(classification_report(y_validate, y_pred_val))"
   ]
  },
  {
   "cell_type": "code",
   "execution_count": null,
   "id": "ffad485e",
   "metadata": {},
   "outputs": [],
   "source": []
  },
  {
   "cell_type": "code",
   "execution_count": 580,
   "id": "9def6d47",
   "metadata": {},
   "outputs": [
    {
     "name": "stdout",
     "output_type": "stream",
     "text": [
      "Tree with max depth of 2\n",
      "                     0            1  accuracy    macro avg  weighted avg\n",
      "precision     0.808605     0.707231  0.794006     0.757918      0.781672\n",
      "recall        0.942580     0.383365  0.794006     0.662973      0.794006\n",
      "f1-score      0.870468     0.497210  0.794006     0.683839      0.771299\n",
      "support    2891.000000  1046.000000  0.794006  3937.000000   3937.000000\n",
      "\n",
      "Tree with max depth of 3\n",
      "                     0            1  accuracy    macro avg  weighted avg\n",
      "precision     0.808605     0.707231  0.794006     0.757918      0.781672\n",
      "recall        0.942580     0.383365  0.794006     0.662973      0.794006\n",
      "f1-score      0.870468     0.497210  0.794006     0.683839      0.771299\n",
      "support    2891.000000  1046.000000  0.794006  3937.000000   3937.000000\n",
      "\n",
      "Tree with max depth of 4\n",
      "                     0            1  accuracy    macro avg  weighted avg\n",
      "precision     0.824399     0.688857   0.80061     0.756628      0.788388\n",
      "recall        0.925631     0.455067   0.80061     0.690349      0.800610\n",
      "f1-score      0.872087     0.548071   0.80061     0.710079      0.786001\n",
      "support    2891.000000  1046.000000   0.80061  3937.000000   3937.000000\n",
      "\n",
      "Tree with max depth of 5\n",
      "                     0            1  accuracy    macro avg  weighted avg\n",
      "precision     0.827745     0.708455   0.80696     0.768100      0.796052\n",
      "recall        0.930820     0.464627   0.80696     0.697723      0.806960\n",
      "f1-score      0.876262     0.561201   0.80696     0.718731      0.792555\n",
      "support    2891.000000  1046.000000   0.80696  3937.000000   3937.000000\n",
      "\n",
      "Tree with max depth of 6\n",
      "                     0            1  accuracy    macro avg  weighted avg\n",
      "precision     0.854807     0.684869  0.816866     0.769838      0.809657\n",
      "recall        0.904185     0.575526  0.816866     0.739856      0.816866\n",
      "f1-score      0.878803     0.625455  0.816866     0.752129      0.811492\n",
      "support    2891.000000  1046.000000  0.816866  3937.000000   3937.000000\n",
      "\n",
      "Tree with max depth of 7\n",
      "                     0            1  accuracy    macro avg  weighted avg\n",
      "precision     0.881547     0.688976  0.831852     0.785262      0.830384\n",
      "recall        0.890695     0.669216  0.831852     0.779956      0.831852\n",
      "f1-score      0.886098     0.678952  0.831852     0.782525      0.831062\n",
      "support    2891.000000  1046.000000  0.831852  3937.000000   3937.000000\n",
      "\n",
      "Tree with max depth of 8\n",
      "                     0            1  accuracy    macro avg  weighted avg\n",
      "precision     0.884043     0.718080  0.842774     0.801061      0.839949\n",
      "recall        0.904531     0.672084  0.842774     0.788308      0.842774\n",
      "f1-score      0.894170     0.694321  0.842774     0.794245      0.841073\n",
      "support    2891.000000  1046.000000  0.842774  3937.000000   3937.000000\n",
      "\n",
      "Tree with max depth of 9\n",
      "                     0            1  accuracy    macro avg  weighted avg\n",
      "precision     0.895235     0.752556  0.859792     0.823896      0.857327\n",
      "recall        0.916292     0.703633  0.859792     0.809962      0.859792\n",
      "f1-score      0.905641     0.727273  0.859792     0.816457      0.858251\n",
      "support    2891.000000  1046.000000  0.859792  3937.000000   3937.000000\n",
      "\n",
      "Tree with max depth of 10\n",
      "                     0            1  accuracy    macro avg  weighted avg\n",
      "precision     0.912850     0.782394   0.87935     0.847622      0.878190\n",
      "recall        0.923902     0.756214   0.87935     0.840058      0.879350\n",
      "f1-score      0.918343     0.769081   0.87935     0.843712      0.878686\n",
      "support    2891.000000  1046.000000   0.87935  3937.000000   3937.000000\n",
      "\n",
      "Tree with max depth of 11\n",
      "                     0            1  accuracy    macro avg  weighted avg\n",
      "precision     0.908583     0.857143  0.896876     0.882863      0.894916\n",
      "recall        0.955725     0.734226  0.896876     0.844975      0.896876\n",
      "f1-score      0.931558     0.790937  0.896876     0.861247      0.894197\n",
      "support    2891.000000  1046.000000  0.896876  3937.000000   3937.000000\n",
      "\n",
      "Tree with max depth of 12\n",
      "                     0            1  accuracy    macro avg  weighted avg\n",
      "precision     0.941661     0.856305  0.919482     0.898983      0.918983\n",
      "recall        0.949153     0.837476  0.919482     0.893314      0.919482\n",
      "f1-score      0.945392     0.846786  0.919482     0.896089      0.919194\n",
      "support    2891.000000  1046.000000  0.919482  3937.000000   3937.000000\n",
      "\n",
      "Tree with max depth of 13\n",
      "                     0            1  accuracy    macro avg  weighted avg\n",
      "precision     0.950769     0.891304  0.935484     0.921037      0.934970\n",
      "recall        0.961951     0.862333  0.935484     0.912142      0.935484\n",
      "f1-score      0.956327     0.876579  0.935484     0.916453      0.935140\n",
      "support    2891.000000  1046.000000  0.935484  3937.000000   3937.000000\n",
      "\n",
      "Tree with max depth of 14\n",
      "                     0            1  accuracy    macro avg  weighted avg\n",
      "precision     0.958461     0.924000  0.949708     0.941231      0.949305\n",
      "recall        0.973712     0.883365  0.949708     0.928538      0.949708\n",
      "f1-score      0.966026     0.903226  0.949708     0.934626      0.949341\n",
      "support    2891.000000  1046.000000  0.949708  3937.000000   3937.000000\n",
      "\n",
      "Tree with max depth of 15\n",
      "                     0            1  accuracy    macro avg  weighted avg\n",
      "precision     0.971389     0.929537  0.960376     0.950463      0.960270\n",
      "recall        0.974749     0.920650  0.960376     0.947700      0.960376\n",
      "f1-score      0.973066     0.925072  0.960376     0.949069      0.960315\n",
      "support    2891.000000  1046.000000  0.960376  3937.000000   3937.000000\n",
      "\n",
      "Tree with max depth of 16\n",
      "                     0            1  accuracy    macro avg  weighted avg\n",
      "precision     0.980263     0.942803  0.970282     0.961533      0.970310\n",
      "recall        0.979246     0.945507  0.970282     0.962376      0.970282\n",
      "f1-score      0.979754     0.944153  0.970282     0.961954      0.970296\n",
      "support    2891.000000  1046.000000  0.970282  3937.000000   3937.000000\n",
      "\n",
      "Tree with max depth of 17\n",
      "                     0            1  accuracy    macro avg  weighted avg\n",
      "precision     0.985754     0.949008   0.97587     0.967381      0.975991\n",
      "recall        0.981321     0.960803   0.97587     0.971062      0.975870\n",
      "f1-score      0.983533     0.954869   0.97587     0.969201      0.975917\n",
      "support    2891.000000  1046.000000   0.97587  3937.000000   3937.000000\n",
      "\n",
      "Tree with max depth of 18\n",
      "                     0            1  accuracy    macro avg  weighted avg\n",
      "precision     0.988577     0.966603  0.982728     0.977590      0.982739\n",
      "recall        0.987893     0.968451  0.982728     0.978172      0.982728\n",
      "f1-score      0.988235     0.967526  0.982728     0.977881      0.982733\n",
      "support    2891.000000  1046.000000  0.982728  3937.000000   3937.000000\n",
      "\n",
      "Tree with max depth of 19\n",
      "                     0            1  accuracy    macro avg  weighted avg\n",
      "precision     0.992380     0.975238  0.987808     0.983809      0.987825\n",
      "recall        0.991007     0.978967  0.987808     0.984987      0.987808\n",
      "f1-score      0.991693     0.977099  0.987808     0.984396      0.987815\n",
      "support    2891.000000  1046.000000  0.987808  3937.000000   3937.000000\n",
      "\n",
      "Tree with max depth of 20\n",
      "                     0            1  accuracy    macro avg  weighted avg\n",
      "precision     0.991400     0.991262  0.991364     0.991331      0.991363\n",
      "recall        0.996887     0.976099  0.991364     0.986493      0.991364\n",
      "f1-score      0.994136     0.983622  0.991364     0.988879      0.991343\n",
      "support    2891.000000  1046.000000  0.991364  3937.000000   3937.000000\n",
      "\n"
     ]
    }
   ],
   "source": [
    "for i in range(2, 21):\n",
    "    # Make the model\n",
    "    tree = DecisionTreeClassifier(max_depth=i, random_state=123)\n",
    "\n",
    "    # Fit the model (on train and only train)\n",
    "    tree = tree.fit(X_train, y_train)\n",
    "\n",
    "    # Use the model\n",
    "    # We'll evaluate the model's performance on train, first\n",
    "    y_predictions = tree.predict(X_train)\n",
    "\n",
    "    # Produce the classification report on the actual y values and this model's predicted y values\n",
    "    report = classification_report(y_train, y_predictions, output_dict=True)\n",
    "    print(f\"Tree with max depth of {i}\")\n",
    "    print(pd.DataFrame(report))\n",
    "    print()"
   ]
  },
  {
   "cell_type": "code",
   "execution_count": 581,
   "id": "9f0a8eea",
   "metadata": {},
   "outputs": [
    {
     "data": {
      "text/html": [
       "<div>\n",
       "<style scoped>\n",
       "    .dataframe tbody tr th:only-of-type {\n",
       "        vertical-align: middle;\n",
       "    }\n",
       "\n",
       "    .dataframe tbody tr th {\n",
       "        vertical-align: top;\n",
       "    }\n",
       "\n",
       "    .dataframe thead th {\n",
       "        text-align: right;\n",
       "    }\n",
       "</style>\n",
       "<table border=\"1\" class=\"dataframe\">\n",
       "  <thead>\n",
       "    <tr style=\"text-align: right;\">\n",
       "      <th></th>\n",
       "      <th>max_depth</th>\n",
       "      <th>train_accuracy</th>\n",
       "      <th>validate_accuracy</th>\n",
       "      <th>difference</th>\n",
       "    </tr>\n",
       "  </thead>\n",
       "  <tbody>\n",
       "    <tr>\n",
       "      <th>0</th>\n",
       "      <td>2</td>\n",
       "      <td>0.794006</td>\n",
       "      <td>0.776066</td>\n",
       "      <td>0.017939</td>\n",
       "    </tr>\n",
       "    <tr>\n",
       "      <th>1</th>\n",
       "      <td>3</td>\n",
       "      <td>0.794006</td>\n",
       "      <td>0.776066</td>\n",
       "      <td>0.017939</td>\n",
       "    </tr>\n",
       "    <tr>\n",
       "      <th>2</th>\n",
       "      <td>4</td>\n",
       "      <td>0.800610</td>\n",
       "      <td>0.777844</td>\n",
       "      <td>0.022766</td>\n",
       "    </tr>\n",
       "    <tr>\n",
       "      <th>3</th>\n",
       "      <td>5</td>\n",
       "      <td>0.806960</td>\n",
       "      <td>0.776066</td>\n",
       "      <td>0.030893</td>\n",
       "    </tr>\n",
       "    <tr>\n",
       "      <th>4</th>\n",
       "      <td>6</td>\n",
       "      <td>0.816866</td>\n",
       "      <td>0.778436</td>\n",
       "      <td>0.038430</td>\n",
       "    </tr>\n",
       "    <tr>\n",
       "      <th>5</th>\n",
       "      <td>7</td>\n",
       "      <td>0.831852</td>\n",
       "      <td>0.764810</td>\n",
       "      <td>0.067041</td>\n",
       "    </tr>\n",
       "    <tr>\n",
       "      <th>6</th>\n",
       "      <td>8</td>\n",
       "      <td>0.842774</td>\n",
       "      <td>0.762441</td>\n",
       "      <td>0.080333</td>\n",
       "    </tr>\n",
       "    <tr>\n",
       "      <th>7</th>\n",
       "      <td>9</td>\n",
       "      <td>0.859792</td>\n",
       "      <td>0.760071</td>\n",
       "      <td>0.099721</td>\n",
       "    </tr>\n",
       "    <tr>\n",
       "      <th>8</th>\n",
       "      <td>10</td>\n",
       "      <td>0.879350</td>\n",
       "      <td>0.753555</td>\n",
       "      <td>0.125795</td>\n",
       "    </tr>\n",
       "    <tr>\n",
       "      <th>9</th>\n",
       "      <td>11</td>\n",
       "      <td>0.896876</td>\n",
       "      <td>0.746445</td>\n",
       "      <td>0.150430</td>\n",
       "    </tr>\n",
       "    <tr>\n",
       "      <th>10</th>\n",
       "      <td>12</td>\n",
       "      <td>0.919482</td>\n",
       "      <td>0.747630</td>\n",
       "      <td>0.171852</td>\n",
       "    </tr>\n",
       "    <tr>\n",
       "      <th>11</th>\n",
       "      <td>13</td>\n",
       "      <td>0.935484</td>\n",
       "      <td>0.731043</td>\n",
       "      <td>0.204441</td>\n",
       "    </tr>\n",
       "    <tr>\n",
       "      <th>12</th>\n",
       "      <td>14</td>\n",
       "      <td>0.949708</td>\n",
       "      <td>0.731635</td>\n",
       "      <td>0.218073</td>\n",
       "    </tr>\n",
       "    <tr>\n",
       "      <th>13</th>\n",
       "      <td>15</td>\n",
       "      <td>0.960376</td>\n",
       "      <td>0.718602</td>\n",
       "      <td>0.241774</td>\n",
       "    </tr>\n",
       "    <tr>\n",
       "      <th>14</th>\n",
       "      <td>16</td>\n",
       "      <td>0.970282</td>\n",
       "      <td>0.704976</td>\n",
       "      <td>0.265306</td>\n",
       "    </tr>\n",
       "    <tr>\n",
       "      <th>15</th>\n",
       "      <td>17</td>\n",
       "      <td>0.975870</td>\n",
       "      <td>0.709123</td>\n",
       "      <td>0.266747</td>\n",
       "    </tr>\n",
       "    <tr>\n",
       "      <th>16</th>\n",
       "      <td>18</td>\n",
       "      <td>0.982728</td>\n",
       "      <td>0.707938</td>\n",
       "      <td>0.274790</td>\n",
       "    </tr>\n",
       "  </tbody>\n",
       "</table>\n",
       "</div>"
      ],
      "text/plain": [
       "    max_depth  train_accuracy  validate_accuracy  difference\n",
       "0           2        0.794006           0.776066    0.017939\n",
       "1           3        0.794006           0.776066    0.017939\n",
       "2           4        0.800610           0.777844    0.022766\n",
       "3           5        0.806960           0.776066    0.030893\n",
       "4           6        0.816866           0.778436    0.038430\n",
       "5           7        0.831852           0.764810    0.067041\n",
       "6           8        0.842774           0.762441    0.080333\n",
       "7           9        0.859792           0.760071    0.099721\n",
       "8          10        0.879350           0.753555    0.125795\n",
       "9          11        0.896876           0.746445    0.150430\n",
       "10         12        0.919482           0.747630    0.171852\n",
       "11         13        0.935484           0.731043    0.204441\n",
       "12         14        0.949708           0.731635    0.218073\n",
       "13         15        0.960376           0.718602    0.241774\n",
       "14         16        0.970282           0.704976    0.265306\n",
       "15         17        0.975870           0.709123    0.266747\n",
       "16         18        0.982728           0.707938    0.274790"
      ]
     },
     "execution_count": 581,
     "metadata": {},
     "output_type": "execute_result"
    }
   ],
   "source": [
    "# Compare accuracy for in-sample and out-of-sample data\n",
    "metrics = []\n",
    "\n",
    "for i in range(2, 19):\n",
    "    # Make the model\n",
    "    tree = DecisionTreeClassifier(max_depth=i, random_state=123)\n",
    "\n",
    "    # Fit the model (on train and only train)\n",
    "    tree = tree.fit(X_train, y_train)\n",
    "\n",
    "    # Use the model\n",
    "    # We'll evaluate the model's performance on train, first\n",
    "    in_sample_accuracy = tree.score(X_train, y_train)\n",
    "    \n",
    "    out_of_sample_accuracy = tree.score(X_validate, y_validate)\n",
    "\n",
    "    output = {\n",
    "        \"max_depth\": i,\n",
    "        \"train_accuracy\": in_sample_accuracy,\n",
    "        \"validate_accuracy\": out_of_sample_accuracy\n",
    "    }\n",
    "    \n",
    "    metrics.append(output)\n",
    "    \n",
    "df = pd.DataFrame(metrics)\n",
    "df[\"difference\"] = df.train_accuracy - df.validate_accuracy\n",
    "df"
   ]
  },
  {
   "cell_type": "code",
   "execution_count": 594,
   "id": "11dd7f69",
   "metadata": {},
   "outputs": [
    {
     "name": "stdout",
     "output_type": "stream",
     "text": [
      "Accuracy of Decision Tree classifier on training set: 0.86\n"
     ]
    },
    {
     "data": {
      "image/png": "[encoded data removed]",
      "text/plain": [
       "<Figure size 936x504 with 1 Axes>"
      ]
     },
     "metadata": {
      "needs_background": "light"
     },
     "output_type": "display_data"
    }
   ],
   "source": [
    "# create the decision tree\n",
    "clf = DecisionTreeClassifier(max_depth=9, random_state=123)\n",
    "\n",
    "# fit the model\n",
    "clf = clf.fit(X_train, y_train)\n",
    "\n",
    "# visualize the decision tree\n",
    "plt.figure(figsize=(13, 7))\n",
    "plot_tree(clf, feature_names=X_train.columns, class_names = clf.classes_.astype(str), rounded=True)\n",
    "\n",
    "\n",
    "# make prediction on train obeservations\n",
    "\n",
    "y_pred2 = clf.predict(X_train)\n",
    "y_pred[0:5]\n",
    "\n",
    "\n",
    "y_pred_proba2 = clf.predict_proba(X_train)\n",
    "y_pred_proba[0:5]\n",
    "\n",
    "\n",
    "print('Accuracy of Decision Tree classifier on training set: {:.2f}'\n",
    "      .format(clf.score(X_train, y_train)))\n",
    "\n",
    "\n"
   ]
  },
  {
   "cell_type": "code",
   "execution_count": 597,
   "id": "8a54671e",
   "metadata": {},
   "outputs": [
    {
     "name": "stdout",
     "output_type": "stream",
     "text": [
      "              precision    recall  f1-score   support\n",
      "\n",
      "           0       0.90      0.92      0.91      2891\n",
      "           1       0.75      0.70      0.73      1046\n",
      "\n",
      "    accuracy                           0.86      3937\n",
      "   macro avg       0.82      0.81      0.82      3937\n",
      "weighted avg       0.86      0.86      0.86      3937\n",
      "\n"
     ]
    }
   ],
   "source": [
    "print(classification_report(y_train, y_pred2))"
   ]
  },
  {
   "cell_type": "code",
   "execution_count": 598,
   "id": "4ac272cc",
   "metadata": {},
   "outputs": [
    {
     "name": "stdout",
     "output_type": "stream",
     "text": [
      "Accuracy of Decision Tree classifier on validate set: 0.76\n"
     ]
    }
   ],
   "source": [
    "print('Accuracy of Decision Tree classifier on validate set: {:.2f}'\n",
    "     .format(clf.score(X_validate, y_validate)))\n"
   ]
  },
  {
   "cell_type": "code",
   "execution_count": 599,
   "id": "ab44df83",
   "metadata": {},
   "outputs": [],
   "source": [
    "y_pred2=clf.predict(X_validate)"
   ]
  },
  {
   "cell_type": "code",
   "execution_count": 600,
   "id": "dba31ae7",
   "metadata": {},
   "outputs": [
    {
     "name": "stdout",
     "output_type": "stream",
     "text": [
      "              precision    recall  f1-score   support\n",
      "\n",
      "           0       0.84      0.84      0.84      1239\n",
      "           1       0.55      0.55      0.55       449\n",
      "\n",
      "    accuracy                           0.76      1688\n",
      "   macro avg       0.69      0.69      0.69      1688\n",
      "weighted avg       0.76      0.76      0.76      1688\n",
      "\n"
     ]
    }
   ],
   "source": [
    "print(classification_report(y_validate, y_pred2))"
   ]
  },
  {
   "cell_type": "markdown",
   "id": "86dc5208",
   "metadata": {},
   "source": [
    "### Random Forest"
   ]
  },
  {
   "cell_type": "code",
   "execution_count": 643,
   "id": "93eb6a39",
   "metadata": {},
   "outputs": [],
   "source": [
    "# create X & y version of train, where y is a series with just the target variable and X are all the features. \n",
    "\n",
    "X_train = train.drop(columns=['customer_id', 'gender', 'partner', 'dependents',\\\n",
    "                              'phone_service', 'multiple_lines', 'online_security',\\\n",
    "                              'online_backup', 'device_protection', 'tech_support', 'streaming_tv',\\\n",
    "                              'streaming_movies', 'paperless_billing', 'churn', 'contract_type',\\\n",
    "                              'internet_service_type', 'payment_type', 'has_churned', 'is_female'])\n",
    "y_train = train.has_churned\n",
    "\n",
    "X_validate = validate.drop(columns=['customer_id', 'gender', 'partner', 'dependents',\\\n",
    "                              'phone_service', 'multiple_lines', 'online_security',\\\n",
    "                              'online_backup', 'device_protection', 'tech_support', 'streaming_tv',\\\n",
    "                              'streaming_movies', 'paperless_billing', 'churn', 'contract_type',\\\n",
    "                              'internet_service_type', 'payment_type', 'has_churned', 'is_female'])\n",
    "y_validate = validate.has_churned\n",
    "\n",
    "X_test = test.drop(columns=['customer_id', 'gender', 'partner', 'dependents',\\\n",
    "                              'phone_service', 'multiple_lines', 'online_security',\\\n",
    "                              'online_backup', 'device_protection', 'tech_support', 'streaming_tv',\\\n",
    "                              'streaming_movies', 'paperless_billing', 'churn', 'contract_type',\\\n",
    "                              'internet_service_type', 'payment_type', 'has_churned', 'is_female'])\n",
    "y_test = test.has_churned"
   ]
  },
  {
   "cell_type": "code",
   "execution_count": 644,
   "id": "5aba8947",
   "metadata": {},
   "outputs": [],
   "source": [
    "rf = RandomForestClassifier(max_depth=4, random_state=123)\n"
   ]
  },
  {
   "cell_type": "code",
   "execution_count": 645,
   "id": "e549aa5b",
   "metadata": {},
   "outputs": [
    {
     "data": {
      "text/plain": [
       "RandomForestClassifier(max_depth=4, random_state=123)"
      ]
     },
     "execution_count": 645,
     "metadata": {},
     "output_type": "execute_result"
    }
   ],
   "source": [
    "rf.fit(X_train, y_train)\n"
   ]
  },
  {
   "cell_type": "code",
   "execution_count": 646,
   "id": "afed97cf",
   "metadata": {},
   "outputs": [
    {
     "name": "stdout",
     "output_type": "stream",
     "text": [
      "[0.00401548 0.21573429 0.05739278 0.15553208 0.00520697 0.00363917\n",
      " 0.00037427 0.00883254 0.03295002 0.08605933 0.13520124 0.03227966\n",
      " 0.00219958 0.08391422 0.00080804 0.00077615 0.00273981 0.01451199\n",
      " 0.03718306 0.02532239 0.00574243 0.0231366  0.02231282 0.02244684\n",
      " 0.00069119 0.01954819 0.00144885]\n"
     ]
    }
   ],
   "source": [
    "print(rf.feature_importances_)\n"
   ]
  },
  {
   "cell_type": "code",
   "execution_count": 647,
   "id": "6862bca8",
   "metadata": {},
   "outputs": [
    {
     "data": {
      "text/plain": [
       "array([0, 0, 0, 0, 0])"
      ]
     },
     "execution_count": 647,
     "metadata": {},
     "output_type": "execute_result"
    }
   ],
   "source": [
    "y_pred = rf.predict(X_train)\n",
    "y_pred[0:5]"
   ]
  },
  {
   "cell_type": "code",
   "execution_count": 648,
   "id": "6626a0d1",
   "metadata": {},
   "outputs": [
    {
     "data": {
      "text/plain": [
       "array([[0.86879415, 0.13120585],\n",
       "       [0.78783747, 0.21216253],\n",
       "       [0.91445475, 0.08554525],\n",
       "       [0.75520263, 0.24479737],\n",
       "       [0.85799072, 0.14200928]])"
      ]
     },
     "execution_count": 648,
     "metadata": {},
     "output_type": "execute_result"
    }
   ],
   "source": [
    "y_pred_proba = rf.predict_proba(X_train)\n",
    "y_pred_proba[0:5]"
   ]
  },
  {
   "cell_type": "code",
   "execution_count": 649,
   "id": "5825f322",
   "metadata": {},
   "outputs": [
    {
     "name": "stdout",
     "output_type": "stream",
     "text": [
      "Accuracy of random forest classifier on training set: 0.80\n"
     ]
    }
   ],
   "source": [
    "print('Accuracy of random forest classifier on training set: {:.2f}'\n",
    "     .format(rf.score(X_train, y_train)))\n"
   ]
  },
  {
   "cell_type": "code",
   "execution_count": 650,
   "id": "669effb8",
   "metadata": {},
   "outputs": [
    {
     "name": "stdout",
     "output_type": "stream",
     "text": [
      "              precision    recall  f1-score   support\n",
      "\n",
      "           0       0.82      0.94      0.87      2891\n",
      "           1       0.72      0.42      0.53      1046\n",
      "\n",
      "    accuracy                           0.80      3937\n",
      "   macro avg       0.77      0.68      0.70      3937\n",
      "weighted avg       0.79      0.80      0.78      3937\n",
      "\n"
     ]
    }
   ],
   "source": [
    "print(classification_report(y_train, y_pred))\n"
   ]
  },
  {
   "cell_type": "code",
   "execution_count": 651,
   "id": "c3aa2f40",
   "metadata": {},
   "outputs": [
    {
     "name": "stdout",
     "output_type": "stream",
     "text": [
      "Accuracy of random forest classifier on test set: 0.79\n"
     ]
    }
   ],
   "source": [
    "print('Accuracy of random forest classifier on test set: {:.2f}'\n",
    "     .format(rf.score(X_validate, y_validate)))\n"
   ]
  },
  {
   "cell_type": "code",
   "execution_count": 652,
   "id": "b41929eb",
   "metadata": {},
   "outputs": [],
   "source": [
    "y_pred = rf.predict(X_validate)"
   ]
  },
  {
   "cell_type": "code",
   "execution_count": 653,
   "id": "3f470636",
   "metadata": {},
   "outputs": [
    {
     "name": "stdout",
     "output_type": "stream",
     "text": [
      "              precision    recall  f1-score   support\n",
      "\n",
      "           0       0.81      0.92      0.86      1239\n",
      "           1       0.66      0.41      0.50       449\n",
      "\n",
      "    accuracy                           0.79      1688\n",
      "   macro avg       0.73      0.66      0.68      1688\n",
      "weighted avg       0.77      0.79      0.77      1688\n",
      "\n"
     ]
    }
   ],
   "source": [
    "print(classification_report(y_validate, y_pred))"
   ]
  },
  {
   "cell_type": "code",
   "execution_count": 623,
   "id": "754cce9c",
   "metadata": {},
   "outputs": [
    {
     "data": {
      "text/html": [
       "<div>\n",
       "<style scoped>\n",
       "    .dataframe tbody tr th:only-of-type {\n",
       "        vertical-align: middle;\n",
       "    }\n",
       "\n",
       "    .dataframe tbody tr th {\n",
       "        vertical-align: top;\n",
       "    }\n",
       "\n",
       "    .dataframe thead th {\n",
       "        text-align: right;\n",
       "    }\n",
       "</style>\n",
       "<table border=\"1\" class=\"dataframe\">\n",
       "  <thead>\n",
       "    <tr style=\"text-align: right;\">\n",
       "      <th></th>\n",
       "      <th>max_depth</th>\n",
       "      <th>train_accuracy</th>\n",
       "      <th>validate_accuracy</th>\n",
       "      <th>difference</th>\n",
       "    </tr>\n",
       "  </thead>\n",
       "  <tbody>\n",
       "    <tr>\n",
       "      <th>0</th>\n",
       "      <td>2</td>\n",
       "      <td>0.764288</td>\n",
       "      <td>0.751185</td>\n",
       "      <td>0.013103</td>\n",
       "    </tr>\n",
       "    <tr>\n",
       "      <th>1</th>\n",
       "      <td>3</td>\n",
       "      <td>0.790704</td>\n",
       "      <td>0.771919</td>\n",
       "      <td>0.018784</td>\n",
       "    </tr>\n",
       "    <tr>\n",
       "      <th>2</th>\n",
       "      <td>4</td>\n",
       "      <td>0.802134</td>\n",
       "      <td>0.785545</td>\n",
       "      <td>0.016589</td>\n",
       "    </tr>\n",
       "    <tr>\n",
       "      <th>3</th>\n",
       "      <td>5</td>\n",
       "      <td>0.807214</td>\n",
       "      <td>0.787322</td>\n",
       "      <td>0.019891</td>\n",
       "    </tr>\n",
       "    <tr>\n",
       "      <th>4</th>\n",
       "      <td>6</td>\n",
       "      <td>0.813310</td>\n",
       "      <td>0.786730</td>\n",
       "      <td>0.026580</td>\n",
       "    </tr>\n",
       "    <tr>\n",
       "      <th>5</th>\n",
       "      <td>7</td>\n",
       "      <td>0.824994</td>\n",
       "      <td>0.795616</td>\n",
       "      <td>0.029378</td>\n",
       "    </tr>\n",
       "    <tr>\n",
       "      <th>6</th>\n",
       "      <td>8</td>\n",
       "      <td>0.840996</td>\n",
       "      <td>0.796801</td>\n",
       "      <td>0.044195</td>\n",
       "    </tr>\n",
       "    <tr>\n",
       "      <th>7</th>\n",
       "      <td>9</td>\n",
       "      <td>0.860808</td>\n",
       "      <td>0.789100</td>\n",
       "      <td>0.071708</td>\n",
       "    </tr>\n",
       "    <tr>\n",
       "      <th>8</th>\n",
       "      <td>10</td>\n",
       "      <td>0.886716</td>\n",
       "      <td>0.786137</td>\n",
       "      <td>0.100578</td>\n",
       "    </tr>\n",
       "    <tr>\n",
       "      <th>9</th>\n",
       "      <td>11</td>\n",
       "      <td>0.916942</td>\n",
       "      <td>0.786137</td>\n",
       "      <td>0.130804</td>\n",
       "    </tr>\n",
       "    <tr>\n",
       "      <th>10</th>\n",
       "      <td>12</td>\n",
       "      <td>0.951740</td>\n",
       "      <td>0.787322</td>\n",
       "      <td>0.164418</td>\n",
       "    </tr>\n",
       "    <tr>\n",
       "      <th>11</th>\n",
       "      <td>13</td>\n",
       "      <td>0.975362</td>\n",
       "      <td>0.777251</td>\n",
       "      <td>0.198111</td>\n",
       "    </tr>\n",
       "    <tr>\n",
       "      <th>12</th>\n",
       "      <td>14</td>\n",
       "      <td>0.988316</td>\n",
       "      <td>0.778436</td>\n",
       "      <td>0.209880</td>\n",
       "    </tr>\n",
       "    <tr>\n",
       "      <th>13</th>\n",
       "      <td>15</td>\n",
       "      <td>0.992888</td>\n",
       "      <td>0.780213</td>\n",
       "      <td>0.212675</td>\n",
       "    </tr>\n",
       "    <tr>\n",
       "      <th>14</th>\n",
       "      <td>16</td>\n",
       "      <td>0.994920</td>\n",
       "      <td>0.771327</td>\n",
       "      <td>0.223593</td>\n",
       "    </tr>\n",
       "    <tr>\n",
       "      <th>15</th>\n",
       "      <td>17</td>\n",
       "      <td>0.996698</td>\n",
       "      <td>0.774289</td>\n",
       "      <td>0.222409</td>\n",
       "    </tr>\n",
       "    <tr>\n",
       "      <th>16</th>\n",
       "      <td>18</td>\n",
       "      <td>0.996952</td>\n",
       "      <td>0.766588</td>\n",
       "      <td>0.230364</td>\n",
       "    </tr>\n",
       "  </tbody>\n",
       "</table>\n",
       "</div>"
      ],
      "text/plain": [
       "    max_depth  train_accuracy  validate_accuracy  difference\n",
       "0           2        0.764288           0.751185    0.013103\n",
       "1           3        0.790704           0.771919    0.018784\n",
       "2           4        0.802134           0.785545    0.016589\n",
       "3           5        0.807214           0.787322    0.019891\n",
       "4           6        0.813310           0.786730    0.026580\n",
       "5           7        0.824994           0.795616    0.029378\n",
       "6           8        0.840996           0.796801    0.044195\n",
       "7           9        0.860808           0.789100    0.071708\n",
       "8          10        0.886716           0.786137    0.100578\n",
       "9          11        0.916942           0.786137    0.130804\n",
       "10         12        0.951740           0.787322    0.164418\n",
       "11         13        0.975362           0.777251    0.198111\n",
       "12         14        0.988316           0.778436    0.209880\n",
       "13         15        0.992888           0.780213    0.212675\n",
       "14         16        0.994920           0.771327    0.223593\n",
       "15         17        0.996698           0.774289    0.222409\n",
       "16         18        0.996952           0.766588    0.230364"
      ]
     },
     "execution_count": 623,
     "metadata": {},
     "output_type": "execute_result"
    }
   ],
   "source": [
    "metrics = []\n",
    "\n",
    "for i in range(2, 19):\n",
    "    # Make the model\n",
    "    forest = RandomForestClassifier(max_depth=i, random_state=123)\n",
    "\n",
    "    # Fit the model (on train and only train)\n",
    "    forest = forest.fit(X_train, y_train)\n",
    "\n",
    "    # Use the model\n",
    "    # We'll evaluate the model's performance on train, first\n",
    "    in_sample_accuracy = forest.score(X_train, y_train)\n",
    "    \n",
    "    out_of_sample_accuracy = forest.score(X_validate, y_validate)\n",
    "\n",
    "    output = {\n",
    "        \"max_depth\": i,\n",
    "        \"train_accuracy\": in_sample_accuracy,\n",
    "        \"validate_accuracy\": out_of_sample_accuracy\n",
    "    }\n",
    "    \n",
    "    metrics.append(output)\n",
    "    \n",
    "df = pd.DataFrame(metrics)\n",
    "df[\"difference\"] = df.train_accuracy - df.validate_accuracy\n",
    "df"
   ]
  },
  {
   "cell_type": "markdown",
   "id": "4186d07d",
   "metadata": {},
   "source": [
    "### K- Nearest Neighbor\n",
    "\n",
    "- The best KNN model is when k = 8\twith a training accuracy of 81% and a validation accuracy of 78%. Recall rate on validation data for the positive case is 43%."
   ]
  },
  {
   "cell_type": "code",
   "execution_count": 654,
   "id": "be356e7a",
   "metadata": {},
   "outputs": [],
   "source": [
    "# create X & y version of train, where y is a series with just the target variable and X are all the features. \n",
    "\n",
    "X_train = train.drop(columns=['customer_id', 'gender', 'partner', 'dependents',\\\n",
    "                              'phone_service', 'multiple_lines', 'online_security',\\\n",
    "                              'online_backup', 'device_protection', 'tech_support', 'streaming_tv',\\\n",
    "                              'streaming_movies', 'paperless_billing', 'churn', 'contract_type',\\\n",
    "                              'internet_service_type', 'payment_type', 'has_churned', 'is_female'])\n",
    "y_train = train.has_churned\n",
    "\n",
    "X_validate = validate.drop(columns=['customer_id', 'gender', 'partner', 'dependents',\\\n",
    "                              'phone_service', 'multiple_lines', 'online_security',\\\n",
    "                              'online_backup', 'device_protection', 'tech_support', 'streaming_tv',\\\n",
    "                              'streaming_movies', 'paperless_billing', 'churn', 'contract_type',\\\n",
    "                              'internet_service_type', 'payment_type', 'has_churned', 'is_female'])\n",
    "y_validate = validate.has_churned\n",
    "\n",
    "X_test = test.drop(columns=['customer_id', 'gender', 'partner', 'dependents',\\\n",
    "                              'phone_service', 'multiple_lines', 'online_security',\\\n",
    "                              'online_backup', 'device_protection', 'tech_support', 'streaming_tv',\\\n",
    "                              'streaming_movies', 'paperless_billing', 'churn', 'contract_type',\\\n",
    "                              'internet_service_type', 'payment_type', 'has_churned', 'is_female'])\n",
    "y_test = test.has_churned"
   ]
  },
  {
   "cell_type": "code",
   "execution_count": 655,
   "id": "c7b8bd6f",
   "metadata": {},
   "outputs": [],
   "source": [
    "knn = KNeighborsClassifier(n_neighbors=15, weights='uniform')"
   ]
  },
  {
   "cell_type": "code",
   "execution_count": 656,
   "id": "881d1697",
   "metadata": {},
   "outputs": [
    {
     "data": {
      "text/plain": [
       "KNeighborsClassifier(n_neighbors=15)"
      ]
     },
     "execution_count": 656,
     "metadata": {},
     "output_type": "execute_result"
    }
   ],
   "source": [
    "knn.fit(X_train, y_train)\n"
   ]
  },
  {
   "cell_type": "code",
   "execution_count": 657,
   "id": "52b4c8c4",
   "metadata": {},
   "outputs": [
    {
     "data": {
      "text/plain": [
       "array([0, 0, 0, 0, 0])"
      ]
     },
     "execution_count": 657,
     "metadata": {},
     "output_type": "execute_result"
    }
   ],
   "source": [
    "y_pred = knn.predict(X_train)\n",
    "y_pred[0:5]"
   ]
  },
  {
   "cell_type": "code",
   "execution_count": 658,
   "id": "2a6a57c7",
   "metadata": {},
   "outputs": [
    {
     "data": {
      "text/plain": [
       "array([[1.        , 0.        ],\n",
       "       [0.93333333, 0.06666667],\n",
       "       [1.        , 0.        ],\n",
       "       [0.73333333, 0.26666667],\n",
       "       [0.66666667, 0.33333333]])"
      ]
     },
     "execution_count": 658,
     "metadata": {},
     "output_type": "execute_result"
    }
   ],
   "source": [
    "y_pred_proba = knn.predict_proba(X_train)\n",
    "y_pred_proba[0:5]"
   ]
  },
  {
   "cell_type": "code",
   "execution_count": 659,
   "id": "3892ef8d",
   "metadata": {},
   "outputs": [
    {
     "name": "stdout",
     "output_type": "stream",
     "text": [
      "Accuracy of KNN classifier on training set: 0.80\n"
     ]
    }
   ],
   "source": [
    "print('Accuracy of KNN classifier on training set: {:.2f}'\n",
    "     .format(knn.score(X_train, y_train)))\n"
   ]
  },
  {
   "cell_type": "code",
   "execution_count": 660,
   "id": "c46cc476",
   "metadata": {},
   "outputs": [
    {
     "name": "stdout",
     "output_type": "stream",
     "text": [
      "              precision    recall  f1-score   support\n",
      "\n",
      "           0       0.82      0.94      0.88      2891\n",
      "           1       0.72      0.43      0.54      1046\n",
      "\n",
      "    accuracy                           0.80      3937\n",
      "   macro avg       0.77      0.68      0.71      3937\n",
      "weighted avg       0.79      0.80      0.79      3937\n",
      "\n"
     ]
    }
   ],
   "source": [
    "print(classification_report(y_train, y_pred))\n"
   ]
  },
  {
   "cell_type": "code",
   "execution_count": 661,
   "id": "357dced2",
   "metadata": {},
   "outputs": [
    {
     "name": "stdout",
     "output_type": "stream",
     "text": [
      "Accuracy of KNN classifier on validate set: 0.78\n"
     ]
    }
   ],
   "source": [
    "print('Accuracy of KNN classifier on validate set: {:.2f}'\n",
    "     .format(knn.score(X_validate, y_validate)))\n"
   ]
  },
  {
   "cell_type": "code",
   "execution_count": 662,
   "id": "b46605a8",
   "metadata": {},
   "outputs": [
    {
     "data": {
      "text/html": [
       "<div>\n",
       "<style scoped>\n",
       "    .dataframe tbody tr th:only-of-type {\n",
       "        vertical-align: middle;\n",
       "    }\n",
       "\n",
       "    .dataframe tbody tr th {\n",
       "        vertical-align: top;\n",
       "    }\n",
       "\n",
       "    .dataframe thead th {\n",
       "        text-align: right;\n",
       "    }\n",
       "</style>\n",
       "<table border=\"1\" class=\"dataframe\">\n",
       "  <thead>\n",
       "    <tr style=\"text-align: right;\">\n",
       "      <th></th>\n",
       "      <th>k</th>\n",
       "      <th>train_accuracy</th>\n",
       "      <th>validate_accuracy</th>\n",
       "      <th>difference</th>\n",
       "    </tr>\n",
       "  </thead>\n",
       "  <tbody>\n",
       "    <tr>\n",
       "      <th>0</th>\n",
       "      <td>3</td>\n",
       "      <td>0.858522</td>\n",
       "      <td>0.740521</td>\n",
       "      <td>0.118000</td>\n",
       "    </tr>\n",
       "    <tr>\n",
       "      <th>1</th>\n",
       "      <td>4</td>\n",
       "      <td>0.832868</td>\n",
       "      <td>0.765995</td>\n",
       "      <td>0.066872</td>\n",
       "    </tr>\n",
       "    <tr>\n",
       "      <th>2</th>\n",
       "      <td>5</td>\n",
       "      <td>0.830582</td>\n",
       "      <td>0.755924</td>\n",
       "      <td>0.074657</td>\n",
       "    </tr>\n",
       "    <tr>\n",
       "      <th>3</th>\n",
       "      <td>6</td>\n",
       "      <td>0.818898</td>\n",
       "      <td>0.772512</td>\n",
       "      <td>0.046386</td>\n",
       "    </tr>\n",
       "    <tr>\n",
       "      <th>4</th>\n",
       "      <td>7</td>\n",
       "      <td>0.819406</td>\n",
       "      <td>0.776066</td>\n",
       "      <td>0.043339</td>\n",
       "    </tr>\n",
       "    <tr>\n",
       "      <th>5</th>\n",
       "      <td>8</td>\n",
       "      <td>0.812802</td>\n",
       "      <td>0.783768</td>\n",
       "      <td>0.029034</td>\n",
       "    </tr>\n",
       "    <tr>\n",
       "      <th>6</th>\n",
       "      <td>9</td>\n",
       "      <td>0.815342</td>\n",
       "      <td>0.777844</td>\n",
       "      <td>0.037498</td>\n",
       "    </tr>\n",
       "    <tr>\n",
       "      <th>7</th>\n",
       "      <td>10</td>\n",
       "      <td>0.809246</td>\n",
       "      <td>0.770142</td>\n",
       "      <td>0.039103</td>\n",
       "    </tr>\n",
       "    <tr>\n",
       "      <th>8</th>\n",
       "      <td>11</td>\n",
       "      <td>0.811786</td>\n",
       "      <td>0.769550</td>\n",
       "      <td>0.042236</td>\n",
       "    </tr>\n",
       "    <tr>\n",
       "      <th>9</th>\n",
       "      <td>12</td>\n",
       "      <td>0.805944</td>\n",
       "      <td>0.773697</td>\n",
       "      <td>0.032247</td>\n",
       "    </tr>\n",
       "    <tr>\n",
       "      <th>10</th>\n",
       "      <td>13</td>\n",
       "      <td>0.806960</td>\n",
       "      <td>0.773697</td>\n",
       "      <td>0.033263</td>\n",
       "    </tr>\n",
       "    <tr>\n",
       "      <th>11</th>\n",
       "      <td>14</td>\n",
       "      <td>0.800864</td>\n",
       "      <td>0.774882</td>\n",
       "      <td>0.025982</td>\n",
       "    </tr>\n",
       "    <tr>\n",
       "      <th>12</th>\n",
       "      <td>15</td>\n",
       "      <td>0.803912</td>\n",
       "      <td>0.778436</td>\n",
       "      <td>0.025476</td>\n",
       "    </tr>\n",
       "    <tr>\n",
       "      <th>13</th>\n",
       "      <td>16</td>\n",
       "      <td>0.801372</td>\n",
       "      <td>0.774882</td>\n",
       "      <td>0.026490</td>\n",
       "    </tr>\n",
       "    <tr>\n",
       "      <th>14</th>\n",
       "      <td>17</td>\n",
       "      <td>0.799086</td>\n",
       "      <td>0.773104</td>\n",
       "      <td>0.025981</td>\n",
       "    </tr>\n",
       "    <tr>\n",
       "      <th>15</th>\n",
       "      <td>18</td>\n",
       "      <td>0.798324</td>\n",
       "      <td>0.773104</td>\n",
       "      <td>0.025219</td>\n",
       "    </tr>\n",
       "    <tr>\n",
       "      <th>16</th>\n",
       "      <td>19</td>\n",
       "      <td>0.797054</td>\n",
       "      <td>0.773104</td>\n",
       "      <td>0.023949</td>\n",
       "    </tr>\n",
       "    <tr>\n",
       "      <th>17</th>\n",
       "      <td>20</td>\n",
       "      <td>0.794768</td>\n",
       "      <td>0.771919</td>\n",
       "      <td>0.022848</td>\n",
       "    </tr>\n",
       "  </tbody>\n",
       "</table>\n",
       "</div>"
      ],
      "text/plain": [
       "     k  train_accuracy  validate_accuracy  difference\n",
       "0    3        0.858522           0.740521    0.118000\n",
       "1    4        0.832868           0.765995    0.066872\n",
       "2    5        0.830582           0.755924    0.074657\n",
       "3    6        0.818898           0.772512    0.046386\n",
       "4    7        0.819406           0.776066    0.043339\n",
       "5    8        0.812802           0.783768    0.029034\n",
       "6    9        0.815342           0.777844    0.037498\n",
       "7   10        0.809246           0.770142    0.039103\n",
       "8   11        0.811786           0.769550    0.042236\n",
       "9   12        0.805944           0.773697    0.032247\n",
       "10  13        0.806960           0.773697    0.033263\n",
       "11  14        0.800864           0.774882    0.025982\n",
       "12  15        0.803912           0.778436    0.025476\n",
       "13  16        0.801372           0.774882    0.026490\n",
       "14  17        0.799086           0.773104    0.025981\n",
       "15  18        0.798324           0.773104    0.025219\n",
       "16  19        0.797054           0.773104    0.023949\n",
       "17  20        0.794768           0.771919    0.022848"
      ]
     },
     "execution_count": 662,
     "metadata": {},
     "output_type": "execute_result"
    }
   ],
   "source": [
    "metrics = []\n",
    "\n",
    "# loop through different values of k\n",
    "for k in range(3, 21):\n",
    "            \n",
    "    # define the thing\n",
    "    knn = KNeighborsClassifier(n_neighbors=k)\n",
    "    \n",
    "    # fit the thing (remmeber only fit on training data)\n",
    "    knn.fit(X_train, y_train)\n",
    "    \n",
    "    # use the thing (calculate accuracy)\n",
    "    train_accuracy = knn.score(X_train, y_train)\n",
    "    validate_accuracy = knn.score(X_validate, y_validate)\n",
    "    \n",
    "    output = {\n",
    "        \"k\": k,\n",
    "        \"train_accuracy\": train_accuracy,\n",
    "        \"validate_accuracy\": validate_accuracy\n",
    "    }\n",
    "    \n",
    "    metrics.append(output)\n",
    "\n",
    "df = pd.DataFrame(metrics)\n",
    "df[\"difference\"] = df.train_accuracy - df.validate_accuracy\n",
    "df"
   ]
  },
  {
   "cell_type": "code",
   "execution_count": 663,
   "id": "ea213b5d",
   "metadata": {},
   "outputs": [],
   "source": [
    "y_pred = knn.predict(X_validate)"
   ]
  },
  {
   "cell_type": "code",
   "execution_count": 664,
   "id": "f8b72b44",
   "metadata": {},
   "outputs": [
    {
     "name": "stdout",
     "output_type": "stream",
     "text": [
      "              precision    recall  f1-score   support\n",
      "\n",
      "           0       0.80      0.92      0.86      1239\n",
      "           1       0.63      0.35      0.45       449\n",
      "\n",
      "    accuracy                           0.77      1688\n",
      "   macro avg       0.71      0.64      0.65      1688\n",
      "weighted avg       0.75      0.77      0.75      1688\n",
      "\n"
     ]
    }
   ],
   "source": [
    "print(classification_report(y_validate, y_pred))"
   ]
  },
  {
   "cell_type": "markdown",
   "id": "c884e715",
   "metadata": {},
   "source": [
    "### Logistic Regression - Model 1\n",
    "\n",
    "- The logistic regression model has a training accuracy of 76% with a validation accuracy of 73%."
   ]
  },
  {
   "cell_type": "code",
   "execution_count": 665,
   "id": "3b15dd20",
   "metadata": {},
   "outputs": [],
   "source": [
    "# create X & y version of train, where y is a series with just the target variable and X are all the features. \n",
    "\n",
    "X_train = train.drop(columns=['customer_id', 'gender', 'partner', 'dependents',\\\n",
    "                              'phone_service', 'multiple_lines', 'online_security',\\\n",
    "                              'online_backup', 'device_protection', 'tech_support', 'streaming_tv',\\\n",
    "                              'streaming_movies', 'paperless_billing', 'churn', 'contract_type',\\\n",
    "                              'internet_service_type', 'payment_type', 'has_churned', 'is_female'])\n",
    "y_train = train.has_churned\n",
    "\n",
    "X_validate = validate.drop(columns=['customer_id', 'gender', 'partner', 'dependents',\\\n",
    "                              'phone_service', 'multiple_lines', 'online_security',\\\n",
    "                              'online_backup', 'device_protection', 'tech_support', 'streaming_tv',\\\n",
    "                              'streaming_movies', 'paperless_billing', 'churn', 'contract_type',\\\n",
    "                              'internet_service_type', 'payment_type', 'has_churned', 'is_female'])\n",
    "y_validate = validate.has_churned\n",
    "\n",
    "X_test = test.drop(columns=['customer_id', 'gender', 'partner', 'dependents',\\\n",
    "                              'phone_service', 'multiple_lines', 'online_security',\\\n",
    "                              'online_backup', 'device_protection', 'tech_support', 'streaming_tv',\\\n",
    "                              'streaming_movies', 'paperless_billing', 'churn', 'contract_type',\\\n",
    "                              'internet_service_type', 'payment_type', 'has_churned', 'is_female'])\n",
    "y_test = test.has_churned"
   ]
  },
  {
   "cell_type": "code",
   "execution_count": 666,
   "id": "662fc77c",
   "metadata": {},
   "outputs": [],
   "source": [
    "# from sklearn.linear_model import LogisticRegression\n",
    "logit = LogisticRegression(C=1, class_weight='balanced', random_state=123, intercept_scaling=1, solver='lbfgs')\n",
    "\n"
   ]
  },
  {
   "cell_type": "code",
   "execution_count": 667,
   "id": "c8ca50a6",
   "metadata": {},
   "outputs": [
    {
     "data": {
      "text/plain": [
       "LogisticRegression(C=1, class_weight='balanced', random_state=123)"
      ]
     },
     "execution_count": 667,
     "metadata": {},
     "output_type": "execute_result"
    }
   ],
   "source": [
    "logit.fit(X_train, y_train)\n"
   ]
  },
  {
   "cell_type": "code",
   "execution_count": 668,
   "id": "3b2d2b50",
   "metadata": {},
   "outputs": [
    {
     "name": "stdout",
     "output_type": "stream",
     "text": [
      "Coefficient: \n",
      " [[ 3.78306146e-01 -6.04729196e-02  1.57409818e-02  3.09587773e-04\n",
      "   4.35568425e-02 -9.75638717e-02 -3.78006492e-01  3.59774680e-01\n",
      "  -5.46558693e-01 -8.22355572e-01  4.70847535e-01 -9.87340090e-02\n",
      "   7.24823359e-03  2.36444192e-01 -2.08728713e-02  5.41467472e-01\n",
      "   1.81832880e-01 -9.87340090e-02 -5.99098353e-01 -9.87340090e-02\n",
      "  -1.59138557e-01 -9.87340090e-02 -5.03986921e-01 -9.87340090e-02\n",
      "  -1.48817538e-01 -9.87340090e-02 -8.33544817e-02]]\n",
      "Intercept: \n",
      " [0.16298496]\n"
     ]
    }
   ],
   "source": [
    "print('Coefficient: \\n', logit.coef_)\n",
    "print('Intercept: \\n', logit.intercept_)\n"
   ]
  },
  {
   "cell_type": "code",
   "execution_count": 669,
   "id": "a902fdb4",
   "metadata": {},
   "outputs": [
    {
     "name": "stdout",
     "output_type": "stream",
     "text": [
      "Accuracy of Logistic Regression classifier on training set: 0.76\n"
     ]
    }
   ],
   "source": [
    "print('Accuracy of Logistic Regression classifier on training set: {:.2f}'\n",
    "     .format(logit.score(X_train, y_train)))\n"
   ]
  },
  {
   "cell_type": "code",
   "execution_count": 670,
   "id": "56546f39",
   "metadata": {},
   "outputs": [
    {
     "data": {
      "text/plain": [
       "array([0, 0, 0, 0, 0])"
      ]
     },
     "execution_count": 670,
     "metadata": {},
     "output_type": "execute_result"
    }
   ],
   "source": [
    "y_pred = logit.predict(X_train)\n",
    "y_pred[0:5]"
   ]
  },
  {
   "cell_type": "code",
   "execution_count": 671,
   "id": "898e7e8a",
   "metadata": {},
   "outputs": [
    {
     "data": {
      "text/plain": [
       "array([[0.92636951, 0.07363049],\n",
       "       [0.84286465, 0.15713535],\n",
       "       [0.82074103, 0.17925897],\n",
       "       [0.65353346, 0.34646654],\n",
       "       [0.8234333 , 0.1765667 ]])"
      ]
     },
     "execution_count": 671,
     "metadata": {},
     "output_type": "execute_result"
    }
   ],
   "source": [
    "y_pred_proba = logit.predict_proba(X_train)\n",
    "y_pred_proba[0:5]"
   ]
  },
  {
   "cell_type": "code",
   "execution_count": null,
   "id": "9df70e2a",
   "metadata": {},
   "outputs": [],
   "source": []
  },
  {
   "cell_type": "code",
   "execution_count": 672,
   "id": "e6fe0a22",
   "metadata": {},
   "outputs": [
    {
     "name": "stdout",
     "output_type": "stream",
     "text": [
      "Accuracy of Logistic Regression classifier on validate set: 0.73\n"
     ]
    }
   ],
   "source": [
    "print('Accuracy of Logistic Regression classifier on validate set: {:.2f}'\n",
    "     .format(logit.score(X_validate, y_validate)))\n",
    "\n"
   ]
  },
  {
   "cell_type": "code",
   "execution_count": 431,
   "id": "cbf99503",
   "metadata": {},
   "outputs": [
    {
     "name": "stdout",
     "output_type": "stream",
     "text": [
      "              precision    recall  f1-score   support\n",
      "\n",
      "           0       0.91      0.74      0.82      2891\n",
      "           1       0.53      0.79      0.63      1046\n",
      "\n",
      "    accuracy                           0.76      3937\n",
      "   macro avg       0.72      0.77      0.73      3937\n",
      "weighted avg       0.81      0.76      0.77      3937\n",
      "\n"
     ]
    }
   ],
   "source": [
    "print(classification_report(y_train, y_pred))\n"
   ]
  },
  {
   "cell_type": "code",
   "execution_count": 432,
   "id": "8614cc11",
   "metadata": {},
   "outputs": [
    {
     "name": "stdout",
     "output_type": "stream",
     "text": [
      "              precision    recall  f1-score   support\n",
      "\n",
      "           0       0.91      0.71      0.80      1239\n",
      "           1       0.50      0.80      0.62       449\n",
      "\n",
      "    accuracy                           0.73      1688\n",
      "   macro avg       0.70      0.75      0.71      1688\n",
      "weighted avg       0.80      0.73      0.75      1688\n",
      "\n"
     ]
    }
   ],
   "source": [
    "y_pred = logit.predict(X_validate)\n",
    "\n",
    "print(classification_report(y_validate, y_pred))"
   ]
  },
  {
   "cell_type": "markdown",
   "id": "808b9571",
   "metadata": {},
   "source": [
    "### Best fit model - Logistic Regression Model 1 - Accuracy on test data\n",
    "- This model had an 80% accuracy on train data, 73% on validation data (just above baseline). However, the model had the highest recall rate on the posiive case. The most costly event would be a false negative, predicting a customer did not churn, when in fact, they did churn. While other models would be more accurate, this model was chosen specifically for its optimization for reducing false negatives."
   ]
  },
  {
   "cell_type": "code",
   "execution_count": 674,
   "id": "33e6201a",
   "metadata": {},
   "outputs": [
    {
     "name": "stdout",
     "output_type": "stream",
     "text": [
      "Accuracy of Logistic Regression classifier on test set: 0.75\n"
     ]
    }
   ],
   "source": [
    "print('Accuracy of Logistic Regression classifier on test set: {:.2f}'\n",
    "     .format(logit.score(X_test, y_test)))\n"
   ]
  },
  {
   "cell_type": "markdown",
   "id": "04629445",
   "metadata": {},
   "source": [
    "### Logistic Regression - Model 2"
   ]
  },
  {
   "cell_type": "code",
   "execution_count": 557,
   "id": "c78da516",
   "metadata": {},
   "outputs": [],
   "source": [
    "logit2 = LogisticRegression(C=.01, class_weight='balanced', random_state=123, solver='lbfgs')\n"
   ]
  },
  {
   "cell_type": "code",
   "execution_count": 558,
   "id": "e2432c03",
   "metadata": {},
   "outputs": [
    {
     "data": {
      "text/plain": [
       "LogisticRegression(C=0.01, class_weight='balanced', random_state=123)"
      ]
     },
     "execution_count": 558,
     "metadata": {},
     "output_type": "execute_result"
    }
   ],
   "source": [
    "logit2.fit(X_train, y_train)"
   ]
  },
  {
   "cell_type": "code",
   "execution_count": 559,
   "id": "127f2633",
   "metadata": {},
   "outputs": [
    {
     "name": "stdout",
     "output_type": "stream",
     "text": [
      "Accuracy of Logistic Regression classifier on training set: 0.75\n"
     ]
    }
   ],
   "source": [
    "print('Accuracy of Logistic Regression classifier on training set: {:.2f}'\n",
    "     .format(logit2.score(X_train, y_train)))\n"
   ]
  },
  {
   "cell_type": "code",
   "execution_count": 560,
   "id": "8d8674fa",
   "metadata": {},
   "outputs": [
    {
     "name": "stdout",
     "output_type": "stream",
     "text": [
      "Accuracy of Logistic Regression classifier on validateset: 0.73\n"
     ]
    }
   ],
   "source": [
    "print('Accuracy of Logistic Regression classifier on validateset: {:.2f}'\n",
    "     .format(logit2.score(X_validate, y_validate)))"
   ]
  },
  {
   "cell_type": "code",
   "execution_count": 453,
   "id": "2f7531d3",
   "metadata": {},
   "outputs": [
    {
     "name": "stdout",
     "output_type": "stream",
     "text": [
      "              precision    recall  f1-score   support\n",
      "\n",
      "           0       0.90      0.72      0.80      1239\n",
      "           1       0.50      0.78      0.61       449\n",
      "\n",
      "    accuracy                           0.73      1688\n",
      "   macro avg       0.70      0.75      0.70      1688\n",
      "weighted avg       0.79      0.73      0.75      1688\n",
      "\n"
     ]
    }
   ],
   "source": [
    "y_pred = logit2.predict(X_validate)\n",
    "\n",
    "print(classification_report(y_validate, y_pred))"
   ]
  },
  {
   "cell_type": "code",
   "execution_count": null,
   "id": "46bfe93a",
   "metadata": {},
   "outputs": [],
   "source": [
    "\n"
   ]
  },
  {
   "cell_type": "code",
   "execution_count": null,
   "id": "ccfef11b",
   "metadata": {},
   "outputs": [],
   "source": []
  },
  {
   "cell_type": "markdown",
   "id": "2ad4642a",
   "metadata": {},
   "source": [
    "### Logistic Regression - Model 3"
   ]
  },
  {
   "cell_type": "code",
   "execution_count": 457,
   "id": "f9840849",
   "metadata": {},
   "outputs": [],
   "source": [
    "features = ['tenure', 'senior_citizen', 'has_partner', 'has_dependents', 'monthly_charges', 'online_security_Yes',\\\n",
    "            'online_backup_Yes', 'tech_support_Yes', 'payment_type_Electronic check']"
   ]
  },
  {
   "cell_type": "code",
   "execution_count": 458,
   "id": "bc4a2061",
   "metadata": {},
   "outputs": [],
   "source": [
    "# create X & y version of train, where y is a series with just the target variable and X are all the features. \n",
    "\n",
    "X_train = train[features]\n",
    "y_train = train.has_churned\n",
    "\n",
    "X_validate = validate[features]\n",
    "y_validate = validate.has_churned\n",
    "\n",
    "X_test = test[features]\n",
    "y_test = test.has_churned"
   ]
  },
  {
   "cell_type": "code",
   "execution_count": 459,
   "id": "61bae4c6",
   "metadata": {},
   "outputs": [],
   "source": [
    "logit3 = LogisticRegression(C=1, class_weight='balanced', random_state=123, solver='lbfgs')\n"
   ]
  },
  {
   "cell_type": "code",
   "execution_count": 460,
   "id": "6ee25dc7",
   "metadata": {},
   "outputs": [
    {
     "data": {
      "text/plain": [
       "LogisticRegression(C=1, class_weight='balanced', random_state=123)"
      ]
     },
     "execution_count": 460,
     "metadata": {},
     "output_type": "execute_result"
    }
   ],
   "source": [
    "logit3.fit(X_train, y_train)"
   ]
  },
  {
   "cell_type": "code",
   "execution_count": 315,
   "id": "b9e2150a",
   "metadata": {},
   "outputs": [
    {
     "ename": "ValueError",
     "evalue": "X has 9 features per sample; expecting 27",
     "output_type": "error",
     "traceback": [
      "\u001b[0;31m---------------------------------------------------------------------------\u001b[0m",
      "\u001b[0;31mValueError\u001b[0m                                Traceback (most recent call last)",
      "\u001b[0;32m/var/folders/09/fk3d1qyj46g4t3qj46nfxzvw0000gn/T/ipykernel_8400/2028154430.py\u001b[0m in \u001b[0;36m<module>\u001b[0;34m\u001b[0m\n\u001b[1;32m      1\u001b[0m print('Accuracy of Logistic Regression classifier on training set: {:.2f}'\n\u001b[0;32m----> 2\u001b[0;31m      .format(logit.score(X_train, y_train)))\n\u001b[0m",
      "\u001b[0;32m/opt/homebrew/anaconda3/lib/python3.9/site-packages/sklearn/base.py\u001b[0m in \u001b[0;36mscore\u001b[0;34m(self, X, y, sample_weight)\u001b[0m\n\u001b[1;32m    498\u001b[0m         \"\"\"\n\u001b[1;32m    499\u001b[0m         \u001b[0;32mfrom\u001b[0m \u001b[0;34m.\u001b[0m\u001b[0mmetrics\u001b[0m \u001b[0;32mimport\u001b[0m \u001b[0maccuracy_score\u001b[0m\u001b[0;34m\u001b[0m\u001b[0;34m\u001b[0m\u001b[0m\n\u001b[0;32m--> 500\u001b[0;31m         \u001b[0;32mreturn\u001b[0m \u001b[0maccuracy_score\u001b[0m\u001b[0;34m(\u001b[0m\u001b[0my\u001b[0m\u001b[0;34m,\u001b[0m \u001b[0mself\u001b[0m\u001b[0;34m.\u001b[0m\u001b[0mpredict\u001b[0m\u001b[0;34m(\u001b[0m\u001b[0mX\u001b[0m\u001b[0;34m)\u001b[0m\u001b[0;34m,\u001b[0m \u001b[0msample_weight\u001b[0m\u001b[0;34m=\u001b[0m\u001b[0msample_weight\u001b[0m\u001b[0;34m)\u001b[0m\u001b[0;34m\u001b[0m\u001b[0;34m\u001b[0m\u001b[0m\n\u001b[0m\u001b[1;32m    501\u001b[0m \u001b[0;34m\u001b[0m\u001b[0m\n\u001b[1;32m    502\u001b[0m     \u001b[0;32mdef\u001b[0m \u001b[0m_more_tags\u001b[0m\u001b[0;34m(\u001b[0m\u001b[0mself\u001b[0m\u001b[0;34m)\u001b[0m\u001b[0;34m:\u001b[0m\u001b[0;34m\u001b[0m\u001b[0;34m\u001b[0m\u001b[0m\n",
      "\u001b[0;32m/opt/homebrew/anaconda3/lib/python3.9/site-packages/sklearn/linear_model/_base.py\u001b[0m in \u001b[0;36mpredict\u001b[0;34m(self, X)\u001b[0m\n\u001b[1;32m    307\u001b[0m             \u001b[0mPredicted\u001b[0m \u001b[0;32mclass\u001b[0m \u001b[0mlabel\u001b[0m \u001b[0mper\u001b[0m \u001b[0msample\u001b[0m\u001b[0;34m.\u001b[0m\u001b[0;34m\u001b[0m\u001b[0;34m\u001b[0m\u001b[0m\n\u001b[1;32m    308\u001b[0m         \"\"\"\n\u001b[0;32m--> 309\u001b[0;31m         \u001b[0mscores\u001b[0m \u001b[0;34m=\u001b[0m \u001b[0mself\u001b[0m\u001b[0;34m.\u001b[0m\u001b[0mdecision_function\u001b[0m\u001b[0;34m(\u001b[0m\u001b[0mX\u001b[0m\u001b[0;34m)\u001b[0m\u001b[0;34m\u001b[0m\u001b[0;34m\u001b[0m\u001b[0m\n\u001b[0m\u001b[1;32m    310\u001b[0m         \u001b[0;32mif\u001b[0m \u001b[0mlen\u001b[0m\u001b[0;34m(\u001b[0m\u001b[0mscores\u001b[0m\u001b[0;34m.\u001b[0m\u001b[0mshape\u001b[0m\u001b[0;34m)\u001b[0m \u001b[0;34m==\u001b[0m \u001b[0;36m1\u001b[0m\u001b[0;34m:\u001b[0m\u001b[0;34m\u001b[0m\u001b[0;34m\u001b[0m\u001b[0m\n\u001b[1;32m    311\u001b[0m             \u001b[0mindices\u001b[0m \u001b[0;34m=\u001b[0m \u001b[0;34m(\u001b[0m\u001b[0mscores\u001b[0m \u001b[0;34m>\u001b[0m \u001b[0;36m0\u001b[0m\u001b[0;34m)\u001b[0m\u001b[0;34m.\u001b[0m\u001b[0mastype\u001b[0m\u001b[0;34m(\u001b[0m\u001b[0mint\u001b[0m\u001b[0;34m)\u001b[0m\u001b[0;34m\u001b[0m\u001b[0;34m\u001b[0m\u001b[0m\n",
      "\u001b[0;32m/opt/homebrew/anaconda3/lib/python3.9/site-packages/sklearn/linear_model/_base.py\u001b[0m in \u001b[0;36mdecision_function\u001b[0;34m(self, X)\u001b[0m\n\u001b[1;32m    286\u001b[0m         \u001b[0mn_features\u001b[0m \u001b[0;34m=\u001b[0m \u001b[0mself\u001b[0m\u001b[0;34m.\u001b[0m\u001b[0mcoef_\u001b[0m\u001b[0;34m.\u001b[0m\u001b[0mshape\u001b[0m\u001b[0;34m[\u001b[0m\u001b[0;36m1\u001b[0m\u001b[0;34m]\u001b[0m\u001b[0;34m\u001b[0m\u001b[0;34m\u001b[0m\u001b[0m\n\u001b[1;32m    287\u001b[0m         \u001b[0;32mif\u001b[0m \u001b[0mX\u001b[0m\u001b[0;34m.\u001b[0m\u001b[0mshape\u001b[0m\u001b[0;34m[\u001b[0m\u001b[0;36m1\u001b[0m\u001b[0;34m]\u001b[0m \u001b[0;34m!=\u001b[0m \u001b[0mn_features\u001b[0m\u001b[0;34m:\u001b[0m\u001b[0;34m\u001b[0m\u001b[0;34m\u001b[0m\u001b[0m\n\u001b[0;32m--> 288\u001b[0;31m             raise ValueError(\"X has %d features per sample; expecting %d\"\n\u001b[0m\u001b[1;32m    289\u001b[0m                              % (X.shape[1], n_features))\n\u001b[1;32m    290\u001b[0m \u001b[0;34m\u001b[0m\u001b[0m\n",
      "\u001b[0;31mValueError\u001b[0m: X has 9 features per sample; expecting 27"
     ]
    }
   ],
   "source": [
    "print('Accuracy of Logistic Regression classifier on training set: {:.2f}'\n",
    "     .format(logit.score(X_train, y_train)))\n"
   ]
  },
  {
   "cell_type": "code",
   "execution_count": null,
   "id": "7ccfb47d",
   "metadata": {},
   "outputs": [],
   "source": []
  },
  {
   "cell_type": "code",
   "execution_count": null,
   "id": "35aecb2d",
   "metadata": {},
   "outputs": [],
   "source": []
  }
 ],
 "metadata": {
  "kernelspec": {
   "display_name": "Python 3 (ipykernel)",
   "language": "python",
   "name": "python3"
  },
  "language_info": {
   "codemirror_mode": {
    "name": "ipython",
    "version": 3
   },
   "file_extension": ".py",
   "mimetype": "text/x-python",
   "name": "python",
   "nbconvert_exporter": "python",
   "pygments_lexer": "ipython3",
   "version": "3.9.7"
  }
 },
 "nbformat": 4,
 "nbformat_minor": 5
}
