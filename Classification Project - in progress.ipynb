{
 "cells": [
  {
   "cell_type": "code",
   "execution_count": 1,
   "id": "bd4e929f",
   "metadata": {},
   "outputs": [],
   "source": [
    "import pandas as pd\n",
    "import numpy as np\n",
    "import os\n",
    "import scipy.stats as stats\n",
    "\n",
    "import matplotlib.pyplot as plt\n",
    "import seaborn as sns\n",
    "\n",
    "from sklearn.model_selection import train_test_split\n",
    "\n",
    "from sklearn.tree import DecisionTreeClassifier, plot_tree, export_text\n",
    "from sklearn.ensemble import RandomForestClassifier\n",
    "from sklearn.linear_model import LogisticRegression\n",
    "from sklearn.neighbors import KNeighborsClassifier\n",
    "from sklearn.linear_model import LogisticRegression\n",
    "\n",
    "from sklearn.metrics import classification_report, confusion_matrix, accuracy_score\n",
    "\n",
    "from env import get_db_url\n",
    "import acquire\n",
    "import prepare\n",
    "\n",
    "alpha = .05"
   ]
  },
  {
   "cell_type": "markdown",
   "id": "8fcbfcb3",
   "metadata": {},
   "source": [
    "## Acquire "
   ]
  },
  {
   "cell_type": "code",
   "execution_count": 2,
   "id": "b700c41f",
   "metadata": {},
   "outputs": [],
   "source": [
    "def get_telco_data():\n",
    "\n",
    "    '''This function pulls telco data from the Codeup database and saves\n",
    "    the file as a .csv'''\n",
    "    filename = 'telco_data.csv'\n",
    "\n",
    "    if os.path.isfile(filename):\n",
    "        return pd.read_csv(filename)\n",
    "    else:\n",
    "       sql_query = '''SELECT * from customers\n",
    "                JOIN contract_types using (contract_type_id)\n",
    "                JOIN internet_service_types using (internet_service_type_id)\n",
    "                JOIN payment_types using (payment_type_id)'''\n",
    "       \n",
    "    \n",
    "    df = pd.read_sql(sql_query, get_db_url('telco_churn'))\n",
    "\n",
    "    df.to_csv(filename)\n",
    "\n",
    "    return df"
   ]
  },
  {
   "cell_type": "code",
   "execution_count": 3,
   "id": "fe87d17e",
   "metadata": {},
   "outputs": [
    {
     "data": {
      "text/html": [
       "<div>\n",
       "<style scoped>\n",
       "    .dataframe tbody tr th:only-of-type {\n",
       "        vertical-align: middle;\n",
       "    }\n",
       "\n",
       "    .dataframe tbody tr th {\n",
       "        vertical-align: top;\n",
       "    }\n",
       "\n",
       "    .dataframe thead th {\n",
       "        text-align: right;\n",
       "    }\n",
       "</style>\n",
       "<table border=\"1\" class=\"dataframe\">\n",
       "  <thead>\n",
       "    <tr style=\"text-align: right;\">\n",
       "      <th></th>\n",
       "      <th>Unnamed: 0</th>\n",
       "      <th>payment_type_id</th>\n",
       "      <th>internet_service_type_id</th>\n",
       "      <th>contract_type_id</th>\n",
       "      <th>customer_id</th>\n",
       "      <th>gender</th>\n",
       "      <th>senior_citizen</th>\n",
       "      <th>partner</th>\n",
       "      <th>dependents</th>\n",
       "      <th>tenure</th>\n",
       "      <th>...</th>\n",
       "      <th>tech_support</th>\n",
       "      <th>streaming_tv</th>\n",
       "      <th>streaming_movies</th>\n",
       "      <th>paperless_billing</th>\n",
       "      <th>monthly_charges</th>\n",
       "      <th>total_charges</th>\n",
       "      <th>churn</th>\n",
       "      <th>contract_type</th>\n",
       "      <th>internet_service_type</th>\n",
       "      <th>payment_type</th>\n",
       "    </tr>\n",
       "  </thead>\n",
       "  <tbody>\n",
       "    <tr>\n",
       "      <th>0</th>\n",
       "      <td>0</td>\n",
       "      <td>2</td>\n",
       "      <td>1</td>\n",
       "      <td>2</td>\n",
       "      <td>0002-ORFBO</td>\n",
       "      <td>Female</td>\n",
       "      <td>0</td>\n",
       "      <td>Yes</td>\n",
       "      <td>Yes</td>\n",
       "      <td>9</td>\n",
       "      <td>...</td>\n",
       "      <td>Yes</td>\n",
       "      <td>Yes</td>\n",
       "      <td>No</td>\n",
       "      <td>Yes</td>\n",
       "      <td>65.6</td>\n",
       "      <td>593.3</td>\n",
       "      <td>No</td>\n",
       "      <td>One year</td>\n",
       "      <td>DSL</td>\n",
       "      <td>Mailed check</td>\n",
       "    </tr>\n",
       "    <tr>\n",
       "      <th>1</th>\n",
       "      <td>1</td>\n",
       "      <td>2</td>\n",
       "      <td>1</td>\n",
       "      <td>1</td>\n",
       "      <td>0003-MKNFE</td>\n",
       "      <td>Male</td>\n",
       "      <td>0</td>\n",
       "      <td>No</td>\n",
       "      <td>No</td>\n",
       "      <td>9</td>\n",
       "      <td>...</td>\n",
       "      <td>No</td>\n",
       "      <td>No</td>\n",
       "      <td>Yes</td>\n",
       "      <td>No</td>\n",
       "      <td>59.9</td>\n",
       "      <td>542.4</td>\n",
       "      <td>No</td>\n",
       "      <td>Month-to-month</td>\n",
       "      <td>DSL</td>\n",
       "      <td>Mailed check</td>\n",
       "    </tr>\n",
       "    <tr>\n",
       "      <th>2</th>\n",
       "      <td>2</td>\n",
       "      <td>1</td>\n",
       "      <td>2</td>\n",
       "      <td>1</td>\n",
       "      <td>0004-TLHLJ</td>\n",
       "      <td>Male</td>\n",
       "      <td>0</td>\n",
       "      <td>No</td>\n",
       "      <td>No</td>\n",
       "      <td>4</td>\n",
       "      <td>...</td>\n",
       "      <td>No</td>\n",
       "      <td>No</td>\n",
       "      <td>No</td>\n",
       "      <td>Yes</td>\n",
       "      <td>73.9</td>\n",
       "      <td>280.85</td>\n",
       "      <td>Yes</td>\n",
       "      <td>Month-to-month</td>\n",
       "      <td>Fiber optic</td>\n",
       "      <td>Electronic check</td>\n",
       "    </tr>\n",
       "    <tr>\n",
       "      <th>3</th>\n",
       "      <td>3</td>\n",
       "      <td>1</td>\n",
       "      <td>2</td>\n",
       "      <td>1</td>\n",
       "      <td>0011-IGKFF</td>\n",
       "      <td>Male</td>\n",
       "      <td>1</td>\n",
       "      <td>Yes</td>\n",
       "      <td>No</td>\n",
       "      <td>13</td>\n",
       "      <td>...</td>\n",
       "      <td>No</td>\n",
       "      <td>Yes</td>\n",
       "      <td>Yes</td>\n",
       "      <td>Yes</td>\n",
       "      <td>98.0</td>\n",
       "      <td>1237.85</td>\n",
       "      <td>Yes</td>\n",
       "      <td>Month-to-month</td>\n",
       "      <td>Fiber optic</td>\n",
       "      <td>Electronic check</td>\n",
       "    </tr>\n",
       "    <tr>\n",
       "      <th>4</th>\n",
       "      <td>4</td>\n",
       "      <td>2</td>\n",
       "      <td>2</td>\n",
       "      <td>1</td>\n",
       "      <td>0013-EXCHZ</td>\n",
       "      <td>Female</td>\n",
       "      <td>1</td>\n",
       "      <td>Yes</td>\n",
       "      <td>No</td>\n",
       "      <td>3</td>\n",
       "      <td>...</td>\n",
       "      <td>Yes</td>\n",
       "      <td>Yes</td>\n",
       "      <td>No</td>\n",
       "      <td>Yes</td>\n",
       "      <td>83.9</td>\n",
       "      <td>267.4</td>\n",
       "      <td>Yes</td>\n",
       "      <td>Month-to-month</td>\n",
       "      <td>Fiber optic</td>\n",
       "      <td>Mailed check</td>\n",
       "    </tr>\n",
       "  </tbody>\n",
       "</table>\n",
       "<p>5 rows × 25 columns</p>\n",
       "</div>"
      ],
      "text/plain": [
       "   Unnamed: 0  payment_type_id  internet_service_type_id  contract_type_id  \\\n",
       "0           0                2                         1                 2   \n",
       "1           1                2                         1                 1   \n",
       "2           2                1                         2                 1   \n",
       "3           3                1                         2                 1   \n",
       "4           4                2                         2                 1   \n",
       "\n",
       "  customer_id  gender  senior_citizen partner dependents  tenure  ...  \\\n",
       "0  0002-ORFBO  Female               0     Yes        Yes       9  ...   \n",
       "1  0003-MKNFE    Male               0      No         No       9  ...   \n",
       "2  0004-TLHLJ    Male               0      No         No       4  ...   \n",
       "3  0011-IGKFF    Male               1     Yes         No      13  ...   \n",
       "4  0013-EXCHZ  Female               1     Yes         No       3  ...   \n",
       "\n",
       "  tech_support streaming_tv streaming_movies paperless_billing  \\\n",
       "0          Yes          Yes               No               Yes   \n",
       "1           No           No              Yes                No   \n",
       "2           No           No               No               Yes   \n",
       "3           No          Yes              Yes               Yes   \n",
       "4          Yes          Yes               No               Yes   \n",
       "\n",
       "  monthly_charges total_charges churn   contract_type internet_service_type  \\\n",
       "0            65.6         593.3    No        One year                   DSL   \n",
       "1            59.9         542.4    No  Month-to-month                   DSL   \n",
       "2            73.9        280.85   Yes  Month-to-month           Fiber optic   \n",
       "3            98.0       1237.85   Yes  Month-to-month           Fiber optic   \n",
       "4            83.9         267.4   Yes  Month-to-month           Fiber optic   \n",
       "\n",
       "       payment_type  \n",
       "0      Mailed check  \n",
       "1      Mailed check  \n",
       "2  Electronic check  \n",
       "3  Electronic check  \n",
       "4      Mailed check  \n",
       "\n",
       "[5 rows x 25 columns]"
      ]
     },
     "execution_count": 3,
     "metadata": {},
     "output_type": "execute_result"
    }
   ],
   "source": [
    "df = acquire.get_telco_data()\n",
    "df.head()"
   ]
  },
  {
   "cell_type": "markdown",
   "id": "23591fd2",
   "metadata": {},
   "source": [
    "## Prepare "
   ]
  },
  {
   "cell_type": "code",
   "execution_count": 4,
   "id": "8b168f39",
   "metadata": {},
   "outputs": [],
   "source": [
    "# replace empty cells with nulls\n",
    "df = df.replace(' ', np.nan)"
   ]
  },
  {
   "cell_type": "code",
   "execution_count": 5,
   "id": "5d5b36ab",
   "metadata": {},
   "outputs": [
    {
     "data": {
      "text/plain": [
       "Unnamed: 0                   0\n",
       "payment_type_id              0\n",
       "internet_service_type_id     0\n",
       "contract_type_id             0\n",
       "customer_id                  0\n",
       "gender                       0\n",
       "senior_citizen               0\n",
       "partner                      0\n",
       "dependents                   0\n",
       "tenure                       0\n",
       "phone_service                0\n",
       "multiple_lines               0\n",
       "online_security              0\n",
       "online_backup                0\n",
       "device_protection            0\n",
       "tech_support                 0\n",
       "streaming_tv                 0\n",
       "streaming_movies             0\n",
       "paperless_billing            0\n",
       "monthly_charges              0\n",
       "total_charges               11\n",
       "churn                        0\n",
       "contract_type                0\n",
       "internet_service_type        0\n",
       "payment_type                 0\n",
       "dtype: int64"
      ]
     },
     "execution_count": 5,
     "metadata": {},
     "output_type": "execute_result"
    }
   ],
   "source": [
    "# check df for nulls\n",
    "df.isna().sum()"
   ]
  },
  {
   "cell_type": "code",
   "execution_count": 6,
   "id": "e1679343",
   "metadata": {},
   "outputs": [],
   "source": [
    "# drop 11 nulls from total_charges\n",
    "df.dropna(inplace=True)"
   ]
  },
  {
   "cell_type": "code",
   "execution_count": 7,
   "id": "314cf7e8",
   "metadata": {},
   "outputs": [
    {
     "data": {
      "text/plain": [
       "Unnamed: 0                  0\n",
       "payment_type_id             0\n",
       "internet_service_type_id    0\n",
       "contract_type_id            0\n",
       "customer_id                 0\n",
       "gender                      0\n",
       "senior_citizen              0\n",
       "partner                     0\n",
       "dependents                  0\n",
       "tenure                      0\n",
       "phone_service               0\n",
       "multiple_lines              0\n",
       "online_security             0\n",
       "online_backup               0\n",
       "device_protection           0\n",
       "tech_support                0\n",
       "streaming_tv                0\n",
       "streaming_movies            0\n",
       "paperless_billing           0\n",
       "monthly_charges             0\n",
       "total_charges               0\n",
       "churn                       0\n",
       "contract_type               0\n",
       "internet_service_type       0\n",
       "payment_type                0\n",
       "dtype: int64"
      ]
     },
     "execution_count": 7,
     "metadata": {},
     "output_type": "execute_result"
    }
   ],
   "source": [
    "# check df for nulls\n",
    "df.isna().sum()"
   ]
  },
  {
   "cell_type": "code",
   "execution_count": 8,
   "id": "1bf69a3d",
   "metadata": {},
   "outputs": [
    {
     "name": "stdout",
     "output_type": "stream",
     "text": [
      "<class 'pandas.core.frame.DataFrame'>\n",
      "Int64Index: 7032 entries, 0 to 7042\n",
      "Data columns (total 25 columns):\n",
      " #   Column                    Non-Null Count  Dtype  \n",
      "---  ------                    --------------  -----  \n",
      " 0   Unnamed: 0                7032 non-null   int64  \n",
      " 1   payment_type_id           7032 non-null   int64  \n",
      " 2   internet_service_type_id  7032 non-null   int64  \n",
      " 3   contract_type_id          7032 non-null   int64  \n",
      " 4   customer_id               7032 non-null   object \n",
      " 5   gender                    7032 non-null   object \n",
      " 6   senior_citizen            7032 non-null   int64  \n",
      " 7   partner                   7032 non-null   object \n",
      " 8   dependents                7032 non-null   object \n",
      " 9   tenure                    7032 non-null   int64  \n",
      " 10  phone_service             7032 non-null   object \n",
      " 11  multiple_lines            7032 non-null   object \n",
      " 12  online_security           7032 non-null   object \n",
      " 13  online_backup             7032 non-null   object \n",
      " 14  device_protection         7032 non-null   object \n",
      " 15  tech_support              7032 non-null   object \n",
      " 16  streaming_tv              7032 non-null   object \n",
      " 17  streaming_movies          7032 non-null   object \n",
      " 18  paperless_billing         7032 non-null   object \n",
      " 19  monthly_charges           7032 non-null   float64\n",
      " 20  total_charges             7032 non-null   object \n",
      " 21  churn                     7032 non-null   object \n",
      " 22  contract_type             7032 non-null   object \n",
      " 23  internet_service_type     7032 non-null   object \n",
      " 24  payment_type              7032 non-null   object \n",
      "dtypes: float64(1), int64(6), object(18)\n",
      "memory usage: 1.4+ MB\n"
     ]
    }
   ],
   "source": [
    "df.info()"
   ]
  },
  {
   "cell_type": "code",
   "execution_count": 9,
   "id": "f00fe590",
   "metadata": {},
   "outputs": [],
   "source": [
    "# change total_charges to float\n",
    "df['total_charges'] = pd.to_numeric(df['total_charges'])"
   ]
  },
  {
   "cell_type": "code",
   "execution_count": 10,
   "id": "10081894",
   "metadata": {},
   "outputs": [
    {
     "data": {
      "text/html": [
       "<div>\n",
       "<style scoped>\n",
       "    .dataframe tbody tr th:only-of-type {\n",
       "        vertical-align: middle;\n",
       "    }\n",
       "\n",
       "    .dataframe tbody tr th {\n",
       "        vertical-align: top;\n",
       "    }\n",
       "\n",
       "    .dataframe thead th {\n",
       "        text-align: right;\n",
       "    }\n",
       "</style>\n",
       "<table border=\"1\" class=\"dataframe\">\n",
       "  <thead>\n",
       "    <tr style=\"text-align: right;\">\n",
       "      <th></th>\n",
       "      <th>count</th>\n",
       "      <th>mean</th>\n",
       "      <th>std</th>\n",
       "      <th>min</th>\n",
       "      <th>25%</th>\n",
       "      <th>50%</th>\n",
       "      <th>75%</th>\n",
       "      <th>max</th>\n",
       "    </tr>\n",
       "  </thead>\n",
       "  <tbody>\n",
       "    <tr>\n",
       "      <th>Unnamed: 0</th>\n",
       "      <td>7032.0</td>\n",
       "      <td>3522.306314</td>\n",
       "      <td>2034.073173</td>\n",
       "      <td>0.00</td>\n",
       "      <td>1759.7500</td>\n",
       "      <td>3524.500</td>\n",
       "      <td>5283.2500</td>\n",
       "      <td>7042.00</td>\n",
       "    </tr>\n",
       "    <tr>\n",
       "      <th>payment_type_id</th>\n",
       "      <td>7032.0</td>\n",
       "      <td>2.315557</td>\n",
       "      <td>1.149523</td>\n",
       "      <td>1.00</td>\n",
       "      <td>1.0000</td>\n",
       "      <td>2.000</td>\n",
       "      <td>3.0000</td>\n",
       "      <td>4.00</td>\n",
       "    </tr>\n",
       "    <tr>\n",
       "      <th>internet_service_type_id</th>\n",
       "      <td>7032.0</td>\n",
       "      <td>1.872582</td>\n",
       "      <td>0.737271</td>\n",
       "      <td>1.00</td>\n",
       "      <td>1.0000</td>\n",
       "      <td>2.000</td>\n",
       "      <td>2.0000</td>\n",
       "      <td>3.00</td>\n",
       "    </tr>\n",
       "    <tr>\n",
       "      <th>contract_type_id</th>\n",
       "      <td>7032.0</td>\n",
       "      <td>1.688567</td>\n",
       "      <td>0.832934</td>\n",
       "      <td>1.00</td>\n",
       "      <td>1.0000</td>\n",
       "      <td>1.000</td>\n",
       "      <td>2.0000</td>\n",
       "      <td>3.00</td>\n",
       "    </tr>\n",
       "    <tr>\n",
       "      <th>senior_citizen</th>\n",
       "      <td>7032.0</td>\n",
       "      <td>0.162400</td>\n",
       "      <td>0.368844</td>\n",
       "      <td>0.00</td>\n",
       "      <td>0.0000</td>\n",
       "      <td>0.000</td>\n",
       "      <td>0.0000</td>\n",
       "      <td>1.00</td>\n",
       "    </tr>\n",
       "    <tr>\n",
       "      <th>tenure</th>\n",
       "      <td>7032.0</td>\n",
       "      <td>32.421786</td>\n",
       "      <td>24.545260</td>\n",
       "      <td>1.00</td>\n",
       "      <td>9.0000</td>\n",
       "      <td>29.000</td>\n",
       "      <td>55.0000</td>\n",
       "      <td>72.00</td>\n",
       "    </tr>\n",
       "    <tr>\n",
       "      <th>monthly_charges</th>\n",
       "      <td>7032.0</td>\n",
       "      <td>64.798208</td>\n",
       "      <td>30.085974</td>\n",
       "      <td>18.25</td>\n",
       "      <td>35.5875</td>\n",
       "      <td>70.350</td>\n",
       "      <td>89.8625</td>\n",
       "      <td>118.75</td>\n",
       "    </tr>\n",
       "    <tr>\n",
       "      <th>total_charges</th>\n",
       "      <td>7032.0</td>\n",
       "      <td>2283.300441</td>\n",
       "      <td>2266.771362</td>\n",
       "      <td>18.80</td>\n",
       "      <td>401.4500</td>\n",
       "      <td>1397.475</td>\n",
       "      <td>3794.7375</td>\n",
       "      <td>8684.80</td>\n",
       "    </tr>\n",
       "  </tbody>\n",
       "</table>\n",
       "</div>"
      ],
      "text/plain": [
       "                           count         mean          std    min        25%  \\\n",
       "Unnamed: 0                7032.0  3522.306314  2034.073173   0.00  1759.7500   \n",
       "payment_type_id           7032.0     2.315557     1.149523   1.00     1.0000   \n",
       "internet_service_type_id  7032.0     1.872582     0.737271   1.00     1.0000   \n",
       "contract_type_id          7032.0     1.688567     0.832934   1.00     1.0000   \n",
       "senior_citizen            7032.0     0.162400     0.368844   0.00     0.0000   \n",
       "tenure                    7032.0    32.421786    24.545260   1.00     9.0000   \n",
       "monthly_charges           7032.0    64.798208    30.085974  18.25    35.5875   \n",
       "total_charges             7032.0  2283.300441  2266.771362  18.80   401.4500   \n",
       "\n",
       "                               50%        75%      max  \n",
       "Unnamed: 0                3524.500  5283.2500  7042.00  \n",
       "payment_type_id              2.000     3.0000     4.00  \n",
       "internet_service_type_id     2.000     2.0000     3.00  \n",
       "contract_type_id             1.000     2.0000     3.00  \n",
       "senior_citizen               0.000     0.0000     1.00  \n",
       "tenure                      29.000    55.0000    72.00  \n",
       "monthly_charges             70.350    89.8625   118.75  \n",
       "total_charges             1397.475  3794.7375  8684.80  "
      ]
     },
     "execution_count": 10,
     "metadata": {},
     "output_type": "execute_result"
    }
   ],
   "source": [
    "df.describe().T"
   ]
  },
  {
   "cell_type": "code",
   "execution_count": 11,
   "id": "eaa71362",
   "metadata": {},
   "outputs": [],
   "source": [
    "# determine columns to drop\n",
    "# Unnamed: 0 (note needed)\tpayment_type_id\tinternet_service_type_id\tcontract_type_id (already in additional columns)\n",
    "df = df.drop(columns=['Unnamed: 0', 'payment_type_id', 'internet_service_type_id', 'contract_type_id'])"
   ]
  },
  {
   "cell_type": "code",
   "execution_count": 12,
   "id": "4a8c0183",
   "metadata": {},
   "outputs": [
    {
     "data": {
      "text/html": [
       "<div>\n",
       "<style scoped>\n",
       "    .dataframe tbody tr th:only-of-type {\n",
       "        vertical-align: middle;\n",
       "    }\n",
       "\n",
       "    .dataframe tbody tr th {\n",
       "        vertical-align: top;\n",
       "    }\n",
       "\n",
       "    .dataframe thead th {\n",
       "        text-align: right;\n",
       "    }\n",
       "</style>\n",
       "<table border=\"1\" class=\"dataframe\">\n",
       "  <thead>\n",
       "    <tr style=\"text-align: right;\">\n",
       "      <th></th>\n",
       "      <th>customer_id</th>\n",
       "      <th>gender</th>\n",
       "      <th>senior_citizen</th>\n",
       "      <th>partner</th>\n",
       "      <th>dependents</th>\n",
       "      <th>tenure</th>\n",
       "      <th>phone_service</th>\n",
       "      <th>multiple_lines</th>\n",
       "      <th>online_security</th>\n",
       "      <th>online_backup</th>\n",
       "      <th>...</th>\n",
       "      <th>churn</th>\n",
       "      <th>contract_type</th>\n",
       "      <th>internet_service_type</th>\n",
       "      <th>payment_type</th>\n",
       "      <th>is_female</th>\n",
       "      <th>has_partner</th>\n",
       "      <th>has_dependents</th>\n",
       "      <th>has_phone_service</th>\n",
       "      <th>has_paperless_billing</th>\n",
       "      <th>has_churned</th>\n",
       "    </tr>\n",
       "  </thead>\n",
       "  <tbody>\n",
       "    <tr>\n",
       "      <th>0</th>\n",
       "      <td>0002-ORFBO</td>\n",
       "      <td>Female</td>\n",
       "      <td>0</td>\n",
       "      <td>Yes</td>\n",
       "      <td>Yes</td>\n",
       "      <td>9</td>\n",
       "      <td>Yes</td>\n",
       "      <td>No</td>\n",
       "      <td>No</td>\n",
       "      <td>Yes</td>\n",
       "      <td>...</td>\n",
       "      <td>No</td>\n",
       "      <td>One year</td>\n",
       "      <td>DSL</td>\n",
       "      <td>Mailed check</td>\n",
       "      <td>1</td>\n",
       "      <td>1</td>\n",
       "      <td>1</td>\n",
       "      <td>1</td>\n",
       "      <td>1</td>\n",
       "      <td>0</td>\n",
       "    </tr>\n",
       "    <tr>\n",
       "      <th>1</th>\n",
       "      <td>0003-MKNFE</td>\n",
       "      <td>Male</td>\n",
       "      <td>0</td>\n",
       "      <td>No</td>\n",
       "      <td>No</td>\n",
       "      <td>9</td>\n",
       "      <td>Yes</td>\n",
       "      <td>Yes</td>\n",
       "      <td>No</td>\n",
       "      <td>No</td>\n",
       "      <td>...</td>\n",
       "      <td>No</td>\n",
       "      <td>Month-to-month</td>\n",
       "      <td>DSL</td>\n",
       "      <td>Mailed check</td>\n",
       "      <td>0</td>\n",
       "      <td>0</td>\n",
       "      <td>0</td>\n",
       "      <td>1</td>\n",
       "      <td>0</td>\n",
       "      <td>0</td>\n",
       "    </tr>\n",
       "    <tr>\n",
       "      <th>2</th>\n",
       "      <td>0004-TLHLJ</td>\n",
       "      <td>Male</td>\n",
       "      <td>0</td>\n",
       "      <td>No</td>\n",
       "      <td>No</td>\n",
       "      <td>4</td>\n",
       "      <td>Yes</td>\n",
       "      <td>No</td>\n",
       "      <td>No</td>\n",
       "      <td>No</td>\n",
       "      <td>...</td>\n",
       "      <td>Yes</td>\n",
       "      <td>Month-to-month</td>\n",
       "      <td>Fiber optic</td>\n",
       "      <td>Electronic check</td>\n",
       "      <td>0</td>\n",
       "      <td>0</td>\n",
       "      <td>0</td>\n",
       "      <td>1</td>\n",
       "      <td>1</td>\n",
       "      <td>1</td>\n",
       "    </tr>\n",
       "    <tr>\n",
       "      <th>3</th>\n",
       "      <td>0011-IGKFF</td>\n",
       "      <td>Male</td>\n",
       "      <td>1</td>\n",
       "      <td>Yes</td>\n",
       "      <td>No</td>\n",
       "      <td>13</td>\n",
       "      <td>Yes</td>\n",
       "      <td>No</td>\n",
       "      <td>No</td>\n",
       "      <td>Yes</td>\n",
       "      <td>...</td>\n",
       "      <td>Yes</td>\n",
       "      <td>Month-to-month</td>\n",
       "      <td>Fiber optic</td>\n",
       "      <td>Electronic check</td>\n",
       "      <td>0</td>\n",
       "      <td>1</td>\n",
       "      <td>0</td>\n",
       "      <td>1</td>\n",
       "      <td>1</td>\n",
       "      <td>1</td>\n",
       "    </tr>\n",
       "    <tr>\n",
       "      <th>4</th>\n",
       "      <td>0013-EXCHZ</td>\n",
       "      <td>Female</td>\n",
       "      <td>1</td>\n",
       "      <td>Yes</td>\n",
       "      <td>No</td>\n",
       "      <td>3</td>\n",
       "      <td>Yes</td>\n",
       "      <td>No</td>\n",
       "      <td>No</td>\n",
       "      <td>No</td>\n",
       "      <td>...</td>\n",
       "      <td>Yes</td>\n",
       "      <td>Month-to-month</td>\n",
       "      <td>Fiber optic</td>\n",
       "      <td>Mailed check</td>\n",
       "      <td>1</td>\n",
       "      <td>1</td>\n",
       "      <td>0</td>\n",
       "      <td>1</td>\n",
       "      <td>1</td>\n",
       "      <td>1</td>\n",
       "    </tr>\n",
       "  </tbody>\n",
       "</table>\n",
       "<p>5 rows × 27 columns</p>\n",
       "</div>"
      ],
      "text/plain": [
       "  customer_id  gender  senior_citizen partner dependents  tenure  \\\n",
       "0  0002-ORFBO  Female               0     Yes        Yes       9   \n",
       "1  0003-MKNFE    Male               0      No         No       9   \n",
       "2  0004-TLHLJ    Male               0      No         No       4   \n",
       "3  0011-IGKFF    Male               1     Yes         No      13   \n",
       "4  0013-EXCHZ  Female               1     Yes         No       3   \n",
       "\n",
       "  phone_service multiple_lines online_security online_backup  ... churn  \\\n",
       "0           Yes             No              No           Yes  ...    No   \n",
       "1           Yes            Yes              No            No  ...    No   \n",
       "2           Yes             No              No            No  ...   Yes   \n",
       "3           Yes             No              No           Yes  ...   Yes   \n",
       "4           Yes             No              No            No  ...   Yes   \n",
       "\n",
       "    contract_type internet_service_type      payment_type is_female  \\\n",
       "0        One year                   DSL      Mailed check         1   \n",
       "1  Month-to-month                   DSL      Mailed check         0   \n",
       "2  Month-to-month           Fiber optic  Electronic check         0   \n",
       "3  Month-to-month           Fiber optic  Electronic check         0   \n",
       "4  Month-to-month           Fiber optic      Mailed check         1   \n",
       "\n",
       "   has_partner  has_dependents has_phone_service has_paperless_billing  \\\n",
       "0            1               1                 1                     1   \n",
       "1            0               0                 1                     0   \n",
       "2            0               0                 1                     1   \n",
       "3            1               0                 1                     1   \n",
       "4            1               0                 1                     1   \n",
       "\n",
       "  has_churned  \n",
       "0           0  \n",
       "1           0  \n",
       "2           1  \n",
       "3           1  \n",
       "4           1  \n",
       "\n",
       "[5 rows x 27 columns]"
      ]
     },
     "execution_count": 12,
     "metadata": {},
     "output_type": "execute_result"
    }
   ],
   "source": [
    "# convert categorical columns to boolean\n",
    "df['is_female'] = df['gender'].map({'Female': 1, 'Male': 0})\n",
    "df['has_partner'] = df['partner'].map({'Yes': 1, 'No': 0})\n",
    "df['has_dependents'] = df['dependents'].map({'Yes': 1, 'No': 0})\n",
    "df['has_phone_service'] = df['phone_service'].map({'Yes': 1, 'No': 0})\n",
    "df['has_paperless_billing'] = df['paperless_billing'].map({'Yes': 1, 'No': 0})\n",
    "df['has_churned'] = df['churn'].map({'Yes': 1, 'No': 0})\n",
    "\n",
    "df.head()"
   ]
  },
  {
   "cell_type": "code",
   "execution_count": 13,
   "id": "0ee60c2b",
   "metadata": {},
   "outputs": [],
   "source": [
    "dummy_df = pd.get_dummies(df[['contract_type','internet_service_type', 'payment_type',\\\n",
    "                              'multiple_lines', 'online_security', 'online_backup',\\\n",
    "                              'tech_support', 'streaming_tv', 'streaming_movies']],dummy_na=False, drop_first=True)"
   ]
  },
  {
   "cell_type": "code",
   "execution_count": 14,
   "id": "8d1d4429",
   "metadata": {},
   "outputs": [
    {
     "data": {
      "text/html": [
       "<div>\n",
       "<style scoped>\n",
       "    .dataframe tbody tr th:only-of-type {\n",
       "        vertical-align: middle;\n",
       "    }\n",
       "\n",
       "    .dataframe tbody tr th {\n",
       "        vertical-align: top;\n",
       "    }\n",
       "\n",
       "    .dataframe thead th {\n",
       "        text-align: right;\n",
       "    }\n",
       "</style>\n",
       "<table border=\"1\" class=\"dataframe\">\n",
       "  <thead>\n",
       "    <tr style=\"text-align: right;\">\n",
       "      <th></th>\n",
       "      <th>customer_id</th>\n",
       "      <th>gender</th>\n",
       "      <th>senior_citizen</th>\n",
       "      <th>partner</th>\n",
       "      <th>dependents</th>\n",
       "      <th>tenure</th>\n",
       "      <th>phone_service</th>\n",
       "      <th>multiple_lines</th>\n",
       "      <th>online_security</th>\n",
       "      <th>online_backup</th>\n",
       "      <th>...</th>\n",
       "      <th>online_security_No internet service</th>\n",
       "      <th>online_security_Yes</th>\n",
       "      <th>online_backup_No internet service</th>\n",
       "      <th>online_backup_Yes</th>\n",
       "      <th>tech_support_No internet service</th>\n",
       "      <th>tech_support_Yes</th>\n",
       "      <th>streaming_tv_No internet service</th>\n",
       "      <th>streaming_tv_Yes</th>\n",
       "      <th>streaming_movies_No internet service</th>\n",
       "      <th>streaming_movies_Yes</th>\n",
       "    </tr>\n",
       "  </thead>\n",
       "  <tbody>\n",
       "    <tr>\n",
       "      <th>0</th>\n",
       "      <td>0002-ORFBO</td>\n",
       "      <td>Female</td>\n",
       "      <td>0</td>\n",
       "      <td>Yes</td>\n",
       "      <td>Yes</td>\n",
       "      <td>9</td>\n",
       "      <td>Yes</td>\n",
       "      <td>No</td>\n",
       "      <td>No</td>\n",
       "      <td>Yes</td>\n",
       "      <td>...</td>\n",
       "      <td>0</td>\n",
       "      <td>0</td>\n",
       "      <td>0</td>\n",
       "      <td>1</td>\n",
       "      <td>0</td>\n",
       "      <td>1</td>\n",
       "      <td>0</td>\n",
       "      <td>1</td>\n",
       "      <td>0</td>\n",
       "      <td>0</td>\n",
       "    </tr>\n",
       "    <tr>\n",
       "      <th>1</th>\n",
       "      <td>0003-MKNFE</td>\n",
       "      <td>Male</td>\n",
       "      <td>0</td>\n",
       "      <td>No</td>\n",
       "      <td>No</td>\n",
       "      <td>9</td>\n",
       "      <td>Yes</td>\n",
       "      <td>Yes</td>\n",
       "      <td>No</td>\n",
       "      <td>No</td>\n",
       "      <td>...</td>\n",
       "      <td>0</td>\n",
       "      <td>0</td>\n",
       "      <td>0</td>\n",
       "      <td>0</td>\n",
       "      <td>0</td>\n",
       "      <td>0</td>\n",
       "      <td>0</td>\n",
       "      <td>0</td>\n",
       "      <td>0</td>\n",
       "      <td>1</td>\n",
       "    </tr>\n",
       "    <tr>\n",
       "      <th>2</th>\n",
       "      <td>0004-TLHLJ</td>\n",
       "      <td>Male</td>\n",
       "      <td>0</td>\n",
       "      <td>No</td>\n",
       "      <td>No</td>\n",
       "      <td>4</td>\n",
       "      <td>Yes</td>\n",
       "      <td>No</td>\n",
       "      <td>No</td>\n",
       "      <td>No</td>\n",
       "      <td>...</td>\n",
       "      <td>0</td>\n",
       "      <td>0</td>\n",
       "      <td>0</td>\n",
       "      <td>0</td>\n",
       "      <td>0</td>\n",
       "      <td>0</td>\n",
       "      <td>0</td>\n",
       "      <td>0</td>\n",
       "      <td>0</td>\n",
       "      <td>0</td>\n",
       "    </tr>\n",
       "    <tr>\n",
       "      <th>3</th>\n",
       "      <td>0011-IGKFF</td>\n",
       "      <td>Male</td>\n",
       "      <td>1</td>\n",
       "      <td>Yes</td>\n",
       "      <td>No</td>\n",
       "      <td>13</td>\n",
       "      <td>Yes</td>\n",
       "      <td>No</td>\n",
       "      <td>No</td>\n",
       "      <td>Yes</td>\n",
       "      <td>...</td>\n",
       "      <td>0</td>\n",
       "      <td>0</td>\n",
       "      <td>0</td>\n",
       "      <td>1</td>\n",
       "      <td>0</td>\n",
       "      <td>0</td>\n",
       "      <td>0</td>\n",
       "      <td>1</td>\n",
       "      <td>0</td>\n",
       "      <td>1</td>\n",
       "    </tr>\n",
       "    <tr>\n",
       "      <th>4</th>\n",
       "      <td>0013-EXCHZ</td>\n",
       "      <td>Female</td>\n",
       "      <td>1</td>\n",
       "      <td>Yes</td>\n",
       "      <td>No</td>\n",
       "      <td>3</td>\n",
       "      <td>Yes</td>\n",
       "      <td>No</td>\n",
       "      <td>No</td>\n",
       "      <td>No</td>\n",
       "      <td>...</td>\n",
       "      <td>0</td>\n",
       "      <td>0</td>\n",
       "      <td>0</td>\n",
       "      <td>0</td>\n",
       "      <td>0</td>\n",
       "      <td>1</td>\n",
       "      <td>0</td>\n",
       "      <td>1</td>\n",
       "      <td>0</td>\n",
       "      <td>0</td>\n",
       "    </tr>\n",
       "  </tbody>\n",
       "</table>\n",
       "<p>5 rows × 46 columns</p>\n",
       "</div>"
      ],
      "text/plain": [
       "  customer_id  gender  senior_citizen partner dependents  tenure  \\\n",
       "0  0002-ORFBO  Female               0     Yes        Yes       9   \n",
       "1  0003-MKNFE    Male               0      No         No       9   \n",
       "2  0004-TLHLJ    Male               0      No         No       4   \n",
       "3  0011-IGKFF    Male               1     Yes         No      13   \n",
       "4  0013-EXCHZ  Female               1     Yes         No       3   \n",
       "\n",
       "  phone_service multiple_lines online_security online_backup  ...  \\\n",
       "0           Yes             No              No           Yes  ...   \n",
       "1           Yes            Yes              No            No  ...   \n",
       "2           Yes             No              No            No  ...   \n",
       "3           Yes             No              No           Yes  ...   \n",
       "4           Yes             No              No            No  ...   \n",
       "\n",
       "  online_security_No internet service online_security_Yes  \\\n",
       "0                                   0                   0   \n",
       "1                                   0                   0   \n",
       "2                                   0                   0   \n",
       "3                                   0                   0   \n",
       "4                                   0                   0   \n",
       "\n",
       "  online_backup_No internet service online_backup_Yes  \\\n",
       "0                                 0                 1   \n",
       "1                                 0                 0   \n",
       "2                                 0                 0   \n",
       "3                                 0                 1   \n",
       "4                                 0                 0   \n",
       "\n",
       "  tech_support_No internet service  tech_support_Yes  \\\n",
       "0                                0                 1   \n",
       "1                                0                 0   \n",
       "2                                0                 0   \n",
       "3                                0                 0   \n",
       "4                                0                 1   \n",
       "\n",
       "   streaming_tv_No internet service streaming_tv_Yes  \\\n",
       "0                                 0                1   \n",
       "1                                 0                0   \n",
       "2                                 0                0   \n",
       "3                                 0                1   \n",
       "4                                 0                1   \n",
       "\n",
       "  streaming_movies_No internet service streaming_movies_Yes  \n",
       "0                                    0                    0  \n",
       "1                                    0                    1  \n",
       "2                                    0                    0  \n",
       "3                                    0                    1  \n",
       "4                                    0                    0  \n",
       "\n",
       "[5 rows x 46 columns]"
      ]
     },
     "execution_count": 14,
     "metadata": {},
     "output_type": "execute_result"
    }
   ],
   "source": [
    "df = pd.concat([df, dummy_df], axis=1)\n",
    "df.head()"
   ]
  },
  {
   "cell_type": "code",
   "execution_count": 15,
   "id": "f3befa16",
   "metadata": {},
   "outputs": [
    {
     "data": {
      "text/html": [
       "<div>\n",
       "<style scoped>\n",
       "    .dataframe tbody tr th:only-of-type {\n",
       "        vertical-align: middle;\n",
       "    }\n",
       "\n",
       "    .dataframe tbody tr th {\n",
       "        vertical-align: top;\n",
       "    }\n",
       "\n",
       "    .dataframe thead th {\n",
       "        text-align: right;\n",
       "    }\n",
       "</style>\n",
       "<table border=\"1\" class=\"dataframe\">\n",
       "  <thead>\n",
       "    <tr style=\"text-align: right;\">\n",
       "      <th></th>\n",
       "      <th>count</th>\n",
       "      <th>mean</th>\n",
       "      <th>std</th>\n",
       "      <th>min</th>\n",
       "      <th>25%</th>\n",
       "      <th>50%</th>\n",
       "      <th>75%</th>\n",
       "      <th>max</th>\n",
       "    </tr>\n",
       "  </thead>\n",
       "  <tbody>\n",
       "    <tr>\n",
       "      <th>senior_citizen</th>\n",
       "      <td>7032.0</td>\n",
       "      <td>0.162400</td>\n",
       "      <td>0.368844</td>\n",
       "      <td>0.00</td>\n",
       "      <td>0.0000</td>\n",
       "      <td>0.000</td>\n",
       "      <td>0.0000</td>\n",
       "      <td>1.00</td>\n",
       "    </tr>\n",
       "    <tr>\n",
       "      <th>tenure</th>\n",
       "      <td>7032.0</td>\n",
       "      <td>32.421786</td>\n",
       "      <td>24.545260</td>\n",
       "      <td>1.00</td>\n",
       "      <td>9.0000</td>\n",
       "      <td>29.000</td>\n",
       "      <td>55.0000</td>\n",
       "      <td>72.00</td>\n",
       "    </tr>\n",
       "    <tr>\n",
       "      <th>monthly_charges</th>\n",
       "      <td>7032.0</td>\n",
       "      <td>64.798208</td>\n",
       "      <td>30.085974</td>\n",
       "      <td>18.25</td>\n",
       "      <td>35.5875</td>\n",
       "      <td>70.350</td>\n",
       "      <td>89.8625</td>\n",
       "      <td>118.75</td>\n",
       "    </tr>\n",
       "    <tr>\n",
       "      <th>total_charges</th>\n",
       "      <td>7032.0</td>\n",
       "      <td>2283.300441</td>\n",
       "      <td>2266.771362</td>\n",
       "      <td>18.80</td>\n",
       "      <td>401.4500</td>\n",
       "      <td>1397.475</td>\n",
       "      <td>3794.7375</td>\n",
       "      <td>8684.80</td>\n",
       "    </tr>\n",
       "    <tr>\n",
       "      <th>is_female</th>\n",
       "      <td>7032.0</td>\n",
       "      <td>0.495307</td>\n",
       "      <td>0.500014</td>\n",
       "      <td>0.00</td>\n",
       "      <td>0.0000</td>\n",
       "      <td>0.000</td>\n",
       "      <td>1.0000</td>\n",
       "      <td>1.00</td>\n",
       "    </tr>\n",
       "    <tr>\n",
       "      <th>has_partner</th>\n",
       "      <td>7032.0</td>\n",
       "      <td>0.482509</td>\n",
       "      <td>0.499729</td>\n",
       "      <td>0.00</td>\n",
       "      <td>0.0000</td>\n",
       "      <td>0.000</td>\n",
       "      <td>1.0000</td>\n",
       "      <td>1.00</td>\n",
       "    </tr>\n",
       "    <tr>\n",
       "      <th>has_dependents</th>\n",
       "      <td>7032.0</td>\n",
       "      <td>0.298493</td>\n",
       "      <td>0.457629</td>\n",
       "      <td>0.00</td>\n",
       "      <td>0.0000</td>\n",
       "      <td>0.000</td>\n",
       "      <td>1.0000</td>\n",
       "      <td>1.00</td>\n",
       "    </tr>\n",
       "    <tr>\n",
       "      <th>has_phone_service</th>\n",
       "      <td>7032.0</td>\n",
       "      <td>0.903299</td>\n",
       "      <td>0.295571</td>\n",
       "      <td>0.00</td>\n",
       "      <td>1.0000</td>\n",
       "      <td>1.000</td>\n",
       "      <td>1.0000</td>\n",
       "      <td>1.00</td>\n",
       "    </tr>\n",
       "    <tr>\n",
       "      <th>has_paperless_billing</th>\n",
       "      <td>7032.0</td>\n",
       "      <td>0.592719</td>\n",
       "      <td>0.491363</td>\n",
       "      <td>0.00</td>\n",
       "      <td>0.0000</td>\n",
       "      <td>1.000</td>\n",
       "      <td>1.0000</td>\n",
       "      <td>1.00</td>\n",
       "    </tr>\n",
       "    <tr>\n",
       "      <th>has_churned</th>\n",
       "      <td>7032.0</td>\n",
       "      <td>0.265785</td>\n",
       "      <td>0.441782</td>\n",
       "      <td>0.00</td>\n",
       "      <td>0.0000</td>\n",
       "      <td>0.000</td>\n",
       "      <td>1.0000</td>\n",
       "      <td>1.00</td>\n",
       "    </tr>\n",
       "    <tr>\n",
       "      <th>contract_type_One year</th>\n",
       "      <td>7032.0</td>\n",
       "      <td>0.209329</td>\n",
       "      <td>0.406858</td>\n",
       "      <td>0.00</td>\n",
       "      <td>0.0000</td>\n",
       "      <td>0.000</td>\n",
       "      <td>0.0000</td>\n",
       "      <td>1.00</td>\n",
       "    </tr>\n",
       "    <tr>\n",
       "      <th>contract_type_Two year</th>\n",
       "      <td>7032.0</td>\n",
       "      <td>0.239619</td>\n",
       "      <td>0.426881</td>\n",
       "      <td>0.00</td>\n",
       "      <td>0.0000</td>\n",
       "      <td>0.000</td>\n",
       "      <td>0.0000</td>\n",
       "      <td>1.00</td>\n",
       "    </tr>\n",
       "    <tr>\n",
       "      <th>internet_service_type_Fiber optic</th>\n",
       "      <td>7032.0</td>\n",
       "      <td>0.440273</td>\n",
       "      <td>0.496455</td>\n",
       "      <td>0.00</td>\n",
       "      <td>0.0000</td>\n",
       "      <td>0.000</td>\n",
       "      <td>1.0000</td>\n",
       "      <td>1.00</td>\n",
       "    </tr>\n",
       "    <tr>\n",
       "      <th>internet_service_type_None</th>\n",
       "      <td>7032.0</td>\n",
       "      <td>0.216155</td>\n",
       "      <td>0.411650</td>\n",
       "      <td>0.00</td>\n",
       "      <td>0.0000</td>\n",
       "      <td>0.000</td>\n",
       "      <td>0.0000</td>\n",
       "      <td>1.00</td>\n",
       "    </tr>\n",
       "    <tr>\n",
       "      <th>payment_type_Credit card (automatic)</th>\n",
       "      <td>7032.0</td>\n",
       "      <td>0.216297</td>\n",
       "      <td>0.411748</td>\n",
       "      <td>0.00</td>\n",
       "      <td>0.0000</td>\n",
       "      <td>0.000</td>\n",
       "      <td>0.0000</td>\n",
       "      <td>1.00</td>\n",
       "    </tr>\n",
       "    <tr>\n",
       "      <th>payment_type_Electronic check</th>\n",
       "      <td>7032.0</td>\n",
       "      <td>0.336320</td>\n",
       "      <td>0.472483</td>\n",
       "      <td>0.00</td>\n",
       "      <td>0.0000</td>\n",
       "      <td>0.000</td>\n",
       "      <td>1.0000</td>\n",
       "      <td>1.00</td>\n",
       "    </tr>\n",
       "    <tr>\n",
       "      <th>payment_type_Mailed check</th>\n",
       "      <td>7032.0</td>\n",
       "      <td>0.228100</td>\n",
       "      <td>0.419637</td>\n",
       "      <td>0.00</td>\n",
       "      <td>0.0000</td>\n",
       "      <td>0.000</td>\n",
       "      <td>0.0000</td>\n",
       "      <td>1.00</td>\n",
       "    </tr>\n",
       "    <tr>\n",
       "      <th>multiple_lines_No phone service</th>\n",
       "      <td>7032.0</td>\n",
       "      <td>0.096701</td>\n",
       "      <td>0.295571</td>\n",
       "      <td>0.00</td>\n",
       "      <td>0.0000</td>\n",
       "      <td>0.000</td>\n",
       "      <td>0.0000</td>\n",
       "      <td>1.00</td>\n",
       "    </tr>\n",
       "    <tr>\n",
       "      <th>multiple_lines_Yes</th>\n",
       "      <td>7032.0</td>\n",
       "      <td>0.421928</td>\n",
       "      <td>0.493902</td>\n",
       "      <td>0.00</td>\n",
       "      <td>0.0000</td>\n",
       "      <td>0.000</td>\n",
       "      <td>1.0000</td>\n",
       "      <td>1.00</td>\n",
       "    </tr>\n",
       "    <tr>\n",
       "      <th>online_security_No internet service</th>\n",
       "      <td>7032.0</td>\n",
       "      <td>0.216155</td>\n",
       "      <td>0.411650</td>\n",
       "      <td>0.00</td>\n",
       "      <td>0.0000</td>\n",
       "      <td>0.000</td>\n",
       "      <td>0.0000</td>\n",
       "      <td>1.00</td>\n",
       "    </tr>\n",
       "    <tr>\n",
       "      <th>online_security_Yes</th>\n",
       "      <td>7032.0</td>\n",
       "      <td>0.286547</td>\n",
       "      <td>0.452180</td>\n",
       "      <td>0.00</td>\n",
       "      <td>0.0000</td>\n",
       "      <td>0.000</td>\n",
       "      <td>1.0000</td>\n",
       "      <td>1.00</td>\n",
       "    </tr>\n",
       "    <tr>\n",
       "      <th>online_backup_No internet service</th>\n",
       "      <td>7032.0</td>\n",
       "      <td>0.216155</td>\n",
       "      <td>0.411650</td>\n",
       "      <td>0.00</td>\n",
       "      <td>0.0000</td>\n",
       "      <td>0.000</td>\n",
       "      <td>0.0000</td>\n",
       "      <td>1.00</td>\n",
       "    </tr>\n",
       "    <tr>\n",
       "      <th>online_backup_Yes</th>\n",
       "      <td>7032.0</td>\n",
       "      <td>0.344852</td>\n",
       "      <td>0.475354</td>\n",
       "      <td>0.00</td>\n",
       "      <td>0.0000</td>\n",
       "      <td>0.000</td>\n",
       "      <td>1.0000</td>\n",
       "      <td>1.00</td>\n",
       "    </tr>\n",
       "    <tr>\n",
       "      <th>tech_support_No internet service</th>\n",
       "      <td>7032.0</td>\n",
       "      <td>0.216155</td>\n",
       "      <td>0.411650</td>\n",
       "      <td>0.00</td>\n",
       "      <td>0.0000</td>\n",
       "      <td>0.000</td>\n",
       "      <td>0.0000</td>\n",
       "      <td>1.00</td>\n",
       "    </tr>\n",
       "    <tr>\n",
       "      <th>tech_support_Yes</th>\n",
       "      <td>7032.0</td>\n",
       "      <td>0.290102</td>\n",
       "      <td>0.453842</td>\n",
       "      <td>0.00</td>\n",
       "      <td>0.0000</td>\n",
       "      <td>0.000</td>\n",
       "      <td>1.0000</td>\n",
       "      <td>1.00</td>\n",
       "    </tr>\n",
       "    <tr>\n",
       "      <th>streaming_tv_No internet service</th>\n",
       "      <td>7032.0</td>\n",
       "      <td>0.216155</td>\n",
       "      <td>0.411650</td>\n",
       "      <td>0.00</td>\n",
       "      <td>0.0000</td>\n",
       "      <td>0.000</td>\n",
       "      <td>0.0000</td>\n",
       "      <td>1.00</td>\n",
       "    </tr>\n",
       "    <tr>\n",
       "      <th>streaming_tv_Yes</th>\n",
       "      <td>7032.0</td>\n",
       "      <td>0.384386</td>\n",
       "      <td>0.486484</td>\n",
       "      <td>0.00</td>\n",
       "      <td>0.0000</td>\n",
       "      <td>0.000</td>\n",
       "      <td>1.0000</td>\n",
       "      <td>1.00</td>\n",
       "    </tr>\n",
       "    <tr>\n",
       "      <th>streaming_movies_No internet service</th>\n",
       "      <td>7032.0</td>\n",
       "      <td>0.216155</td>\n",
       "      <td>0.411650</td>\n",
       "      <td>0.00</td>\n",
       "      <td>0.0000</td>\n",
       "      <td>0.000</td>\n",
       "      <td>0.0000</td>\n",
       "      <td>1.00</td>\n",
       "    </tr>\n",
       "    <tr>\n",
       "      <th>streaming_movies_Yes</th>\n",
       "      <td>7032.0</td>\n",
       "      <td>0.388367</td>\n",
       "      <td>0.487414</td>\n",
       "      <td>0.00</td>\n",
       "      <td>0.0000</td>\n",
       "      <td>0.000</td>\n",
       "      <td>1.0000</td>\n",
       "      <td>1.00</td>\n",
       "    </tr>\n",
       "  </tbody>\n",
       "</table>\n",
       "</div>"
      ],
      "text/plain": [
       "                                       count         mean          std    min  \\\n",
       "senior_citizen                        7032.0     0.162400     0.368844   0.00   \n",
       "tenure                                7032.0    32.421786    24.545260   1.00   \n",
       "monthly_charges                       7032.0    64.798208    30.085974  18.25   \n",
       "total_charges                         7032.0  2283.300441  2266.771362  18.80   \n",
       "is_female                             7032.0     0.495307     0.500014   0.00   \n",
       "has_partner                           7032.0     0.482509     0.499729   0.00   \n",
       "has_dependents                        7032.0     0.298493     0.457629   0.00   \n",
       "has_phone_service                     7032.0     0.903299     0.295571   0.00   \n",
       "has_paperless_billing                 7032.0     0.592719     0.491363   0.00   \n",
       "has_churned                           7032.0     0.265785     0.441782   0.00   \n",
       "contract_type_One year                7032.0     0.209329     0.406858   0.00   \n",
       "contract_type_Two year                7032.0     0.239619     0.426881   0.00   \n",
       "internet_service_type_Fiber optic     7032.0     0.440273     0.496455   0.00   \n",
       "internet_service_type_None            7032.0     0.216155     0.411650   0.00   \n",
       "payment_type_Credit card (automatic)  7032.0     0.216297     0.411748   0.00   \n",
       "payment_type_Electronic check         7032.0     0.336320     0.472483   0.00   \n",
       "payment_type_Mailed check             7032.0     0.228100     0.419637   0.00   \n",
       "multiple_lines_No phone service       7032.0     0.096701     0.295571   0.00   \n",
       "multiple_lines_Yes                    7032.0     0.421928     0.493902   0.00   \n",
       "online_security_No internet service   7032.0     0.216155     0.411650   0.00   \n",
       "online_security_Yes                   7032.0     0.286547     0.452180   0.00   \n",
       "online_backup_No internet service     7032.0     0.216155     0.411650   0.00   \n",
       "online_backup_Yes                     7032.0     0.344852     0.475354   0.00   \n",
       "tech_support_No internet service      7032.0     0.216155     0.411650   0.00   \n",
       "tech_support_Yes                      7032.0     0.290102     0.453842   0.00   \n",
       "streaming_tv_No internet service      7032.0     0.216155     0.411650   0.00   \n",
       "streaming_tv_Yes                      7032.0     0.384386     0.486484   0.00   \n",
       "streaming_movies_No internet service  7032.0     0.216155     0.411650   0.00   \n",
       "streaming_movies_Yes                  7032.0     0.388367     0.487414   0.00   \n",
       "\n",
       "                                           25%       50%        75%      max  \n",
       "senior_citizen                          0.0000     0.000     0.0000     1.00  \n",
       "tenure                                  9.0000    29.000    55.0000    72.00  \n",
       "monthly_charges                        35.5875    70.350    89.8625   118.75  \n",
       "total_charges                         401.4500  1397.475  3794.7375  8684.80  \n",
       "is_female                               0.0000     0.000     1.0000     1.00  \n",
       "has_partner                             0.0000     0.000     1.0000     1.00  \n",
       "has_dependents                          0.0000     0.000     1.0000     1.00  \n",
       "has_phone_service                       1.0000     1.000     1.0000     1.00  \n",
       "has_paperless_billing                   0.0000     1.000     1.0000     1.00  \n",
       "has_churned                             0.0000     0.000     1.0000     1.00  \n",
       "contract_type_One year                  0.0000     0.000     0.0000     1.00  \n",
       "contract_type_Two year                  0.0000     0.000     0.0000     1.00  \n",
       "internet_service_type_Fiber optic       0.0000     0.000     1.0000     1.00  \n",
       "internet_service_type_None              0.0000     0.000     0.0000     1.00  \n",
       "payment_type_Credit card (automatic)    0.0000     0.000     0.0000     1.00  \n",
       "payment_type_Electronic check           0.0000     0.000     1.0000     1.00  \n",
       "payment_type_Mailed check               0.0000     0.000     0.0000     1.00  \n",
       "multiple_lines_No phone service         0.0000     0.000     0.0000     1.00  \n",
       "multiple_lines_Yes                      0.0000     0.000     1.0000     1.00  \n",
       "online_security_No internet service     0.0000     0.000     0.0000     1.00  \n",
       "online_security_Yes                     0.0000     0.000     1.0000     1.00  \n",
       "online_backup_No internet service       0.0000     0.000     0.0000     1.00  \n",
       "online_backup_Yes                       0.0000     0.000     1.0000     1.00  \n",
       "tech_support_No internet service        0.0000     0.000     0.0000     1.00  \n",
       "tech_support_Yes                        0.0000     0.000     1.0000     1.00  \n",
       "streaming_tv_No internet service        0.0000     0.000     0.0000     1.00  \n",
       "streaming_tv_Yes                        0.0000     0.000     1.0000     1.00  \n",
       "streaming_movies_No internet service    0.0000     0.000     0.0000     1.00  \n",
       "streaming_movies_Yes                    0.0000     0.000     1.0000     1.00  "
      ]
     },
     "execution_count": 15,
     "metadata": {},
     "output_type": "execute_result"
    }
   ],
   "source": [
    "df.describe().T"
   ]
  },
  {
   "cell_type": "code",
   "execution_count": 16,
   "id": "ff2c4db9",
   "metadata": {},
   "outputs": [],
   "source": [
    "train_validate, test = train_test_split(df, test_size=.2, \n",
    "                                        random_state=123, \n",
    "                                        stratify=df.churn)\n",
    "train, validate = train_test_split(train_validate, test_size=.3, \n",
    "                                   random_state=123, \n",
    "                                   stratify=train_validate.churn)\n"
   ]
  },
  {
   "cell_type": "code",
   "execution_count": 17,
   "id": "7e27081b",
   "metadata": {},
   "outputs": [
    {
     "data": {
      "text/plain": [
       "((3937, 46), (1688, 46), (1407, 46))"
      ]
     },
     "execution_count": 17,
     "metadata": {},
     "output_type": "execute_result"
    }
   ],
   "source": [
    "train.shape, validate.shape, test.shape"
   ]
  },
  {
   "cell_type": "code",
   "execution_count": 18,
   "id": "5940ef5a",
   "metadata": {},
   "outputs": [
    {
     "data": {
      "text/plain": [
       "(No     0.734315\n",
       " Yes    0.265685\n",
       " Name: churn, dtype: float64,\n",
       " No     0.734005\n",
       " Yes    0.265995\n",
       " Name: churn, dtype: float64,\n",
       " No     0.734186\n",
       " Yes    0.265814\n",
       " Name: churn, dtype: float64)"
      ]
     },
     "execution_count": 18,
     "metadata": {},
     "output_type": "execute_result"
    }
   ],
   "source": [
    "# confirm data was stratified\n",
    "train.churn.value_counts(normalize=True), validate.churn.value_counts(normalize=True), test.churn.value_counts(normalize=True)"
   ]
  },
  {
   "cell_type": "code",
   "execution_count": 19,
   "id": "8dbccf76",
   "metadata": {},
   "outputs": [
    {
     "ename": "SyntaxError",
     "evalue": "invalid syntax (2683637750.py, line 21)",
     "output_type": "error",
     "traceback": [
      "\u001b[0;36m  File \u001b[0;32m\"/var/folders/09/fk3d1qyj46g4t3qj46nfxzvw0000gn/T/ipykernel_2451/2683637750.py\"\u001b[0;36m, line \u001b[0;32m21\u001b[0m\n\u001b[0;31m    'tech_support', 'streaming_tv', 'streaming_movies']],dummy_na=False, drop_first=True)dummy_df = pd.get_dummies(df[['contract_type','internet_service_type', 'payment_type']],dummy_na=False, drop_first=True)\u001b[0m\n\u001b[0m                                                                                         ^\u001b[0m\n\u001b[0;31mSyntaxError\u001b[0m\u001b[0;31m:\u001b[0m invalid syntax\n"
     ]
    }
   ],
   "source": [
    "def clean_telco_data(df):\n",
    "    # replace empty cells with nulls\n",
    "    df = df.replace(' ', np.nan)\n",
    "    # drop 11 nulls from total_charges\n",
    "    df.dropna(inplace=True)\n",
    "    # change total_charges to float\n",
    "    df['total_charges'] = pd.to_numeric(df['total_charges'])\n",
    "    # drop unnecessary columns\n",
    "    df = df.drop(columns=['Unnamed: 0', 'payment_type_id', 'internet_service_type_id', 'contract_type_id'])\n",
    "    # convert categorical columns to boolean\n",
    "    df['is_female'] = df['gender'].map({'Female': 1, 'Male': 0})\n",
    "    df['has_partner'] = df['partner'].map({'Yes': 1, 'No': 0})\n",
    "    df['has_dependents'] = df['dependents'].map({'Yes': 1, 'No': 0})\n",
    "    df['has_phone_service'] = df['phone_service'].map({'Yes': 1, 'No': 0})\n",
    "    df['has_paperless_billing'] = df['paperless_billing'].map({'Yes': 1, 'No': 0})\n",
    "    df['has_churned'] = df['churn'].map({'Yes': 1, 'No': 0})\n",
    "    \n",
    "    # encode categorical columns \n",
    "    dummy_df = pd.get_dummies(df[['contract_type','internet_service_type', 'payment_type',\\\n",
    "                              'multiple_lines', 'online_security', 'online_backup',\\\n",
    "                              'tech_support', 'streaming_tv', 'streaming_movies']],dummy_na=False, drop_first=True)dummy_df = pd.get_dummies(df[['contract_type','internet_service_type', 'payment_type']],dummy_na=False, drop_first=True)\n",
    "    #combine dataframes\n",
    "    df = pd.concat([df, dummy_df], axis=1)\n",
    "    \n",
    "    return df\n",
    "    \n"
   ]
  },
  {
   "cell_type": "code",
   "execution_count": null,
   "id": "c86a9bbe",
   "metadata": {},
   "outputs": [],
   "source": [
    "def prep_telco_data(df):\n",
    "    df = clean_titanic_data(df)\n",
    "    train_validate, test = train_test_split(df, test_size=.2, \n",
    "                                        random_state=123, \n",
    "                                        stratify=df.churn)\n",
    "    train, validate = train_test_split(train_validate, test_size=.3, \n",
    "                                   random_state=123, \n",
    "                                   stratify=train_validate.churn)\n",
    "    \n",
    "    return train, validate, test\n",
    "    "
   ]
  },
  {
   "cell_type": "markdown",
   "id": "a328d588",
   "metadata": {},
   "source": [
    "## Explore\n",
    "    "
   ]
  },
  {
   "cell_type": "code",
   "execution_count": 33,
   "id": "2b119317",
   "metadata": {},
   "outputs": [
    {
     "data": {
      "text/plain": [
       "No     2891\n",
       "Yes    1046\n",
       "Name: churn, dtype: int64"
      ]
     },
     "execution_count": 33,
     "metadata": {},
     "output_type": "execute_result"
    }
   ],
   "source": [
    "train.churn.value_counts()"
   ]
  },
  {
   "cell_type": "code",
   "execution_count": 34,
   "id": "1cffce84",
   "metadata": {},
   "outputs": [
    {
     "data": {
      "text/plain": [
       "<AxesSubplot:>"
      ]
     },
     "execution_count": 34,
     "metadata": {},
     "output_type": "execute_result"
    },
    {
     "data": {
      "image/png": "[encoded data removed]",
      "text/plain": [
       "<Figure size 432x288 with 1 Axes>"
      ]
     },
     "metadata": {
      "needs_background": "light"
     },
     "output_type": "display_data"
    }
   ],
   "source": [
    "train.churn.hist()"
   ]
  },
  {
   "cell_type": "code",
   "execution_count": 35,
   "id": "342954fb",
   "metadata": {},
   "outputs": [
    {
     "data": {
      "text/plain": [
       "<AxesSubplot:xlabel='gender', ylabel='has_churned'>"
      ]
     },
     "execution_count": 35,
     "metadata": {},
     "output_type": "execute_result"
    },
    {
     "data": {
      "image/png": "[encoded data removed]",
      "text/plain": [
       "<Figure size 432x288 with 1 Axes>"
      ]
     },
     "metadata": {
      "needs_background": "light"
     },
     "output_type": "display_data"
    }
   ],
   "source": [
    "sns.barplot(data=train, x = 'gender', y = 'has_churned')"
   ]
  },
  {
   "cell_type": "markdown",
   "id": "2160d188",
   "metadata": {},
   "source": [
    "Gender does not appear to affect churn."
   ]
  },
  {
   "cell_type": "code",
   "execution_count": 36,
   "id": "e28a04bb",
   "metadata": {
    "scrolled": true
   },
   "outputs": [
    {
     "data": {
      "text/plain": [
       "<AxesSubplot:xlabel='churn', ylabel='monthly_charges'>"
      ]
     },
     "execution_count": 36,
     "metadata": {},
     "output_type": "execute_result"
    },
    {
     "data": {
      "image/png": "[encoded data removed]",
      "text/plain": [
       "<Figure size 432x288 with 1 Axes>"
      ]
     },
     "metadata": {
      "needs_background": "light"
     },
     "output_type": "display_data"
    }
   ],
   "source": [
    "sns.barplot(data=train, y='monthly_charges', x='churn')"
   ]
  },
  {
   "cell_type": "code",
   "execution_count": 37,
   "id": "da98048f",
   "metadata": {},
   "outputs": [
    {
     "data": {
      "text/plain": [
       "<AxesSubplot:xlabel='churn', ylabel='monthly_charges'>"
      ]
     },
     "execution_count": 37,
     "metadata": {},
     "output_type": "execute_result"
    },
    {
     "data": {
      "image/png": "[encoded data removed]",
      "text/plain": [
       "<Figure size 432x288 with 1 Axes>"
      ]
     },
     "metadata": {
      "needs_background": "light"
     },
     "output_type": "display_data"
    }
   ],
   "source": [
    "sns.boxplot(data=train,  y='monthly_charges', x='churn')"
   ]
  },
  {
   "cell_type": "markdown",
   "id": "403c2f69",
   "metadata": {},
   "source": [
    "Those that churn have, on average, higher monthly bills."
   ]
  },
  {
   "cell_type": "code",
   "execution_count": 38,
   "id": "dbd3c42f",
   "metadata": {},
   "outputs": [
    {
     "data": {
      "text/plain": [
       "<AxesSubplot:xlabel='contract_type', ylabel='count'>"
      ]
     },
     "execution_count": 38,
     "metadata": {},
     "output_type": "execute_result"
    },
    {
     "data": {
      "image/png": "[encoded data removed]",
      "text/plain": [
       "<Figure size 432x288 with 1 Axes>"
      ]
     },
     "metadata": {
      "needs_background": "light"
     },
     "output_type": "display_data"
    }
   ],
   "source": [
    "sns.countplot(data=train, x='contract_type', hue='churn')"
   ]
  },
  {
   "cell_type": "markdown",
   "id": "01505601",
   "metadata": {},
   "source": [
    "Customers with month-to-month contracts are more likely to churn."
   ]
  },
  {
   "cell_type": "code",
   "execution_count": 39,
   "id": "54714679",
   "metadata": {},
   "outputs": [
    {
     "data": {
      "text/plain": [
       "<AxesSubplot:xlabel='senior_citizen', ylabel='count'>"
      ]
     },
     "execution_count": 39,
     "metadata": {},
     "output_type": "execute_result"
    },
    {
     "data": {
      "image/png": "[encoded data removed]",
      "text/plain": [
       "<Figure size 432x288 with 1 Axes>"
      ]
     },
     "metadata": {
      "needs_background": "light"
     },
     "output_type": "display_data"
    }
   ],
   "source": [
    "sns.countplot(data=train, x='senior_citizen', hue ='churn')"
   ]
  },
  {
   "cell_type": "markdown",
   "id": "086631c8",
   "metadata": {},
   "source": [
    "Senior citizens are more likely to churn."
   ]
  },
  {
   "cell_type": "code",
   "execution_count": 40,
   "id": "0773b880",
   "metadata": {},
   "outputs": [
    {
     "data": {
      "text/plain": [
       "<AxesSubplot:xlabel='dependents', ylabel='count'>"
      ]
     },
     "execution_count": 40,
     "metadata": {},
     "output_type": "execute_result"
    },
    {
     "data": {
      "image/png": "[encoded data removed]",
      "text/plain": [
       "<Figure size 432x288 with 1 Axes>"
      ]
     },
     "metadata": {
      "needs_background": "light"
     },
     "output_type": "display_data"
    }
   ],
   "source": [
    "sns.countplot(data=train, x='dependents', hue ='churn')"
   ]
  },
  {
   "cell_type": "markdown",
   "id": "e4f752fd",
   "metadata": {},
   "source": [
    "Customers without dependents are more likely to churn."
   ]
  },
  {
   "cell_type": "code",
   "execution_count": 41,
   "id": "7f2cd38a",
   "metadata": {},
   "outputs": [
    {
     "data": {
      "text/plain": [
       "<AxesSubplot:xlabel='partner', ylabel='count'>"
      ]
     },
     "execution_count": 41,
     "metadata": {},
     "output_type": "execute_result"
    },
    {
     "data": {
      "image/png": "[encoded data removed]",
      "text/plain": [
       "<Figure size 432x288 with 1 Axes>"
      ]
     },
     "metadata": {
      "needs_background": "light"
     },
     "output_type": "display_data"
    }
   ],
   "source": [
    "sns.countplot(data=train, x='partner', hue ='churn')"
   ]
  },
  {
   "cell_type": "markdown",
   "id": "a37c9875",
   "metadata": {},
   "source": [
    "Customers without partners are more likely to churn."
   ]
  },
  {
   "cell_type": "code",
   "execution_count": 42,
   "id": "247b8d54",
   "metadata": {},
   "outputs": [
    {
     "data": {
      "text/plain": [
       "<AxesSubplot:xlabel='churn', ylabel='count'>"
      ]
     },
     "execution_count": 42,
     "metadata": {},
     "output_type": "execute_result"
    },
    {
     "data": {
      "image/png": "[encoded data removed]",
      "text/plain": [
       "<Figure size 432x288 with 1 Axes>"
      ]
     },
     "metadata": {
      "needs_background": "light"
     },
     "output_type": "display_data"
    }
   ],
   "source": [
    "sns.countplot(data=train, x='churn', hue ='phone_service')"
   ]
  },
  {
   "cell_type": "markdown",
   "id": "ad3a3e62",
   "metadata": {},
   "source": [
    "Phone service does not appear to be a predictor of churn."
   ]
  },
  {
   "cell_type": "code",
   "execution_count": 43,
   "id": "0186f33f",
   "metadata": {},
   "outputs": [
    {
     "data": {
      "text/plain": [
       "<AxesSubplot:xlabel='churn', ylabel='count'>"
      ]
     },
     "execution_count": 43,
     "metadata": {},
     "output_type": "execute_result"
    },
    {
     "data": {
      "image/png": "[encoded data removed]",
      "text/plain": [
       "<Figure size 432x288 with 1 Axes>"
      ]
     },
     "metadata": {
      "needs_background": "light"
     },
     "output_type": "display_data"
    }
   ],
   "source": [
    "sns.countplot(data=train, x='churn', hue ='multiple_lines')"
   ]
  },
  {
   "cell_type": "markdown",
   "id": "ddce9e56",
   "metadata": {},
   "source": [
    "Having multiples lines does not appear to be a predictor of churn."
   ]
  },
  {
   "cell_type": "code",
   "execution_count": 44,
   "id": "8ddfeae9",
   "metadata": {},
   "outputs": [
    {
     "data": {
      "text/plain": [
       "<AxesSubplot:xlabel='churn', ylabel='count'>"
      ]
     },
     "execution_count": 44,
     "metadata": {},
     "output_type": "execute_result"
    },
    {
     "data": {
      "image/png": "[encoded data removed]",
      "text/plain": [
       "<Figure size 432x288 with 1 Axes>"
      ]
     },
     "metadata": {
      "needs_background": "light"
     },
     "output_type": "display_data"
    }
   ],
   "source": [
    "sns.countplot(data=train, x='churn', hue ='internet_service_type')"
   ]
  },
  {
   "cell_type": "markdown",
   "id": "0c86f1c0",
   "metadata": {},
   "source": [
    "Those with Fiber optic internet are more likely to churn."
   ]
  },
  {
   "cell_type": "code",
   "execution_count": 45,
   "id": "4a8f92aa",
   "metadata": {},
   "outputs": [
    {
     "data": {
      "text/plain": [
       "<AxesSubplot:xlabel='churn', ylabel='count'>"
      ]
     },
     "execution_count": 45,
     "metadata": {},
     "output_type": "execute_result"
    },
    {
     "data": {
      "image/png": "[encoded data removed]",
      "text/plain": [
       "<Figure size 432x288 with 1 Axes>"
      ]
     },
     "metadata": {
      "needs_background": "light"
     },
     "output_type": "display_data"
    }
   ],
   "source": [
    "sns.countplot(data=train, x='churn', hue ='payment_type')"
   ]
  },
  {
   "cell_type": "markdown",
   "id": "734e1036",
   "metadata": {},
   "source": [
    "Customers that pay with electronic check are more likely to churn."
   ]
  },
  {
   "cell_type": "code",
   "execution_count": 46,
   "id": "856ace42",
   "metadata": {},
   "outputs": [
    {
     "data": {
      "text/plain": [
       "Text(0.5, 1.0, 'Customers without online security are more likely to churn')"
      ]
     },
     "execution_count": 46,
     "metadata": {},
     "output_type": "execute_result"
    },
    {
     "data": {
      "image/png": "[encoded data removed]",
      "text/plain": [
       "<Figure size 432x288 with 1 Axes>"
      ]
     },
     "metadata": {
      "needs_background": "light"
     },
     "output_type": "display_data"
    }
   ],
   "source": [
    "# explore add-on services\n",
    "sns.countplot(data=train, x='churn', hue ='online_security')\n",
    "plt.title('Customers without online security are more likely to churn')"
   ]
  },
  {
   "cell_type": "markdown",
   "id": "b5cd902d",
   "metadata": {},
   "source": [
    "Customers without online security are more likely to churn."
   ]
  },
  {
   "cell_type": "code",
   "execution_count": 47,
   "id": "196b431f",
   "metadata": {},
   "outputs": [
    {
     "data": {
      "text/plain": [
       "<AxesSubplot:xlabel='churn', ylabel='count'>"
      ]
     },
     "execution_count": 47,
     "metadata": {},
     "output_type": "execute_result"
    },
    {
     "data": {
      "image/png": "[encoded data removed]",
      "text/plain": [
       "<Figure size 432x288 with 1 Axes>"
      ]
     },
     "metadata": {
      "needs_background": "light"
     },
     "output_type": "display_data"
    }
   ],
   "source": [
    "sns.countplot(data=train, x='churn', hue ='tech_support')"
   ]
  },
  {
   "cell_type": "markdown",
   "id": "b80b31ad",
   "metadata": {},
   "source": [
    "Customers without tech support are more likely to churn."
   ]
  },
  {
   "cell_type": "code",
   "execution_count": 48,
   "id": "9d20b9ba",
   "metadata": {},
   "outputs": [
    {
     "data": {
      "text/plain": [
       "<AxesSubplot:xlabel='churn', ylabel='count'>"
      ]
     },
     "execution_count": 48,
     "metadata": {},
     "output_type": "execute_result"
    },
    {
     "data": {
      "image/png": "[encoded data removed]",
      "text/plain": [
       "<Figure size 432x288 with 1 Axes>"
      ]
     },
     "metadata": {
      "needs_background": "light"
     },
     "output_type": "display_data"
    }
   ],
   "source": [
    "sns.countplot(data=train, x='churn', hue ='online_backup')"
   ]
  },
  {
   "cell_type": "code",
   "execution_count": 67,
   "id": "4a69c3fd",
   "metadata": {},
   "outputs": [
    {
     "data": {
      "text/plain": [
       "<AxesSubplot:xlabel='churn', ylabel='count'>"
      ]
     },
     "execution_count": 67,
     "metadata": {},
     "output_type": "execute_result"
    },
    {
     "data": {
      "image/png": "[encoded data removed]",
      "text/plain": [
       "<Figure size 864x360 with 3 Axes>"
      ]
     },
     "metadata": {
      "needs_background": "light"
     },
     "output_type": "display_data"
    }
   ],
   "source": [
    "fig, axes = plt.subplots(1, 3)\n",
    "fig.set_size_inches(12, 5)\n",
    "#create chart in each subplot\n",
    "sns.countplot(data=train, x='churn', hue ='online_security',ax=axes[0])\n",
    "sns.countplot(data=train, x='churn', hue ='tech_support',ax=axes[1])\n",
    "sns.countplot(data=train, x='churn', hue ='online_backup',ax=axes[2])\n",
    "plt.title('Customers ')"
   ]
  },
  {
   "cell_type": "markdown",
   "id": "85ce4c2b",
   "metadata": {},
   "source": [
    "Customers without online backup are more likely to churn."
   ]
  },
  {
   "cell_type": "code",
   "execution_count": null,
   "id": "6e991c13",
   "metadata": {},
   "outputs": [],
   "source": [
    "sns.countplot(data=train, x='churn', hue ='streaming_tv')"
   ]
  },
  {
   "cell_type": "code",
   "execution_count": null,
   "id": "8983cf2b",
   "metadata": {},
   "outputs": [],
   "source": [
    "(train[train.churn == 'Yes'].streaming_tv == 'No').value_counts(normalize=True)"
   ]
  },
  {
   "cell_type": "markdown",
   "id": "2237d06c",
   "metadata": {},
   "source": [
    "Customers without streaming tv are more likely to churn."
   ]
  },
  {
   "cell_type": "code",
   "execution_count": null,
   "id": "8498c8bd",
   "metadata": {},
   "outputs": [],
   "source": [
    "sns.countplot(data=train, x='churn', hue ='streaming_movies')"
   ]
  },
  {
   "cell_type": "markdown",
   "id": "83ceb29b",
   "metadata": {},
   "source": [
    "Customers without streaming movies are more likely to churn."
   ]
  },
  {
   "cell_type": "markdown",
   "id": "3f496252",
   "metadata": {},
   "source": [
    "## Hypothesis Testing"
   ]
  },
  {
   "cell_type": "markdown",
   "id": "dc08ab6c",
   "metadata": {},
   "source": [
    "### T -Test"
   ]
  },
  {
   "cell_type": "code",
   "execution_count": null,
   "id": "1096c4c9",
   "metadata": {},
   "outputs": [],
   "source": [
    "train.monthly_charges.hist()"
   ]
  },
  {
   "cell_type": "code",
   "execution_count": null,
   "id": "347ad07d",
   "metadata": {},
   "outputs": [],
   "source": [
    "churned = train[train.churn == 'Yes'].monthly_charges\n",
    "\n",
    "churned.hist()\n"
   ]
  },
  {
   "cell_type": "markdown",
   "id": "fc5e4f69",
   "metadata": {},
   "source": [
    "Null hypothesis: The mean of monthly charges of churned customers <= the mean of monthly charges of all customers\n",
    "\n",
    "Alternative hypothesis: The meean of monthly charges of churned customers > the mean of monthly charges of all customers"
   ]
  },
  {
   "cell_type": "code",
   "execution_count": null,
   "id": "aa0b14e1",
   "metadata": {},
   "outputs": [],
   "source": [
    "churned = train[train.churn == 'Yes'].monthly_charges\n",
    "pop_mean = train.monthly_charges.mean()\n",
    "\n",
    "t, p = stats.ttest_1samp(churned, pop_mean)\n",
    "\n",
    "t,p\n"
   ]
  },
  {
   "cell_type": "code",
   "execution_count": null,
   "id": "a2fcb201",
   "metadata": {},
   "outputs": [],
   "source": [
    "if p/2 > alpha:\n",
    "    print(\"Fail to reject the null\")\n",
    "elif t < 0:\n",
    "    print(\"Fail to reject the null\")\n",
    "else:\n",
    "    print(\"Reject the null\")"
   ]
  },
  {
   "cell_type": "markdown",
   "id": "efe31a1b",
   "metadata": {},
   "source": [
    "Null hypothesis: The mean of the tenure of churned customers >= the mean of the tenure of all customers\n",
    "\n",
    "Alternative hypothesis: The mean of the tenure of churned customers < the mean of the tenure of all customers"
   ]
  },
  {
   "cell_type": "code",
   "execution_count": null,
   "id": "944d93a6",
   "metadata": {},
   "outputs": [],
   "source": [
    "churned = train[train.churn == 'Yes'].tenure\n",
    "pop_mean = train.tenure.mean()\n",
    "\n",
    "t, p = stats.ttest_1samp(churned, pop_mean)\n",
    "\n",
    "t,p\n"
   ]
  },
  {
   "cell_type": "code",
   "execution_count": null,
   "id": "7ef8be8e",
   "metadata": {},
   "outputs": [],
   "source": [
    "if p/2 > alpha:\n",
    "    print(\"Fail to reject the null\")\n",
    "elif t > 0:\n",
    "    print(\"Fail to reject the null\")\n",
    "else:\n",
    "    print(\"Reject the null\")"
   ]
  },
  {
   "cell_type": "markdown",
   "id": "9253392a",
   "metadata": {},
   "source": [
    "### Chi- Squared"
   ]
  },
  {
   "cell_type": "markdown",
   "id": "62fb1aff",
   "metadata": {},
   "source": [
    "Null Hypothesis: Churn and being a senior citizen are independent.\n",
    "\n",
    "Alternative Hypothesis: Churn and being a senior citizen are dependent."
   ]
  },
  {
   "cell_type": "code",
   "execution_count": null,
   "id": "1717e304",
   "metadata": {},
   "outputs": [],
   "source": [
    "observed = pd.crosstab(train.senior_citizen, train.churn)"
   ]
  },
  {
   "cell_type": "code",
   "execution_count": null,
   "id": "b27c2017",
   "metadata": {},
   "outputs": [],
   "source": [
    "chi2, p, degf, expected = stats.chi2_contingency(observed)\n",
    "p"
   ]
  },
  {
   "cell_type": "code",
   "execution_count": null,
   "id": "fb2ce799",
   "metadata": {},
   "outputs": [],
   "source": [
    "if p < alpha:\n",
    "    print(\"Reject the null hypothesis\")\n",
    "else:\n",
    "    print(\"Fail to reject the null\")"
   ]
  },
  {
   "cell_type": "markdown",
   "id": "1f8b4767",
   "metadata": {},
   "source": [
    "Null Hypothesis: Churn and having dependents are independent.\n",
    "\n",
    "Alternative Hypothesis: Churn and having dependents are dependent."
   ]
  },
  {
   "cell_type": "code",
   "execution_count": null,
   "id": "b67c09e7",
   "metadata": {},
   "outputs": [],
   "source": [
    "observed = pd.crosstab(train.dependents, train.churn)\n",
    "observed"
   ]
  },
  {
   "cell_type": "code",
   "execution_count": null,
   "id": "3f2f426b",
   "metadata": {},
   "outputs": [],
   "source": [
    "chi2, p, degf, expected = stats.chi2_contingency(observed)\n",
    "p"
   ]
  },
  {
   "cell_type": "code",
   "execution_count": null,
   "id": "2f3703c8",
   "metadata": {},
   "outputs": [],
   "source": [
    "if p < alpha:\n",
    "    print(\"Reject the null hypothesis\")\n",
    "else:\n",
    "    print(\"Fail to reject the null\")"
   ]
  },
  {
   "cell_type": "markdown",
   "id": "18913056",
   "metadata": {},
   "source": [
    "Null Hypothesis: Churn and having a partner are independent.\n",
    "\n",
    "Alternative Hypothesis: Churn and having a partner are dependent."
   ]
  },
  {
   "cell_type": "code",
   "execution_count": null,
   "id": "c2369169",
   "metadata": {},
   "outputs": [],
   "source": [
    "observed = pd.crosstab(train.partner, train.churn)\n",
    "observed"
   ]
  },
  {
   "cell_type": "code",
   "execution_count": null,
   "id": "7c37024a",
   "metadata": {},
   "outputs": [],
   "source": [
    "chi2, p, degf, expected = stats.chi2_contingency(observed)\n",
    "p"
   ]
  },
  {
   "cell_type": "code",
   "execution_count": null,
   "id": "bca66671",
   "metadata": {},
   "outputs": [],
   "source": [
    "if p < alpha:\n",
    "    print(\"Reject the null hypothesis\")\n",
    "else:\n",
    "    print(\"Fail to reject the null\")"
   ]
  },
  {
   "cell_type": "markdown",
   "id": "51b4d8d9",
   "metadata": {},
   "source": [
    "Null Hypothesis: Churn and internet service type are independent.\n",
    "\n",
    "Alternative Hypothesis: Churn and internet service type are dependent."
   ]
  },
  {
   "cell_type": "code",
   "execution_count": null,
   "id": "7bb869be",
   "metadata": {},
   "outputs": [],
   "source": [
    "observed = pd.crosstab(train.internet_service_type, train.churn)"
   ]
  },
  {
   "cell_type": "code",
   "execution_count": null,
   "id": "14b2d314",
   "metadata": {},
   "outputs": [],
   "source": [
    "chi2, p, degf, expected = stats.chi2_contingency(observed)\n",
    "p"
   ]
  },
  {
   "cell_type": "code",
   "execution_count": null,
   "id": "646c4aee",
   "metadata": {
    "scrolled": true
   },
   "outputs": [],
   "source": [
    "if p < alpha:\n",
    "    print(\"Reject the null hypothesis\")\n",
    "else:\n",
    "    print(\"Fail to reject the null\")"
   ]
  },
  {
   "cell_type": "markdown",
   "id": "f047ce8c",
   "metadata": {},
   "source": [
    "Null Hypothesis: Churn and having fiber optic internet are independent.\n",
    "\n",
    "Alternative Hypothesis: Churn and having fiber optic internet are dependent."
   ]
  },
  {
   "cell_type": "code",
   "execution_count": null,
   "id": "08e1351b",
   "metadata": {},
   "outputs": [],
   "source": [
    "observed = pd.crosstab(train.internet_service_type == 'Fiber optic', train.churn)"
   ]
  },
  {
   "cell_type": "code",
   "execution_count": null,
   "id": "9349b249",
   "metadata": {},
   "outputs": [],
   "source": [
    "chi2, p, degf, expected = stats.chi2_contingency(observed)\n",
    "p"
   ]
  },
  {
   "cell_type": "code",
   "execution_count": null,
   "id": "022b422e",
   "metadata": {},
   "outputs": [],
   "source": [
    "if p < alpha:\n",
    "    print(\"Reject the null hypothesis\")\n",
    "else:\n",
    "    print(\"Fail to reject the null\")"
   ]
  },
  {
   "cell_type": "markdown",
   "id": "48c64077",
   "metadata": {},
   "source": [
    "Null hypothesis: Churn and payment type are independent.\n",
    "\n",
    "Alternative hypothesis: Churn and payment type are dependent."
   ]
  },
  {
   "cell_type": "code",
   "execution_count": null,
   "id": "f82916bf",
   "metadata": {},
   "outputs": [],
   "source": [
    "observed = pd.crosstab(train.payment_type, train.churn)\n",
    "observed"
   ]
  },
  {
   "cell_type": "code",
   "execution_count": null,
   "id": "35a9ea89",
   "metadata": {},
   "outputs": [],
   "source": [
    "chi2, p, degf, expected = stats.chi2_contingency(observed)\n",
    "p"
   ]
  },
  {
   "cell_type": "code",
   "execution_count": null,
   "id": "57ab2694",
   "metadata": {},
   "outputs": [],
   "source": [
    "if p < alpha:\n",
    "    print(\"Reject the null hypothesis\")\n",
    "else:\n",
    "    print(\"Fail to reject the null\")"
   ]
  },
  {
   "cell_type": "markdown",
   "id": "6338d923",
   "metadata": {},
   "source": [
    "Null hypothesis: Churn and electronic check payments are independent.\n",
    "\n",
    "Alternative hypothesis: Churn and electronic check payments are dependent."
   ]
  },
  {
   "cell_type": "code",
   "execution_count": null,
   "id": "85094555",
   "metadata": {},
   "outputs": [],
   "source": [
    "observed = pd.crosstab(train.payment_type == 'Electronic check', train.churn)\n",
    "observed"
   ]
  },
  {
   "cell_type": "code",
   "execution_count": null,
   "id": "fa166ee0",
   "metadata": {},
   "outputs": [],
   "source": [
    "chi2, p, degf, expected = stats.chi2_contingency(observed)\n",
    "p"
   ]
  },
  {
   "cell_type": "code",
   "execution_count": null,
   "id": "f5901d8a",
   "metadata": {},
   "outputs": [],
   "source": [
    "if p < alpha:\n",
    "    print(\"Reject the null hypothesis\")\n",
    "else:\n",
    "    print(\"Fail to reject the null\")"
   ]
  },
  {
   "cell_type": "markdown",
   "id": "f87fbe31",
   "metadata": {},
   "source": [
    "Null hypothesis: Churn and online security are independent.\n",
    "\n",
    "Alternative hypothesis: Churn and online security are dependent."
   ]
  },
  {
   "cell_type": "code",
   "execution_count": null,
   "id": "764d8a74",
   "metadata": {},
   "outputs": [],
   "source": [
    "observed = pd.crosstab(train.online_security, train.churn)\n",
    "observed"
   ]
  },
  {
   "cell_type": "code",
   "execution_count": null,
   "id": "63d32c26",
   "metadata": {},
   "outputs": [],
   "source": [
    "chi2, p, degf, expected = stats.chi2_contingency(observed)\n",
    "p"
   ]
  },
  {
   "cell_type": "code",
   "execution_count": null,
   "id": "126b961d",
   "metadata": {},
   "outputs": [],
   "source": [
    "if p < alpha:\n",
    "    print(\"Reject the null hypothesis\")\n",
    "else:\n",
    "    print(\"Fail to reject the null\")"
   ]
  },
  {
   "cell_type": "markdown",
   "id": "9fabb47c",
   "metadata": {},
   "source": [
    "Null hypothesis: Churn and online backup are independent.\n",
    "\n",
    "Alternative hypothesis: Churn and online backup are dependent."
   ]
  },
  {
   "cell_type": "code",
   "execution_count": null,
   "id": "70087049",
   "metadata": {},
   "outputs": [],
   "source": [
    "observed = pd.crosstab(train.online_backup, train.churn)\n",
    "observed"
   ]
  },
  {
   "cell_type": "code",
   "execution_count": null,
   "id": "a26170d8",
   "metadata": {},
   "outputs": [],
   "source": [
    "chi2, p, degf, expected = stats.chi2_contingency(observed)\n",
    "p"
   ]
  },
  {
   "cell_type": "code",
   "execution_count": null,
   "id": "da1bcd93",
   "metadata": {},
   "outputs": [],
   "source": [
    "if p < alpha:\n",
    "    print(\"Reject the null hypothesis\")\n",
    "else:\n",
    "    print(\"Fail to reject the null\")"
   ]
  },
  {
   "cell_type": "markdown",
   "id": "5fe56ea2",
   "metadata": {},
   "source": [
    "Null hypothesis: Churn and tech support are independent.\n",
    "\n",
    "Alternative hypothesis: Churn and tech support are dependent."
   ]
  },
  {
   "cell_type": "code",
   "execution_count": null,
   "id": "b958f061",
   "metadata": {},
   "outputs": [],
   "source": [
    "observed = pd.crosstab(train.tech_support, train.churn)\n",
    "observed"
   ]
  },
  {
   "cell_type": "code",
   "execution_count": null,
   "id": "42e0bfb9",
   "metadata": {},
   "outputs": [],
   "source": [
    "chi2, p, degf, expected = stats.chi2_contingency(observed)\n",
    "p"
   ]
  },
  {
   "cell_type": "code",
   "execution_count": null,
   "id": "55a8f3b4",
   "metadata": {},
   "outputs": [],
   "source": [
    "if p < alpha:\n",
    "    print(\"Reject the null hypothesis\")\n",
    "else:\n",
    "    print(\"Fail to reject the null\")"
   ]
  },
  {
   "cell_type": "markdown",
   "id": "df7dee77",
   "metadata": {},
   "source": [
    "### Takeaways\n",
    "\n",
    "Key indicators for churn are:\n",
    "\n",
    "        Family type:\n",
    "            Seniors, those without partners, and those without dependents are more likely to churn.\n",
    "            \n",
    "        Monthly charges:\n",
    "            Those with higher monthly charges are more likely to churn.\n",
    "            \n",
    "        Payment type:\n",
    "            Those with electronic checks are more likely to churn.\n",
    "            \n",
    "        Internet type:\n",
    "            Customers with fiber optic internet churn at a higher rate.\n",
    "            \n",
    "        Add-ons:\n",
    "            Customers without tech support, online backup, or online security churn at higher rates.\n",
    "        "
   ]
  },
  {
   "cell_type": "markdown",
   "id": "cf96dfd2",
   "metadata": {},
   "source": [
    "## Modeling\n",
    "\n",
    "True Positive: Predicted that a customer has churned and they did.\n",
    "\n",
    "False Positive: Predicted that a customer has churned and they did not.\n",
    "\n",
    "True Negative: Predicted that a customer had not churned and they did not.\n",
    "\n",
    "False Negative: Predicted that a customer had not churned and they did."
   ]
  },
  {
   "cell_type": "code",
   "execution_count": null,
   "id": "14cd9ce5",
   "metadata": {},
   "outputs": [],
   "source": [
    "# determine baseline accuracy\n",
    "train.has_churned.value_counts(normalize=True)"
   ]
  },
  {
   "cell_type": "markdown",
   "id": "55d1b1d3",
   "metadata": {},
   "source": [
    "The baseline model is 73% accurate assuming that 0 customers churn."
   ]
  },
  {
   "cell_type": "markdown",
   "id": "10ce141b",
   "metadata": {},
   "source": [
    "### Decision Tree\n",
    "\n",
    "- The best model optimized for accuracy has a max depth of 4 with a train accuracy of 80% and a validation accuracy of 78%\twhich out performs the baseline model. \n"
   ]
  },
  {
   "cell_type": "code",
   "execution_count": null,
   "id": "d6324ac2",
   "metadata": {},
   "outputs": [],
   "source": [
    "# create X & y version of train, where y is a series with just the target variable and X are all the features. \n",
    "\n",
    "X_train = train.drop(columns=['customer_id', 'gender', 'partner', 'dependents',\\\n",
    "                              'phone_service', 'multiple_lines', 'online_security',\\\n",
    "                              'online_backup', 'device_protection', 'tech_support', 'streaming_tv',\\\n",
    "                              'streaming_movies', 'paperless_billing', 'churn', 'contract_type',\\\n",
    "                              'internet_service_type', 'payment_type', 'has_churned', 'is_female'])\n",
    "y_train = train.has_churned\n",
    "\n",
    "X_validate = validate.drop(columns=['customer_id', 'gender', 'partner', 'dependents',\\\n",
    "                              'phone_service', 'multiple_lines', 'online_security',\\\n",
    "                              'online_backup', 'device_protection', 'tech_support', 'streaming_tv',\\\n",
    "                              'streaming_movies', 'paperless_billing', 'churn', 'contract_type',\\\n",
    "                              'internet_service_type', 'payment_type', 'has_churned', 'is_female'])\n",
    "y_validate = validate.has_churned\n",
    "\n",
    "X_test = test.drop(columns=['customer_id', 'gender', 'partner', 'dependents',\\\n",
    "                              'phone_service', 'multiple_lines', 'online_security',\\\n",
    "                              'online_backup', 'device_protection', 'tech_support', 'streaming_tv',\\\n",
    "                              'streaming_movies', 'paperless_billing', 'churn', 'contract_type',\\\n",
    "                              'internet_service_type', 'payment_type', 'has_churned', 'is_female'])\n",
    "y_test = test.has_churned"
   ]
  },
  {
   "cell_type": "code",
   "execution_count": null,
   "id": "3c82e47f",
   "metadata": {},
   "outputs": [],
   "source": [
    "# create the decision tree\n",
    "clf = DecisionTreeClassifier(max_depth=4, random_state=123)"
   ]
  },
  {
   "cell_type": "code",
   "execution_count": null,
   "id": "b60f3885",
   "metadata": {},
   "outputs": [],
   "source": [
    "# fit the model\n",
    "clf = clf.fit(X_train, y_train)"
   ]
  },
  {
   "cell_type": "code",
   "execution_count": null,
   "id": "21c04a2d",
   "metadata": {},
   "outputs": [],
   "source": [
    "# visualize the decision tree\n",
    "plt.figure(figsize=(13, 7))\n",
    "plot_tree(clf, feature_names=X_train.columns, class_names = clf.classes_.astype(str), rounded=True)\n"
   ]
  },
  {
   "cell_type": "code",
   "execution_count": null,
   "id": "25061c4b",
   "metadata": {},
   "outputs": [],
   "source": [
    "# make prediction on train obeservations\n",
    "\n",
    "y_pred1 = clf.predict(X_train)\n",
    "y_pred1[0:5]\n"
   ]
  },
  {
   "cell_type": "code",
   "execution_count": null,
   "id": "393957cf",
   "metadata": {},
   "outputs": [],
   "source": [
    "y_pred_proba1 = clf.predict_proba(X_train)\n",
    "y_pred_proba1[0:5]\n"
   ]
  },
  {
   "cell_type": "code",
   "execution_count": null,
   "id": "20547cc1",
   "metadata": {},
   "outputs": [],
   "source": [
    "print('Accuracy of Decision Tree classifier on training set: {:.2f}'\n",
    "      .format(clf.score(X_train, y_train)))"
   ]
  },
  {
   "cell_type": "markdown",
   "id": "d6d19a82",
   "metadata": {},
   "source": [
    "My deicision tree model beats baseline."
   ]
  },
  {
   "cell_type": "code",
   "execution_count": null,
   "id": "06c994b7",
   "metadata": {},
   "outputs": [],
   "source": [
    "# confusion matrix\n",
    "\n",
    "confusion_matrix(y_train, y_pred1)\n"
   ]
  },
  {
   "cell_type": "code",
   "execution_count": null,
   "id": "eea6033e",
   "metadata": {},
   "outputs": [],
   "source": [
    "print(classification_report(y_train, y_pred1))"
   ]
  },
  {
   "cell_type": "code",
   "execution_count": null,
   "id": "9bb9c9e9",
   "metadata": {},
   "outputs": [],
   "source": [
    "print('Accuracy of Decision Tree classifier on validate set: {:.2f}'\n",
    "     .format(clf.score(X_validate, y_validate)))\n"
   ]
  },
  {
   "cell_type": "code",
   "execution_count": null,
   "id": "b6eab008",
   "metadata": {},
   "outputs": [],
   "source": [
    "y_pred_val = clf.predict(X_validate)\n",
    "print(classification_report(y_validate, y_pred_val))"
   ]
  },
  {
   "cell_type": "code",
   "execution_count": null,
   "id": "ffad485e",
   "metadata": {},
   "outputs": [],
   "source": []
  },
  {
   "cell_type": "code",
   "execution_count": null,
   "id": "9def6d47",
   "metadata": {},
   "outputs": [],
   "source": [
    "for i in range(2, 21):\n",
    "    # Make the model\n",
    "    tree = DecisionTreeClassifier(max_depth=i, random_state=123)\n",
    "\n",
    "    # Fit the model (on train and only train)\n",
    "    tree = tree.fit(X_train, y_train)\n",
    "\n",
    "    # Use the model\n",
    "    # We'll evaluate the model's performance on train, first\n",
    "    y_predictions = tree.predict(X_train)\n",
    "\n",
    "    # Produce the classification report on the actual y values and this model's predicted y values\n",
    "    report = classification_report(y_train, y_predictions, output_dict=True)\n",
    "    print(f\"Tree with max depth of {i}\")\n",
    "    print(pd.DataFrame(report))\n",
    "    print()"
   ]
  },
  {
   "cell_type": "code",
   "execution_count": null,
   "id": "9f0a8eea",
   "metadata": {},
   "outputs": [],
   "source": [
    "# Compare accuracy for in-sample and out-of-sample data\n",
    "metrics = []\n",
    "\n",
    "for i in range(2, 19):\n",
    "    # Make the model\n",
    "    tree = DecisionTreeClassifier(max_depth=i, random_state=123)\n",
    "\n",
    "    # Fit the model (on train and only train)\n",
    "    tree = tree.fit(X_train, y_train)\n",
    "\n",
    "    # Use the model\n",
    "    # We'll evaluate the model's performance on train, first\n",
    "    in_sample_accuracy = tree.score(X_train, y_train)\n",
    "    \n",
    "    out_of_sample_accuracy = tree.score(X_validate, y_validate)\n",
    "\n",
    "    output = {\n",
    "        \"max_depth\": i,\n",
    "        \"train_accuracy\": in_sample_accuracy,\n",
    "        \"validate_accuracy\": out_of_sample_accuracy\n",
    "    }\n",
    "    \n",
    "    metrics.append(output)\n",
    "    \n",
    "df = pd.DataFrame(metrics)\n",
    "df[\"difference\"] = df.train_accuracy - df.validate_accuracy\n",
    "df"
   ]
  },
  {
   "cell_type": "code",
   "execution_count": null,
   "id": "11dd7f69",
   "metadata": {},
   "outputs": [],
   "source": [
    "# create the decision tree\n",
    "clf = DecisionTreeClassifier(max_depth=9, random_state=123)\n",
    "\n",
    "# fit the model\n",
    "clf = clf.fit(X_train, y_train)\n",
    "\n",
    "# visualize the decision tree\n",
    "plt.figure(figsize=(13, 7))\n",
    "plot_tree(clf, feature_names=X_train.columns, class_names = clf.classes_.astype(str), rounded=True)\n",
    "\n",
    "\n",
    "# make prediction on train obeservations\n",
    "\n",
    "y_pred2 = clf.predict(X_train)\n",
    "y_pred[0:5]\n",
    "\n",
    "\n",
    "y_pred_proba2 = clf.predict_proba(X_train)\n",
    "y_pred_proba[0:5]\n",
    "\n",
    "\n",
    "print('Accuracy of Decision Tree classifier on training set: {:.2f}'\n",
    "      .format(clf.score(X_train, y_train)))\n",
    "\n",
    "\n"
   ]
  },
  {
   "cell_type": "code",
   "execution_count": null,
   "id": "8a54671e",
   "metadata": {},
   "outputs": [],
   "source": [
    "print(classification_report(y_train, y_pred2))"
   ]
  },
  {
   "cell_type": "code",
   "execution_count": null,
   "id": "4ac272cc",
   "metadata": {},
   "outputs": [],
   "source": [
    "print('Accuracy of Decision Tree classifier on validate set: {:.2f}'\n",
    "     .format(clf.score(X_validate, y_validate)))\n"
   ]
  },
  {
   "cell_type": "code",
   "execution_count": null,
   "id": "ab44df83",
   "metadata": {},
   "outputs": [],
   "source": [
    "y_pred2=clf.predict(X_validate)"
   ]
  },
  {
   "cell_type": "code",
   "execution_count": null,
   "id": "dba31ae7",
   "metadata": {},
   "outputs": [],
   "source": [
    "print(classification_report(y_validate, y_pred2))"
   ]
  },
  {
   "cell_type": "markdown",
   "id": "86dc5208",
   "metadata": {},
   "source": [
    "### Random Forest"
   ]
  },
  {
   "cell_type": "code",
   "execution_count": 20,
   "id": "93eb6a39",
   "metadata": {},
   "outputs": [],
   "source": [
    "# create X & y version of train, where y is a series with just the target variable and X are all the features. \n",
    "\n",
    "X_train = train.drop(columns=['customer_id', 'gender', 'partner', 'dependents',\\\n",
    "                              'phone_service', 'multiple_lines', 'online_security',\\\n",
    "                              'online_backup', 'device_protection', 'tech_support', 'streaming_tv',\\\n",
    "                              'streaming_movies', 'paperless_billing', 'churn', 'contract_type',\\\n",
    "                              'internet_service_type', 'payment_type', 'has_churned', 'is_female'])\n",
    "y_train = train.has_churned\n",
    "\n",
    "X_validate = validate.drop(columns=['customer_id', 'gender', 'partner', 'dependents',\\\n",
    "                              'phone_service', 'multiple_lines', 'online_security',\\\n",
    "                              'online_backup', 'device_protection', 'tech_support', 'streaming_tv',\\\n",
    "                              'streaming_movies', 'paperless_billing', 'churn', 'contract_type',\\\n",
    "                              'internet_service_type', 'payment_type', 'has_churned', 'is_female'])\n",
    "y_validate = validate.has_churned\n",
    "\n",
    "X_test = test.drop(columns=['customer_id', 'gender', 'partner', 'dependents',\\\n",
    "                              'phone_service', 'multiple_lines', 'online_security',\\\n",
    "                              'online_backup', 'device_protection', 'tech_support', 'streaming_tv',\\\n",
    "                              'streaming_movies', 'paperless_billing', 'churn', 'contract_type',\\\n",
    "                              'internet_service_type', 'payment_type', 'has_churned', 'is_female'])\n",
    "y_test = test.has_churned"
   ]
  },
  {
   "cell_type": "code",
   "execution_count": 21,
   "id": "5aba8947",
   "metadata": {},
   "outputs": [],
   "source": [
    "rf = RandomForestClassifier(max_depth=4, random_state=123)\n"
   ]
  },
  {
   "cell_type": "code",
   "execution_count": 22,
   "id": "e549aa5b",
   "metadata": {},
   "outputs": [
    {
     "data": {
      "text/plain": [
       "RandomForestClassifier(max_depth=4, random_state=123)"
      ]
     },
     "execution_count": 22,
     "metadata": {},
     "output_type": "execute_result"
    }
   ],
   "source": [
    "rf.fit(X_train, y_train)\n"
   ]
  },
  {
   "cell_type": "code",
   "execution_count": 23,
   "id": "afed97cf",
   "metadata": {},
   "outputs": [
    {
     "name": "stdout",
     "output_type": "stream",
     "text": [
      "[0.00401548 0.21573429 0.05739278 0.15553208 0.00520697 0.00363917\n",
      " 0.00037427 0.00883254 0.03295002 0.08605933 0.13520124 0.03227966\n",
      " 0.00219958 0.08391422 0.00080804 0.00077615 0.00273981 0.01451199\n",
      " 0.03718306 0.02532239 0.00574243 0.0231366  0.02231282 0.02244684\n",
      " 0.00069119 0.01954819 0.00144885]\n"
     ]
    }
   ],
   "source": [
    "print(rf.feature_importances_)\n"
   ]
  },
  {
   "cell_type": "code",
   "execution_count": 24,
   "id": "6862bca8",
   "metadata": {},
   "outputs": [
    {
     "data": {
      "text/plain": [
       "array([0, 0, 0, 0, 0])"
      ]
     },
     "execution_count": 24,
     "metadata": {},
     "output_type": "execute_result"
    }
   ],
   "source": [
    "y_pred = rf.predict(X_train)\n",
    "y_pred[0:5]"
   ]
  },
  {
   "cell_type": "code",
   "execution_count": 25,
   "id": "6626a0d1",
   "metadata": {},
   "outputs": [
    {
     "data": {
      "text/plain": [
       "array([[0.86879415, 0.13120585],\n",
       "       [0.78783747, 0.21216253],\n",
       "       [0.91445475, 0.08554525],\n",
       "       [0.75520263, 0.24479737],\n",
       "       [0.85799072, 0.14200928]])"
      ]
     },
     "execution_count": 25,
     "metadata": {},
     "output_type": "execute_result"
    }
   ],
   "source": [
    "y_pred_proba = rf.predict_proba(X_train)\n",
    "y_pred_proba[0:5]"
   ]
  },
  {
   "cell_type": "code",
   "execution_count": 26,
   "id": "5825f322",
   "metadata": {},
   "outputs": [
    {
     "name": "stdout",
     "output_type": "stream",
     "text": [
      "Accuracy of random forest classifier on training set: 0.80\n"
     ]
    }
   ],
   "source": [
    "print('Accuracy of random forest classifier on training set: {:.2f}'\n",
    "     .format(rf.score(X_train, y_train)))\n"
   ]
  },
  {
   "cell_type": "code",
   "execution_count": 27,
   "id": "669effb8",
   "metadata": {},
   "outputs": [
    {
     "name": "stdout",
     "output_type": "stream",
     "text": [
      "              precision    recall  f1-score   support\n",
      "\n",
      "           0       0.82      0.94      0.87      2891\n",
      "           1       0.72      0.42      0.53      1046\n",
      "\n",
      "    accuracy                           0.80      3937\n",
      "   macro avg       0.77      0.68      0.70      3937\n",
      "weighted avg       0.79      0.80      0.78      3937\n",
      "\n"
     ]
    }
   ],
   "source": [
    "print(classification_report(y_train, y_pred))\n"
   ]
  },
  {
   "cell_type": "code",
   "execution_count": 28,
   "id": "c3aa2f40",
   "metadata": {},
   "outputs": [
    {
     "name": "stdout",
     "output_type": "stream",
     "text": [
      "Accuracy of random forest classifier on test set: 0.79\n"
     ]
    }
   ],
   "source": [
    "print('Accuracy of random forest classifier on test set: {:.2f}'\n",
    "     .format(rf.score(X_validate, y_validate)))\n"
   ]
  },
  {
   "cell_type": "code",
   "execution_count": 29,
   "id": "b41929eb",
   "metadata": {},
   "outputs": [],
   "source": [
    "y_pred = rf.predict(X_validate)"
   ]
  },
  {
   "cell_type": "code",
   "execution_count": 30,
   "id": "3f470636",
   "metadata": {},
   "outputs": [
    {
     "name": "stdout",
     "output_type": "stream",
     "text": [
      "              precision    recall  f1-score   support\n",
      "\n",
      "           0       0.81      0.92      0.86      1239\n",
      "           1       0.66      0.41      0.50       449\n",
      "\n",
      "    accuracy                           0.79      1688\n",
      "   macro avg       0.73      0.66      0.68      1688\n",
      "weighted avg       0.77      0.79      0.77      1688\n",
      "\n"
     ]
    }
   ],
   "source": [
    "print(classification_report(y_validate, y_pred))"
   ]
  },
  {
   "cell_type": "code",
   "execution_count": 31,
   "id": "754cce9c",
   "metadata": {},
   "outputs": [
    {
     "data": {
      "text/html": [
       "<div>\n",
       "<style scoped>\n",
       "    .dataframe tbody tr th:only-of-type {\n",
       "        vertical-align: middle;\n",
       "    }\n",
       "\n",
       "    .dataframe tbody tr th {\n",
       "        vertical-align: top;\n",
       "    }\n",
       "\n",
       "    .dataframe thead th {\n",
       "        text-align: right;\n",
       "    }\n",
       "</style>\n",
       "<table border=\"1\" class=\"dataframe\">\n",
       "  <thead>\n",
       "    <tr style=\"text-align: right;\">\n",
       "      <th></th>\n",
       "      <th>max_depth</th>\n",
       "      <th>train_accuracy</th>\n",
       "      <th>validate_accuracy</th>\n",
       "      <th>difference</th>\n",
       "    </tr>\n",
       "  </thead>\n",
       "  <tbody>\n",
       "    <tr>\n",
       "      <th>0</th>\n",
       "      <td>2</td>\n",
       "      <td>0.764288</td>\n",
       "      <td>0.751185</td>\n",
       "      <td>0.013103</td>\n",
       "    </tr>\n",
       "    <tr>\n",
       "      <th>1</th>\n",
       "      <td>3</td>\n",
       "      <td>0.790704</td>\n",
       "      <td>0.771919</td>\n",
       "      <td>0.018784</td>\n",
       "    </tr>\n",
       "    <tr>\n",
       "      <th>2</th>\n",
       "      <td>4</td>\n",
       "      <td>0.802134</td>\n",
       "      <td>0.785545</td>\n",
       "      <td>0.016589</td>\n",
       "    </tr>\n",
       "    <tr>\n",
       "      <th>3</th>\n",
       "      <td>5</td>\n",
       "      <td>0.807214</td>\n",
       "      <td>0.787322</td>\n",
       "      <td>0.019891</td>\n",
       "    </tr>\n",
       "    <tr>\n",
       "      <th>4</th>\n",
       "      <td>6</td>\n",
       "      <td>0.813310</td>\n",
       "      <td>0.786730</td>\n",
       "      <td>0.026580</td>\n",
       "    </tr>\n",
       "    <tr>\n",
       "      <th>5</th>\n",
       "      <td>7</td>\n",
       "      <td>0.824994</td>\n",
       "      <td>0.795616</td>\n",
       "      <td>0.029378</td>\n",
       "    </tr>\n",
       "    <tr>\n",
       "      <th>6</th>\n",
       "      <td>8</td>\n",
       "      <td>0.840996</td>\n",
       "      <td>0.796801</td>\n",
       "      <td>0.044195</td>\n",
       "    </tr>\n",
       "    <tr>\n",
       "      <th>7</th>\n",
       "      <td>9</td>\n",
       "      <td>0.860808</td>\n",
       "      <td>0.789100</td>\n",
       "      <td>0.071708</td>\n",
       "    </tr>\n",
       "    <tr>\n",
       "      <th>8</th>\n",
       "      <td>10</td>\n",
       "      <td>0.886716</td>\n",
       "      <td>0.786137</td>\n",
       "      <td>0.100578</td>\n",
       "    </tr>\n",
       "    <tr>\n",
       "      <th>9</th>\n",
       "      <td>11</td>\n",
       "      <td>0.916942</td>\n",
       "      <td>0.786137</td>\n",
       "      <td>0.130804</td>\n",
       "    </tr>\n",
       "    <tr>\n",
       "      <th>10</th>\n",
       "      <td>12</td>\n",
       "      <td>0.951740</td>\n",
       "      <td>0.787322</td>\n",
       "      <td>0.164418</td>\n",
       "    </tr>\n",
       "    <tr>\n",
       "      <th>11</th>\n",
       "      <td>13</td>\n",
       "      <td>0.975362</td>\n",
       "      <td>0.777251</td>\n",
       "      <td>0.198111</td>\n",
       "    </tr>\n",
       "    <tr>\n",
       "      <th>12</th>\n",
       "      <td>14</td>\n",
       "      <td>0.988316</td>\n",
       "      <td>0.778436</td>\n",
       "      <td>0.209880</td>\n",
       "    </tr>\n",
       "    <tr>\n",
       "      <th>13</th>\n",
       "      <td>15</td>\n",
       "      <td>0.992888</td>\n",
       "      <td>0.780213</td>\n",
       "      <td>0.212675</td>\n",
       "    </tr>\n",
       "    <tr>\n",
       "      <th>14</th>\n",
       "      <td>16</td>\n",
       "      <td>0.994920</td>\n",
       "      <td>0.771327</td>\n",
       "      <td>0.223593</td>\n",
       "    </tr>\n",
       "    <tr>\n",
       "      <th>15</th>\n",
       "      <td>17</td>\n",
       "      <td>0.996698</td>\n",
       "      <td>0.774289</td>\n",
       "      <td>0.222409</td>\n",
       "    </tr>\n",
       "    <tr>\n",
       "      <th>16</th>\n",
       "      <td>18</td>\n",
       "      <td>0.996952</td>\n",
       "      <td>0.766588</td>\n",
       "      <td>0.230364</td>\n",
       "    </tr>\n",
       "  </tbody>\n",
       "</table>\n",
       "</div>"
      ],
      "text/plain": [
       "    max_depth  train_accuracy  validate_accuracy  difference\n",
       "0           2        0.764288           0.751185    0.013103\n",
       "1           3        0.790704           0.771919    0.018784\n",
       "2           4        0.802134           0.785545    0.016589\n",
       "3           5        0.807214           0.787322    0.019891\n",
       "4           6        0.813310           0.786730    0.026580\n",
       "5           7        0.824994           0.795616    0.029378\n",
       "6           8        0.840996           0.796801    0.044195\n",
       "7           9        0.860808           0.789100    0.071708\n",
       "8          10        0.886716           0.786137    0.100578\n",
       "9          11        0.916942           0.786137    0.130804\n",
       "10         12        0.951740           0.787322    0.164418\n",
       "11         13        0.975362           0.777251    0.198111\n",
       "12         14        0.988316           0.778436    0.209880\n",
       "13         15        0.992888           0.780213    0.212675\n",
       "14         16        0.994920           0.771327    0.223593\n",
       "15         17        0.996698           0.774289    0.222409\n",
       "16         18        0.996952           0.766588    0.230364"
      ]
     },
     "execution_count": 31,
     "metadata": {},
     "output_type": "execute_result"
    }
   ],
   "source": [
    "metrics = []\n",
    "\n",
    "for i in range(2, 19):\n",
    "    # Make the model\n",
    "    forest = RandomForestClassifier(max_depth=i, random_state=123)\n",
    "\n",
    "    # Fit the model (on train and only train)\n",
    "    forest = forest.fit(X_train, y_train)\n",
    "\n",
    "    # Use the model\n",
    "    # We'll evaluate the model's performance on train, first\n",
    "    in_sample_accuracy = forest.score(X_train, y_train)\n",
    "    \n",
    "    out_of_sample_accuracy = forest.score(X_validate, y_validate)\n",
    "\n",
    "    output = {\n",
    "        \"max_depth\": i,\n",
    "        \"train_accuracy\": in_sample_accuracy,\n",
    "        \"validate_accuracy\": out_of_sample_accuracy\n",
    "    }\n",
    "    \n",
    "    metrics.append(output)\n",
    "    \n",
    "df = pd.DataFrame(metrics)\n",
    "df[\"difference\"] = df.train_accuracy - df.validate_accuracy\n",
    "df"
   ]
  },
  {
   "cell_type": "markdown",
   "id": "4186d07d",
   "metadata": {},
   "source": [
    "### K- Nearest Neighbor\n",
    "\n",
    "- The best KNN model is when k = 8\twith a training accuracy of 81% and a validation accuracy of 78%. Recall rate on validation data for the positive case is 43%."
   ]
  },
  {
   "cell_type": "code",
   "execution_count": null,
   "id": "be356e7a",
   "metadata": {},
   "outputs": [],
   "source": [
    "# create X & y version of train, where y is a series with just the target variable and X are all the features. \n",
    "\n",
    "X_train = train.drop(columns=['customer_id', 'gender', 'partner', 'dependents',\\\n",
    "                              'phone_service', 'multiple_lines', 'online_security',\\\n",
    "                              'online_backup', 'device_protection', 'tech_support', 'streaming_tv',\\\n",
    "                              'streaming_movies', 'paperless_billing', 'churn', 'contract_type',\\\n",
    "                              'internet_service_type', 'payment_type', 'has_churned', 'is_female'])\n",
    "y_train = train.has_churned\n",
    "\n",
    "X_validate = validate.drop(columns=['customer_id', 'gender', 'partner', 'dependents',\\\n",
    "                              'phone_service', 'multiple_lines', 'online_security',\\\n",
    "                              'online_backup', 'device_protection', 'tech_support', 'streaming_tv',\\\n",
    "                              'streaming_movies', 'paperless_billing', 'churn', 'contract_type',\\\n",
    "                              'internet_service_type', 'payment_type', 'has_churned', 'is_female'])\n",
    "y_validate = validate.has_churned\n",
    "\n",
    "X_test = test.drop(columns=['customer_id', 'gender', 'partner', 'dependents',\\\n",
    "                              'phone_service', 'multiple_lines', 'online_security',\\\n",
    "                              'online_backup', 'device_protection', 'tech_support', 'streaming_tv',\\\n",
    "                              'streaming_movies', 'paperless_billing', 'churn', 'contract_type',\\\n",
    "                              'internet_service_type', 'payment_type', 'has_churned', 'is_female'])\n",
    "y_test = test.has_churned"
   ]
  },
  {
   "cell_type": "code",
   "execution_count": null,
   "id": "c7b8bd6f",
   "metadata": {},
   "outputs": [],
   "source": [
    "knn = KNeighborsClassifier(n_neighbors=15, weights='uniform')"
   ]
  },
  {
   "cell_type": "code",
   "execution_count": null,
   "id": "881d1697",
   "metadata": {},
   "outputs": [],
   "source": [
    "knn.fit(X_train, y_train)\n"
   ]
  },
  {
   "cell_type": "code",
   "execution_count": null,
   "id": "52b4c8c4",
   "metadata": {},
   "outputs": [],
   "source": [
    "y_pred = knn.predict(X_train)\n",
    "y_pred[0:5]"
   ]
  },
  {
   "cell_type": "code",
   "execution_count": null,
   "id": "2a6a57c7",
   "metadata": {},
   "outputs": [],
   "source": [
    "y_pred_proba = knn.predict_proba(X_train)\n",
    "y_pred_proba[0:5]"
   ]
  },
  {
   "cell_type": "code",
   "execution_count": null,
   "id": "3892ef8d",
   "metadata": {},
   "outputs": [],
   "source": [
    "print('Accuracy of KNN classifier on training set: {:.2f}'\n",
    "     .format(knn.score(X_train, y_train)))\n"
   ]
  },
  {
   "cell_type": "code",
   "execution_count": null,
   "id": "c46cc476",
   "metadata": {},
   "outputs": [],
   "source": [
    "print(classification_report(y_train, y_pred))\n"
   ]
  },
  {
   "cell_type": "code",
   "execution_count": null,
   "id": "357dced2",
   "metadata": {},
   "outputs": [],
   "source": [
    "print('Accuracy of KNN classifier on validate set: {:.2f}'\n",
    "     .format(knn.score(X_validate, y_validate)))\n"
   ]
  },
  {
   "cell_type": "code",
   "execution_count": 32,
   "id": "b46605a8",
   "metadata": {},
   "outputs": [
    {
     "data": {
      "text/html": [
       "<div>\n",
       "<style scoped>\n",
       "    .dataframe tbody tr th:only-of-type {\n",
       "        vertical-align: middle;\n",
       "    }\n",
       "\n",
       "    .dataframe tbody tr th {\n",
       "        vertical-align: top;\n",
       "    }\n",
       "\n",
       "    .dataframe thead th {\n",
       "        text-align: right;\n",
       "    }\n",
       "</style>\n",
       "<table border=\"1\" class=\"dataframe\">\n",
       "  <thead>\n",
       "    <tr style=\"text-align: right;\">\n",
       "      <th></th>\n",
       "      <th>k</th>\n",
       "      <th>train_accuracy</th>\n",
       "      <th>validate_accuracy</th>\n",
       "      <th>difference</th>\n",
       "    </tr>\n",
       "  </thead>\n",
       "  <tbody>\n",
       "    <tr>\n",
       "      <th>0</th>\n",
       "      <td>3</td>\n",
       "      <td>0.858522</td>\n",
       "      <td>0.740521</td>\n",
       "      <td>0.118000</td>\n",
       "    </tr>\n",
       "    <tr>\n",
       "      <th>1</th>\n",
       "      <td>4</td>\n",
       "      <td>0.832868</td>\n",
       "      <td>0.765995</td>\n",
       "      <td>0.066872</td>\n",
       "    </tr>\n",
       "    <tr>\n",
       "      <th>2</th>\n",
       "      <td>5</td>\n",
       "      <td>0.830582</td>\n",
       "      <td>0.755924</td>\n",
       "      <td>0.074657</td>\n",
       "    </tr>\n",
       "    <tr>\n",
       "      <th>3</th>\n",
       "      <td>6</td>\n",
       "      <td>0.818898</td>\n",
       "      <td>0.772512</td>\n",
       "      <td>0.046386</td>\n",
       "    </tr>\n",
       "    <tr>\n",
       "      <th>4</th>\n",
       "      <td>7</td>\n",
       "      <td>0.819406</td>\n",
       "      <td>0.776066</td>\n",
       "      <td>0.043339</td>\n",
       "    </tr>\n",
       "    <tr>\n",
       "      <th>5</th>\n",
       "      <td>8</td>\n",
       "      <td>0.812802</td>\n",
       "      <td>0.783768</td>\n",
       "      <td>0.029034</td>\n",
       "    </tr>\n",
       "    <tr>\n",
       "      <th>6</th>\n",
       "      <td>9</td>\n",
       "      <td>0.815342</td>\n",
       "      <td>0.777844</td>\n",
       "      <td>0.037498</td>\n",
       "    </tr>\n",
       "    <tr>\n",
       "      <th>7</th>\n",
       "      <td>10</td>\n",
       "      <td>0.809246</td>\n",
       "      <td>0.770142</td>\n",
       "      <td>0.039103</td>\n",
       "    </tr>\n",
       "    <tr>\n",
       "      <th>8</th>\n",
       "      <td>11</td>\n",
       "      <td>0.811786</td>\n",
       "      <td>0.769550</td>\n",
       "      <td>0.042236</td>\n",
       "    </tr>\n",
       "    <tr>\n",
       "      <th>9</th>\n",
       "      <td>12</td>\n",
       "      <td>0.805944</td>\n",
       "      <td>0.773697</td>\n",
       "      <td>0.032247</td>\n",
       "    </tr>\n",
       "    <tr>\n",
       "      <th>10</th>\n",
       "      <td>13</td>\n",
       "      <td>0.806960</td>\n",
       "      <td>0.773697</td>\n",
       "      <td>0.033263</td>\n",
       "    </tr>\n",
       "    <tr>\n",
       "      <th>11</th>\n",
       "      <td>14</td>\n",
       "      <td>0.800864</td>\n",
       "      <td>0.774882</td>\n",
       "      <td>0.025982</td>\n",
       "    </tr>\n",
       "    <tr>\n",
       "      <th>12</th>\n",
       "      <td>15</td>\n",
       "      <td>0.803912</td>\n",
       "      <td>0.778436</td>\n",
       "      <td>0.025476</td>\n",
       "    </tr>\n",
       "    <tr>\n",
       "      <th>13</th>\n",
       "      <td>16</td>\n",
       "      <td>0.801372</td>\n",
       "      <td>0.774882</td>\n",
       "      <td>0.026490</td>\n",
       "    </tr>\n",
       "    <tr>\n",
       "      <th>14</th>\n",
       "      <td>17</td>\n",
       "      <td>0.799086</td>\n",
       "      <td>0.773104</td>\n",
       "      <td>0.025981</td>\n",
       "    </tr>\n",
       "    <tr>\n",
       "      <th>15</th>\n",
       "      <td>18</td>\n",
       "      <td>0.798324</td>\n",
       "      <td>0.773104</td>\n",
       "      <td>0.025219</td>\n",
       "    </tr>\n",
       "    <tr>\n",
       "      <th>16</th>\n",
       "      <td>19</td>\n",
       "      <td>0.797054</td>\n",
       "      <td>0.773104</td>\n",
       "      <td>0.023949</td>\n",
       "    </tr>\n",
       "    <tr>\n",
       "      <th>17</th>\n",
       "      <td>20</td>\n",
       "      <td>0.794768</td>\n",
       "      <td>0.771919</td>\n",
       "      <td>0.022848</td>\n",
       "    </tr>\n",
       "  </tbody>\n",
       "</table>\n",
       "</div>"
      ],
      "text/plain": [
       "     k  train_accuracy  validate_accuracy  difference\n",
       "0    3        0.858522           0.740521    0.118000\n",
       "1    4        0.832868           0.765995    0.066872\n",
       "2    5        0.830582           0.755924    0.074657\n",
       "3    6        0.818898           0.772512    0.046386\n",
       "4    7        0.819406           0.776066    0.043339\n",
       "5    8        0.812802           0.783768    0.029034\n",
       "6    9        0.815342           0.777844    0.037498\n",
       "7   10        0.809246           0.770142    0.039103\n",
       "8   11        0.811786           0.769550    0.042236\n",
       "9   12        0.805944           0.773697    0.032247\n",
       "10  13        0.806960           0.773697    0.033263\n",
       "11  14        0.800864           0.774882    0.025982\n",
       "12  15        0.803912           0.778436    0.025476\n",
       "13  16        0.801372           0.774882    0.026490\n",
       "14  17        0.799086           0.773104    0.025981\n",
       "15  18        0.798324           0.773104    0.025219\n",
       "16  19        0.797054           0.773104    0.023949\n",
       "17  20        0.794768           0.771919    0.022848"
      ]
     },
     "execution_count": 32,
     "metadata": {},
     "output_type": "execute_result"
    }
   ],
   "source": [
    "metrics = []\n",
    "\n",
    "# loop through different values of k\n",
    "for k in range(3, 21):\n",
    "            \n",
    "    # define the thing\n",
    "    knn = KNeighborsClassifier(n_neighbors=k)\n",
    "    \n",
    "    # fit the thing (remmeber only fit on training data)\n",
    "    knn.fit(X_train, y_train)\n",
    "    \n",
    "    # use the thing (calculate accuracy)\n",
    "    train_accuracy = knn.score(X_train, y_train)\n",
    "    validate_accuracy = knn.score(X_validate, y_validate)\n",
    "    \n",
    "    output = {\n",
    "        \"k\": k,\n",
    "        \"train_accuracy\": train_accuracy,\n",
    "        \"validate_accuracy\": validate_accuracy\n",
    "    }\n",
    "    \n",
    "    metrics.append(output)\n",
    "\n",
    "df = pd.DataFrame(metrics)\n",
    "df[\"difference\"] = df.train_accuracy - df.validate_accuracy\n",
    "df"
   ]
  },
  {
   "cell_type": "code",
   "execution_count": null,
   "id": "ea213b5d",
   "metadata": {},
   "outputs": [],
   "source": [
    "y_pred = knn.predict(X_validate)"
   ]
  },
  {
   "cell_type": "code",
   "execution_count": null,
   "id": "f8b72b44",
   "metadata": {},
   "outputs": [],
   "source": [
    "print(classification_report(y_validate, y_pred))"
   ]
  },
  {
   "cell_type": "markdown",
   "id": "c884e715",
   "metadata": {},
   "source": [
    "### Logistic Regression - Model 1\n",
    "\n",
    "- The logistic regression model has a training accuracy of 76% with a validation accuracy of 73%."
   ]
  },
  {
   "cell_type": "code",
   "execution_count": null,
   "id": "3b15dd20",
   "metadata": {},
   "outputs": [],
   "source": [
    "# create X & y version of train, where y is a series with just the target variable and X are all the features. \n",
    "\n",
    "X_train = train.drop(columns=['customer_id', 'gender', 'partner', 'dependents',\\\n",
    "                              'phone_service', 'multiple_lines', 'online_security',\\\n",
    "                              'online_backup', 'device_protection', 'tech_support', 'streaming_tv',\\\n",
    "                              'streaming_movies', 'paperless_billing', 'churn', 'contract_type',\\\n",
    "                              'internet_service_type', 'payment_type', 'has_churned', 'is_female'])\n",
    "y_train = train.has_churned\n",
    "\n",
    "X_validate = validate.drop(columns=['customer_id', 'gender', 'partner', 'dependents',\\\n",
    "                              'phone_service', 'multiple_lines', 'online_security',\\\n",
    "                              'online_backup', 'device_protection', 'tech_support', 'streaming_tv',\\\n",
    "                              'streaming_movies', 'paperless_billing', 'churn', 'contract_type',\\\n",
    "                              'internet_service_type', 'payment_type', 'has_churned', 'is_female'])\n",
    "y_validate = validate.has_churned\n",
    "\n",
    "X_test = test.drop(columns=['customer_id', 'gender', 'partner', 'dependents',\\\n",
    "                              'phone_service', 'multiple_lines', 'online_security',\\\n",
    "                              'online_backup', 'device_protection', 'tech_support', 'streaming_tv',\\\n",
    "                              'streaming_movies', 'paperless_billing', 'churn', 'contract_type',\\\n",
    "                              'internet_service_type', 'payment_type', 'has_churned', 'is_female'])\n",
    "y_test = test.has_churned"
   ]
  },
  {
   "cell_type": "code",
   "execution_count": null,
   "id": "662fc77c",
   "metadata": {},
   "outputs": [],
   "source": [
    "# from sklearn.linear_model import LogisticRegression\n",
    "logit = LogisticRegression(C=1, class_weight='balanced', random_state=123, intercept_scaling=1, solver='lbfgs')\n",
    "\n"
   ]
  },
  {
   "cell_type": "code",
   "execution_count": null,
   "id": "c8ca50a6",
   "metadata": {},
   "outputs": [],
   "source": [
    "logit.fit(X_train, y_train)\n"
   ]
  },
  {
   "cell_type": "code",
   "execution_count": null,
   "id": "3b2d2b50",
   "metadata": {},
   "outputs": [],
   "source": [
    "print('Coefficient: \\n', logit.coef_)\n",
    "print('Intercept: \\n', logit.intercept_)\n"
   ]
  },
  {
   "cell_type": "code",
   "execution_count": null,
   "id": "a902fdb4",
   "metadata": {},
   "outputs": [],
   "source": [
    "print('Accuracy of Logistic Regression classifier on training set: {:.2f}'\n",
    "     .format(logit.score(X_train, y_train)))\n"
   ]
  },
  {
   "cell_type": "code",
   "execution_count": null,
   "id": "56546f39",
   "metadata": {},
   "outputs": [],
   "source": [
    "y_pred = logit.predict(X_train)\n",
    "y_pred[0:5]"
   ]
  },
  {
   "cell_type": "code",
   "execution_count": null,
   "id": "898e7e8a",
   "metadata": {},
   "outputs": [],
   "source": [
    "y_pred_proba = logit.predict_proba(X_train)\n",
    "y_pred_proba[0:5]"
   ]
  },
  {
   "cell_type": "code",
   "execution_count": null,
   "id": "9df70e2a",
   "metadata": {},
   "outputs": [],
   "source": []
  },
  {
   "cell_type": "code",
   "execution_count": null,
   "id": "e6fe0a22",
   "metadata": {},
   "outputs": [],
   "source": [
    "print('Accuracy of Logistic Regression classifier on validate set: {:.2f}'\n",
    "     .format(logit.score(X_validate, y_validate)))\n",
    "\n"
   ]
  },
  {
   "cell_type": "code",
   "execution_count": null,
   "id": "cbf99503",
   "metadata": {},
   "outputs": [],
   "source": [
    "print(classification_report(y_train, y_pred))\n"
   ]
  },
  {
   "cell_type": "code",
   "execution_count": null,
   "id": "8614cc11",
   "metadata": {},
   "outputs": [],
   "source": [
    "y_pred = logit.predict(X_validate)\n",
    "\n",
    "print(classification_report(y_validate, y_pred))"
   ]
  },
  {
   "cell_type": "markdown",
   "id": "808b9571",
   "metadata": {},
   "source": [
    "### Best fit model - Logistic Regression Model 1 - Accuracy on test data\n",
    "- This model had an 80% accuracy on train data, 73% on validation data (just above baseline). However, the model had the highest recall rate on the posiive case. The most costly event would be a false negative, predicting a customer did not churn, when in fact, they did churn. While other models would be more accurate, this model was chosen specifically for its optimization for reducing false negatives."
   ]
  },
  {
   "cell_type": "code",
   "execution_count": null,
   "id": "33e6201a",
   "metadata": {},
   "outputs": [],
   "source": [
    "print('Accuracy of Logistic Regression classifier on test set: {:.2f}'\n",
    "     .format(logit.score(X_test, y_test)))\n"
   ]
  },
  {
   "cell_type": "markdown",
   "id": "04629445",
   "metadata": {},
   "source": [
    "### Logistic Regression - Model 2"
   ]
  },
  {
   "cell_type": "code",
   "execution_count": null,
   "id": "c78da516",
   "metadata": {},
   "outputs": [],
   "source": [
    "logit2 = LogisticRegression(C=.01, class_weight='balanced', random_state=123, solver='lbfgs')\n"
   ]
  },
  {
   "cell_type": "code",
   "execution_count": null,
   "id": "e2432c03",
   "metadata": {},
   "outputs": [],
   "source": [
    "logit2.fit(X_train, y_train)"
   ]
  },
  {
   "cell_type": "code",
   "execution_count": null,
   "id": "127f2633",
   "metadata": {},
   "outputs": [],
   "source": [
    "print('Accuracy of Logistic Regression classifier on training set: {:.2f}'\n",
    "     .format(logit2.score(X_train, y_train)))\n"
   ]
  },
  {
   "cell_type": "code",
   "execution_count": null,
   "id": "8d8674fa",
   "metadata": {},
   "outputs": [],
   "source": [
    "print('Accuracy of Logistic Regression classifier on validateset: {:.2f}'\n",
    "     .format(logit2.score(X_validate, y_validate)))"
   ]
  },
  {
   "cell_type": "code",
   "execution_count": null,
   "id": "2f7531d3",
   "metadata": {},
   "outputs": [],
   "source": [
    "y_pred = logit2.predict(X_validate)\n",
    "\n",
    "print(classification_report(y_validate, y_pred))"
   ]
  },
  {
   "cell_type": "code",
   "execution_count": null,
   "id": "46bfe93a",
   "metadata": {},
   "outputs": [],
   "source": [
    "\n"
   ]
  },
  {
   "cell_type": "code",
   "execution_count": null,
   "id": "ccfef11b",
   "metadata": {},
   "outputs": [],
   "source": []
  },
  {
   "cell_type": "markdown",
   "id": "2ad4642a",
   "metadata": {},
   "source": [
    "### Logistic Regression - Model 3"
   ]
  },
  {
   "cell_type": "code",
   "execution_count": null,
   "id": "d54d3f2c",
   "metadata": {},
   "outputs": [],
   "source": [
    "print('Accuracy of Logistic Regression classifier on test set: {:.2f}'\n",
    "     .format(logit.score(X_test, y_test)))\n"
   ]
  },
  {
   "cell_type": "code",
   "execution_count": null,
   "id": "7ccfb47d",
   "metadata": {
    "scrolled": true
   },
   "outputs": [],
   "source": [
    "predictions = pd.DataFrame(np.round(logit.predict_proba(X_test),2))\n",
    "predictions.head()\n"
   ]
  },
  {
   "cell_type": "code",
   "execution_count": null,
   "id": "d3f98a18",
   "metadata": {
    "scrolled": true
   },
   "outputs": [],
   "source": [
    "predictions['prediction'] = logit.predict(X_test)\n",
    "\n",
    "predictions.head()"
   ]
  },
  {
   "cell_type": "code",
   "execution_count": null,
   "id": "2deef00c",
   "metadata": {
    "scrolled": false
   },
   "outputs": [],
   "source": [
    "test.customer_id"
   ]
  },
  {
   "cell_type": "code",
   "execution_count": null,
   "id": "58eb1d83",
   "metadata": {},
   "outputs": [],
   "source": [
    "test.set_index(\"customer_id\")"
   ]
  },
  {
   "cell_type": "code",
   "execution_count": null,
   "id": "c91965f8",
   "metadata": {},
   "outputs": [],
   "source": [
    "predictions['customer_id'] = test.index\n",
    "predictions"
   ]
  },
  {
   "cell_type": "code",
   "execution_count": null,
   "id": "5e7ab714",
   "metadata": {},
   "outputs": [],
   "source": [
    "predictions.to_csv(\"predictions.csv\")"
   ]
  },
  {
   "cell_type": "code",
   "execution_count": null,
   "id": "ac73bf59",
   "metadata": {
    "scrolled": true
   },
   "outputs": [],
   "source": [
    "predictions1 = pd.DataFrame(test.customer_id)\n",
    "predictions1.head()"
   ]
  },
  {
   "cell_type": "code",
   "execution_count": null,
   "id": "fa2e5862",
   "metadata": {},
   "outputs": [],
   "source": [
    "logit.predict(X_test)"
   ]
  },
  {
   "cell_type": "code",
   "execution_count": null,
   "id": "38a6c765",
   "metadata": {},
   "outputs": [],
   "source": [
    "prediction = pd.concat([predictions1, predictions,], axis=1)\n",
    "prediction"
   ]
  },
  {
   "cell_type": "code",
   "execution_count": null,
   "id": "d15de37b",
   "metadata": {},
   "outputs": [],
   "source": []
  },
  {
   "cell_type": "code",
   "execution_count": null,
   "id": "c0205c78",
   "metadata": {},
   "outputs": [],
   "source": []
  },
  {
   "cell_type": "code",
   "execution_count": null,
   "id": "e918d4a9",
   "metadata": {},
   "outputs": [],
   "source": [
    "predictions.to_csv(\"predictions.csv\")"
   ]
  },
  {
   "cell_type": "code",
   "execution_count": null,
   "id": "92d2008b",
   "metadata": {},
   "outputs": [],
   "source": []
  }
 ],
 "metadata": {
  "kernelspec": {
   "display_name": "Python 3 (ipykernel)",
   "language": "python",
   "name": "python3"
  },
  "language_info": {
   "codemirror_mode": {
    "name": "ipython",
    "version": 3
   },
   "file_extension": ".py",
   "mimetype": "text/x-python",
   "name": "python",
   "nbconvert_exporter": "python",
   "pygments_lexer": "ipython3",
   "version": "3.9.7"
  }
 },
 "nbformat": 4,
 "nbformat_minor": 5
}
